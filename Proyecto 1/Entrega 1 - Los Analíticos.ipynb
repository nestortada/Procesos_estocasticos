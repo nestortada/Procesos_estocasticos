{
  "cells": [
    {
      "cell_type": "markdown",
      "source": [
        "# <h1 style=\"text-align: center;\">Caso de estudio - Propiedad Markoviana y Homogeneidad</h1>\n",
        "\n",
        "**Integrantes**\n",
        "* Sofia Isabella Endara Chitiva\n",
        "* Juan David Lasso Arias\n",
        "* Néstor Andres Tabares David\n",
        "* Nicolás Joel Cáceres Parra"
      ],
      "metadata": {
        "deepnote_app_block_visible": true,
        "cell_id": "12e77308c6bd470388ab6f61354f8fde",
        "deepnote_cell_type": "markdown"
      }
    },
    {
      "cell_type": "markdown",
      "source": [
        "\n",
        "# <h1 style='text-align: center;'>Introducción</h1>\n",
        "\n",
        "Este estudio se centra en el mercado de divisas, analizando el comportamiento de las tasas de cambio del Yen Japonés (JPY), la Libra Esterlina (GBP), el Franco Suizo (CHF) y el Peso Mexicano (MXN) frente al Peso Colombiano (COP) durante los últimos cuatro años. El objetivo principal es explorar la dinámica de este mercado y evaluar si los movimientos de las tasas de cambio siguen un proceso markoviano; es decir, si el estado futuro de una variable depende únicamente de su estado presente y no de estados pasados. Al identificar las propiedades estadísticas de estos procesos, se busca desarrollar modelos probabilísticos para pronosticar los estados futuros de las divisas extranjeras. En este apartado de ejemplo, se explicará la construcción de la cadena de Markov, la prueba markoviana y la prueba de hipótesis utilizando el yen japonés (JPY) como referencia. Sin embargo, este mismo procedimiento se aplicará a todas las demás divisas."
      ],
      "metadata": {
        "deepnote_app_block_visible": true,
        "cell_id": "c4f174e820654923b3426d7839b80481",
        "deepnote_cell_type": "markdown"
      }
    },
    {
      "cell_type": "markdown",
      "source": [
        "# Librerías\n",
        "\n",
        "Para el proyecto se utilizaron las siguientes librerías que facilitan la importación, manipulación y construcción de datos y modelos usados en el caso de estudio."
      ],
      "metadata": {
        "deepnote_app_block_visible": true,
        "cell_id": "a3e6075147fd4a4194989be3ab69221d",
        "deepnote_cell_type": "markdown"
      }
    },
    {
      "cell_type": "code",
      "source": [
        "import pandas as pd #Para manejo de datos en DataFrames y funciónes de analítica de datos\n",
        "import numpy as np #Para manejo de datos numéricos y arreglos\n",
        "import matplotlib.pyplot as plt #Para la visualización de datos\n",
        "import seaborn as sns #Para la visualización de datos\n",
        "import scipy.stats as stats #Para realizar pruebas de hipótesis y estadiísticas\n",
        "import warnings #Para evitar promptes de advertencia\n",
        "warnings.filterwarnings('ignore') # evita warnings innecesarios al ejecutar código"
      ],
      "outputs": [],
      "execution_count": 1,
      "metadata": {
        "source_hash": "9bff16c0",
        "execution_start": 1724125827991,
        "execution_millis": 1207,
        "deepnote_to_be_reexecuted": false,
        "deepnote_app_block_visible": true,
        "cell_id": "a71f64d543e64b10a34e22cdcb6f3b12",
        "deepnote_cell_type": "code"
      }
    },
    {
      "cell_type": "markdown",
      "source": [
        "# Importación de datos\n",
        "\n",
        "Los datos fueron descargados directamente de la sección de [monedas disponibles](https://www.banrep.gov.co/es/estadisticas/monedas-disponibles)  en la página web del Banco de la República de Colombia, tomando el intervalo de tiempo del 6 de agosto de 2020 al 6 de agosto de 2024, con la media diaria de la tasa representativa de mercado (TRM). Este [enlace](https://totoro.banrep.gov.co/analytics/saw.dll?Go&Action=prompt&path=%2Fshared%2fSeries%20Estad%c3%adsticas_T%2F1.%20Monedas%20disponibles%2F1.2.TCM_Serie%20para%20un%20rango%20de%20fechas%20dado&Options=rdf&lang=es&NQUser=publico&NQPassword=publico123) permite realizar la consulta de los datos utilizados, teniendo en cuenta el rango de tiempos y la tasa media. El archivo fue descargado en formato CSV y cargado a un repositorio de GitHub, a partir del cual se obtuvo este [enlace](https://raw.githubusercontent.com/NicolasCacer/bases-de-datos/main/1.2.TCM_Serie%20para%20un%20rango%20de%20fechas%20dado.csv)  los datos sin procesar para que sean accesibles por cualquier persona."
      ],
      "metadata": {
        "deepnote_app_block_visible": true,
        "cell_id": "4b6d07c56b7d4d8b99fc10fe04a4b0f1",
        "deepnote_cell_type": "markdown"
      }
    },
    {
      "cell_type": "code",
      "source": [
        "url = 'https://raw.githubusercontent.com/NicolasCacer/bases-de-datos/main/1.2.TCM_Serie%20para%20un%20rango%20de%20fechas%20dado.csv'\n",
        "df = pd.read_csv(url)\n",
        "df.head()"
      ],
      "outputs": [
        {
          "output_type": "execute_result",
          "execution_count": 2,
          "data": {
            "application/vnd.deepnote.dataframe.v3+json": {
              "column_count": 8,
              "row_count": 5,
              "columns": [
                {
                  "name": "Fecha (dd/mm/aaaa)",
                  "dtype": "object",
                  "stats": {
                    "unique_count": 1,
                    "nan_count": 0,
                    "categories": [
                      {
                        "name": "2020-08-06",
                        "count": 5
                      }
                    ]
                  }
                },
                {
                  "name": " año",
                  "dtype": "int64",
                  "stats": {
                    "unique_count": 1,
                    "nan_count": 0,
                    "min": "2020",
                    "max": "2020",
                    "histogram": [
                      {
                        "bin_start": 2019.5,
                        "bin_end": 2019.6,
                        "count": 0
                      },
                      {
                        "bin_start": 2019.6,
                        "bin_end": 2019.7,
                        "count": 0
                      },
                      {
                        "bin_start": 2019.7,
                        "bin_end": 2019.8,
                        "count": 0
                      },
                      {
                        "bin_start": 2019.8,
                        "bin_end": 2019.9,
                        "count": 0
                      },
                      {
                        "bin_start": 2019.9,
                        "bin_end": 2020,
                        "count": 0
                      },
                      {
                        "bin_start": 2020,
                        "bin_end": 2020.1,
                        "count": 5
                      },
                      {
                        "bin_start": 2020.1,
                        "bin_end": 2020.2,
                        "count": 0
                      },
                      {
                        "bin_start": 2020.2,
                        "bin_end": 2020.3,
                        "count": 0
                      },
                      {
                        "bin_start": 2020.3,
                        "bin_end": 2020.4,
                        "count": 0
                      },
                      {
                        "bin_start": 2020.4,
                        "bin_end": 2020.5,
                        "count": 0
                      }
                    ]
                  }
                },
                {
                  "name": "Moneda",
                  "dtype": "object",
                  "stats": {
                    "unique_count": 2,
                    "nan_count": 0,
                    "categories": [
                      {
                        "name": "Franco suizo",
                        "count": 3
                      },
                      {
                        "name": "Libra esterlina",
                        "count": 2
                      }
                    ]
                  }
                },
                {
                  "name": "Continente",
                  "dtype": "object",
                  "stats": {
                    "unique_count": 1,
                    "nan_count": 0,
                    "categories": [
                      {
                        "name": "EUROPA",
                        "count": 5
                      }
                    ]
                  }
                },
                {
                  "name": "Tipo de cambio",
                  "dtype": "object",
                  "stats": {
                    "unique_count": 3,
                    "nan_count": 0,
                    "categories": [
                      {
                        "name": "Dólares estadounidenses por cada moneda",
                        "count": 2
                      },
                      {
                        "name": "Moneda por cada dólar estadounidense",
                        "count": 2
                      },
                      {
                        "name": "Pesos colombianos por cada moneda",
                        "count": 1
                      }
                    ]
                  }
                },
                {
                  "name": "Tipo de tasa",
                  "dtype": "object",
                  "stats": {
                    "unique_count": 1,
                    "nan_count": 0,
                    "categories": [
                      {
                        "name": "Venta",
                        "count": 5
                      }
                    ]
                  }
                },
                {
                  "name": "Tasa Cambio",
                  "dtype": "object",
                  "stats": {
                    "unique_count": 5,
                    "nan_count": 0,
                    "categories": [
                      {
                        "name": "1,098049",
                        "count": 1
                      },
                      {
                        "name": "0,9111",
                        "count": 1
                      },
                      {
                        "name": "3 others",
                        "count": 3
                      }
                    ]
                  }
                },
                {
                  "name": "Id Moneda",
                  "dtype": "object",
                  "stats": {
                    "unique_count": 2,
                    "nan_count": 0,
                    "categories": [
                      {
                        "name": "CHF",
                        "count": 3
                      },
                      {
                        "name": "GBP",
                        "count": 2
                      }
                    ]
                  }
                },
                {
                  "name": "_deepnote_index_column",
                  "dtype": "int64"
                }
              ],
              "rows": [
                {
                  "Fecha (dd/mm/aaaa)": "2020-08-06",
                  " año": 2020,
                  "Moneda": "Franco suizo",
                  "Continente": "EUROPA",
                  "Tipo de cambio": "Dólares estadounidenses por cada moneda",
                  "Tipo de tasa": "Venta",
                  "Tasa Cambio": "1,098049",
                  "Id Moneda": "CHF",
                  "_deepnote_index_column": 0
                },
                {
                  "Fecha (dd/mm/aaaa)": "2020-08-06",
                  " año": 2020,
                  "Moneda": "Franco suizo",
                  "Continente": "EUROPA",
                  "Tipo de cambio": "Moneda por cada dólar estadounidense",
                  "Tipo de tasa": "Venta",
                  "Tasa Cambio": "0,9111",
                  "Id Moneda": "CHF",
                  "_deepnote_index_column": 1
                },
                {
                  "Fecha (dd/mm/aaaa)": "2020-08-06",
                  " año": 2020,
                  "Moneda": "Franco suizo",
                  "Continente": "EUROPA",
                  "Tipo de cambio": "Pesos colombianos por cada moneda",
                  "Tipo de tasa": "Venta",
                  "Tasa Cambio": "4146,20621",
                  "Id Moneda": "CHF",
                  "_deepnote_index_column": 2
                },
                {
                  "Fecha (dd/mm/aaaa)": "2020-08-06",
                  " año": 2020,
                  "Moneda": "Libra esterlina",
                  "Continente": "EUROPA",
                  "Tipo de cambio": "Dólares estadounidenses por cada moneda",
                  "Tipo de tasa": "Venta",
                  "Tasa Cambio": "1,3145",
                  "Id Moneda": "GBP",
                  "_deepnote_index_column": 3
                },
                {
                  "Fecha (dd/mm/aaaa)": "2020-08-06",
                  " año": 2020,
                  "Moneda": "Libra esterlina",
                  "Continente": "EUROPA",
                  "Tipo de cambio": "Moneda por cada dólar estadounidense",
                  "Tipo de tasa": "Venta",
                  "Tasa Cambio": "0,76097",
                  "Id Moneda": "GBP",
                  "_deepnote_index_column": 4
                }
              ]
            },
            "text/plain": "  Fecha (dd/mm/aaaa)   año           Moneda Continente  \\\n0         2020-08-06  2020     Franco suizo     EUROPA   \n1         2020-08-06  2020     Franco suizo     EUROPA   \n2         2020-08-06  2020     Franco suizo     EUROPA   \n3         2020-08-06  2020  Libra esterlina     EUROPA   \n4         2020-08-06  2020  Libra esterlina     EUROPA   \n\n                            Tipo de cambio Tipo de tasa Tasa Cambio Id Moneda  \n0  Dólares estadounidenses por cada moneda        Venta    1,098049       CHF  \n1     Moneda por cada dólar estadounidense        Venta      0,9111       CHF  \n2        Pesos colombianos por cada moneda        Venta  4146,20621       CHF  \n3  Dólares estadounidenses por cada moneda        Venta      1,3145       GBP  \n4     Moneda por cada dólar estadounidense        Venta     0,76097       GBP  ",
            "text/html": "<div>\n<style scoped>\n    .dataframe tbody tr th:only-of-type {\n        vertical-align: middle;\n    }\n\n    .dataframe tbody tr th {\n        vertical-align: top;\n    }\n\n    .dataframe thead th {\n        text-align: right;\n    }\n</style>\n<table border=\"1\" class=\"dataframe\">\n  <thead>\n    <tr style=\"text-align: right;\">\n      <th></th>\n      <th>Fecha (dd/mm/aaaa)</th>\n      <th>año</th>\n      <th>Moneda</th>\n      <th>Continente</th>\n      <th>Tipo de cambio</th>\n      <th>Tipo de tasa</th>\n      <th>Tasa Cambio</th>\n      <th>Id Moneda</th>\n    </tr>\n  </thead>\n  <tbody>\n    <tr>\n      <th>0</th>\n      <td>2020-08-06</td>\n      <td>2020</td>\n      <td>Franco suizo</td>\n      <td>EUROPA</td>\n      <td>Dólares estadounidenses por cada moneda</td>\n      <td>Venta</td>\n      <td>1,098049</td>\n      <td>CHF</td>\n    </tr>\n    <tr>\n      <th>1</th>\n      <td>2020-08-06</td>\n      <td>2020</td>\n      <td>Franco suizo</td>\n      <td>EUROPA</td>\n      <td>Moneda por cada dólar estadounidense</td>\n      <td>Venta</td>\n      <td>0,9111</td>\n      <td>CHF</td>\n    </tr>\n    <tr>\n      <th>2</th>\n      <td>2020-08-06</td>\n      <td>2020</td>\n      <td>Franco suizo</td>\n      <td>EUROPA</td>\n      <td>Pesos colombianos por cada moneda</td>\n      <td>Venta</td>\n      <td>4146,20621</td>\n      <td>CHF</td>\n    </tr>\n    <tr>\n      <th>3</th>\n      <td>2020-08-06</td>\n      <td>2020</td>\n      <td>Libra esterlina</td>\n      <td>EUROPA</td>\n      <td>Dólares estadounidenses por cada moneda</td>\n      <td>Venta</td>\n      <td>1,3145</td>\n      <td>GBP</td>\n    </tr>\n    <tr>\n      <th>4</th>\n      <td>2020-08-06</td>\n      <td>2020</td>\n      <td>Libra esterlina</td>\n      <td>EUROPA</td>\n      <td>Moneda por cada dólar estadounidense</td>\n      <td>Venta</td>\n      <td>0,76097</td>\n      <td>GBP</td>\n    </tr>\n  </tbody>\n</table>\n</div>"
          },
          "metadata": {}
        }
      ],
      "execution_count": 2,
      "metadata": {
        "source_hash": "f5ce62a3",
        "execution_start": 1724125829202,
        "execution_millis": 311,
        "deepnote_to_be_reexecuted": false,
        "deepnote_app_block_visible": true,
        "cell_id": "a9d1eff6106b4de3b1c8a72c72f6faff",
        "deepnote_cell_type": "code"
      }
    },
    {
      "cell_type": "markdown",
      "source": [
        "Ya estando los datos almacenados en el DataFrame `df` se puede revisar si se han importado correctamente y su integridad. Por ende, se debe revisar si existen valores faltantes y reconocer la estructura original de la base de datos."
      ],
      "metadata": {
        "deepnote_app_block_visible": true,
        "cell_id": "c7b87faf8dee4060bd45a2a2f2a40419",
        "deepnote_cell_type": "markdown"
      }
    },
    {
      "cell_type": "code",
      "source": [
        "df.info()"
      ],
      "outputs": [
        {
          "output_type": "stream",
          "name": "stdout",
          "text": "<class 'pandas.core.frame.DataFrame'>\nRangeIndex: 52632 entries, 0 to 52631\nData columns (total 8 columns):\n #   Column              Non-Null Count  Dtype \n---  ------              --------------  ----- \n 0   Fecha (dd/mm/aaaa)  52632 non-null  object\n 1    año                52632 non-null  int64 \n 2   Moneda              52632 non-null  object\n 3   Continente          52632 non-null  object\n 4   Tipo de cambio      52632 non-null  object\n 5   Tipo de tasa        52632 non-null  object\n 6   Tasa Cambio         52632 non-null  object\n 7   Id Moneda           52632 non-null  object\ndtypes: int64(1), object(7)\nmemory usage: 3.2+ MB\n"
        }
      ],
      "execution_count": 3,
      "metadata": {
        "source_hash": "de1e323c",
        "execution_start": 1724125829533,
        "execution_millis": 246,
        "deepnote_to_be_reexecuted": false,
        "deepnote_app_block_visible": true,
        "cell_id": "af46eb282f374f49bea99ffd15989743",
        "deepnote_cell_type": "code"
      }
    },
    {
      "cell_type": "markdown",
      "source": [
        "Del análisis del código anterior, se pudo observar que los datos consisten en 52,632 registros para cada una de las 8 columnas, sin contener ningún dato nulo aparentemente. La información que se encuentra allí incluye la fecha, el año, el nombre de la moneda, el continente, el tipo de cambio, el tipo de tasa, la tasa de cambio y el identificador de la moneda. A continuación, se mostrarán los posibles valores que se encuentran en cada una de las columnas.\n"
      ],
      "metadata": {
        "deepnote_app_block_visible": true,
        "cell_id": "de7f7ccd07da4b2c8ca7824579f30623",
        "deepnote_cell_type": "markdown"
      }
    },
    {
      "cell_type": "code",
      "source": [
        "df.isnull().sum()"
      ],
      "outputs": [
        {
          "output_type": "execute_result",
          "execution_count": 4,
          "data": {
            "text/plain": "Fecha (dd/mm/aaaa)    0\n año                  0\nMoneda                0\nContinente            0\nTipo de cambio        0\nTipo de tasa          0\nTasa Cambio           0\nId Moneda             0\ndtype: int64"
          },
          "metadata": {}
        }
      ],
      "execution_count": 4,
      "metadata": {
        "source_hash": "f3dd26da",
        "execution_start": 1724125829551,
        "execution_millis": 228,
        "deepnote_to_be_reexecuted": false,
        "deepnote_app_block_visible": true,
        "cell_id": "39e042ca91054384b289d5434a1d2aa6",
        "deepnote_cell_type": "code"
      }
    },
    {
      "cell_type": "code",
      "source": [
        "for i in df.select_dtypes(include='object').columns:\n",
        "    print('* '+i+\": \\n \", df[i].unique(),'\\n')"
      ],
      "outputs": [
        {
          "output_type": "stream",
          "name": "stdout",
          "text": "* Fecha (dd/mm/aaaa): \n  ['2020-08-06' '2020-08-07' '2020-08-08' ... '2024-08-04' '2024-08-05'\n '2024-08-06'] \n\n* Moneda: \n  ['Franco suizo' 'Libra esterlina' 'Peso mexicano' 'Yen japonés'] \n\n* Continente: \n  ['EUROPA' 'AMERICA' 'ASIA DEL PACIFICO'] \n\n* Tipo de cambio: \n  ['Dólares estadounidenses por cada moneda'\n 'Moneda por cada dólar estadounidense'\n 'Pesos colombianos por cada moneda'] \n\n* Tipo de tasa: \n  ['Venta' 'Media' 'Compra'] \n\n* Tasa Cambio: \n  ['1,098049' '0,9111' '4146,20621' ... '19,367499' '215,991739' '28,961099'] \n\n* Id Moneda: \n  ['CHF' 'GBP' 'MXN' 'JPY'] \n\n"
        }
      ],
      "execution_count": 5,
      "metadata": {
        "source_hash": "e8dc0b45",
        "execution_start": 1724125829577,
        "execution_millis": 203,
        "deepnote_to_be_reexecuted": false,
        "deepnote_app_block_visible": true,
        "cell_id": "4aec717f19e5470689dc29e4cf991b1f",
        "deepnote_cell_type": "code"
      }
    },
    {
      "cell_type": "markdown",
      "source": [
        "Vale la pena resaltar que las fechas se encuentran en el formato de (aaaa/mm/dd), invertido al orden que se indica en el encabezado de los datos. Se notó que, al momento de descargar los datos en formato CSV, el orden se invierte. Por esta razón, se tuvo presente esta corrección en los datos. También, los encabezados de las columnas son largos y tienen espacios entre palabras, lo que puede resultar en dificultades de interpretación para Python. En consecuencia, se procede a renombrar los encabezados de las columnas."
      ],
      "metadata": {
        "deepnote_app_block_visible": true,
        "cell_id": "7f9422da5c16423db658d8153dfdd6e1",
        "deepnote_cell_type": "markdown"
      }
    },
    {
      "cell_type": "code",
      "source": [
        "# La fecha sostendrá el formato de (aaaa/mm/dd)\n",
        "df.columns = ['Fecha', ' Año', 'Nombre_Moneda', 'Continente', 'Cambio', 'Tipo_tasa', 'TRM', 'Id_Moneda']"
      ],
      "outputs": [],
      "execution_count": 6,
      "metadata": {
        "source_hash": "6965b6aa",
        "execution_start": 1724125829601,
        "execution_millis": 179,
        "deepnote_to_be_reexecuted": false,
        "deepnote_app_block_visible": true,
        "cell_id": "6e1273a46ab14bcf992d1fb9bf379a55",
        "deepnote_cell_type": "code"
      }
    },
    {
      "cell_type": "markdown",
      "source": [
        "Adicionalmente, con respecto a las fechas, se notó que los fines de semana estaban registrados en los datos, tomando constante la TRM de cada sábado para el domingo. Por esta razón, se decidió remover los domingos de los datos de fecha como se muestra a continuación"
      ],
      "metadata": {
        "deepnote_app_block_visible": true,
        "cell_id": "0dec45e2f99d42cfb7a48781ed83293e",
        "deepnote_cell_type": "markdown"
      }
    },
    {
      "cell_type": "code",
      "source": [
        "Sundays = df['Fecha'].unique().tolist()[3::7]\n",
        "keep = set(df['Fecha'].unique().tolist())\n",
        "dates = keep.difference(Sundays)\n",
        "dates =list(dates)\n",
        "dates.sort()\n",
        "df = df[df['Fecha'].isin(dates)]\n",
        "print(df)"
      ],
      "outputs": [
        {
          "output_type": "stream",
          "name": "stdout",
          "text": "            Fecha   Año    Nombre_Moneda         Continente  \\\n0      2020-08-06  2020     Franco suizo             EUROPA   \n1      2020-08-06  2020     Franco suizo             EUROPA   \n2      2020-08-06  2020     Franco suizo             EUROPA   \n3      2020-08-06  2020  Libra esterlina             EUROPA   \n4      2020-08-06  2020  Libra esterlina             EUROPA   \n...           ...   ...              ...                ...   \n52627  2024-08-06  2024    Peso mexicano            AMERICA   \n52628  2024-08-06  2024    Peso mexicano            AMERICA   \n52629  2024-08-06  2024      Yen japonés  ASIA DEL PACIFICO   \n52630  2024-08-06  2024      Yen japonés  ASIA DEL PACIFICO   \n52631  2024-08-06  2024      Yen japonés  ASIA DEL PACIFICO   \n\n                                        Cambio Tipo_tasa         TRM Id_Moneda  \n0      Dólares estadounidenses por cada moneda     Venta    1,098049       CHF  \n1         Moneda por cada dólar estadounidense     Venta      0,9111       CHF  \n2            Pesos colombianos por cada moneda     Venta  4146,20621       CHF  \n3      Dólares estadounidenses por cada moneda     Venta      1,3145       GBP  \n4         Moneda por cada dólar estadounidense     Venta     0,76097       GBP  \n...                                        ...       ...         ...       ...  \n52627     Moneda por cada dólar estadounidense    Compra   19,367499       MXN  \n52628        Pesos colombianos por cada moneda    Compra  215,991739       MXN  \n52629  Dólares estadounidenses por cada moneda    Compra     0,00692       JPY  \n52630     Moneda por cada dólar estadounidense    Compra  144,439999       JPY  \n52631        Pesos colombianos por cada moneda    Compra   28,961099       JPY  \n\n[45108 rows x 8 columns]\n"
        }
      ],
      "execution_count": 7,
      "metadata": {
        "source_hash": "c8e0f298",
        "execution_start": 1724125829607,
        "execution_millis": 174,
        "deepnote_to_be_reexecuted": false,
        "deepnote_app_block_visible": true,
        "cell_id": "50619f7d724c4a76976f56ab4082929b",
        "deepnote_cell_type": "code"
      }
    },
    {
      "cell_type": "markdown",
      "source": [
        "A partir del código anterior, se puede observar toda la información almacenada en la base de datos original. Con esto, ya se pueden delimitar los datos que realmente se van a utilizar. Para este caso de estudio, se desea comparar las monedas extranjeras tomando el peso colombiano como punto de referencia; adicionalmente, se utilizará el tipo de tasa media, ya que se quiere conservar la mayor cantidad de información posible en cada dato. Al tomar la media como la tasa de cambio, se estaría involucrando la fluctuación ponderada diaria tanto de venta como de compra de las divisas. En contraste, si se tomara solo la tasa de venta o compra, se podría omitir información importante sobre el comportamiento en otro tipo de transacciones económicas intradía."
      ],
      "metadata": {
        "deepnote_app_block_visible": true,
        "cell_id": "fbb33cfadb904dce974f7e20e9b0969d",
        "deepnote_cell_type": "markdown"
      }
    },
    {
      "cell_type": "markdown",
      "source": [
        "Para este modelo se trabaja bajos los supuestos de que la variable aletaoria de precio en el día t opera en un espacio muestral de 4 estados posibles según dos criterios, la variación porcentual y la desviación estándar móvil. Con estos dos indicadores se clasificó la dirección y la intensidad de la variación de precio en el día t."
      ],
      "metadata": {
        "deepnote_app_block_visible": true,
        "cell_id": "890e49e00767425eb3d7547bf6ff98d3",
        "deepnote_cell_type": "markdown"
      }
    },
    {
      "cell_type": "markdown",
      "source": [
        "# Limpieza de datos\n",
        "\n"
      ],
      "metadata": {
        "deepnote_app_block_visible": true,
        "cell_id": "4922f1b8b7dc499a9238d8afa67b2c28",
        "deepnote_cell_type": "markdown"
      }
    },
    {
      "cell_type": "markdown",
      "source": [
        "Ahora se requiere filtrar y reorganizar los datos de tal manera que se obtenga una única tabla que contenga la TRM media en pesos colombianos por cada moneda para cada fecha de registro. Adicionalmente se observó que la TRM se encontraba en formato de texto, pero en realidad debería estar un formato numerico. En consecuencia, se requiere formatear la TRM para remplazar comas por puntos decimales y asignarles el tipo de variable `float`."
      ],
      "metadata": {
        "deepnote_app_block_visible": true,
        "cell_id": "66f146d8d94a4a8aae55bddb2a02833b",
        "deepnote_cell_type": "markdown"
      }
    },
    {
      "cell_type": "code",
      "source": [
        "COP_Med_Data = df.query(\"Cambio == 'Pesos colombianos por cada moneda' and Tipo_tasa == 'Media'\")\n",
        "COP_Med_Data['TRM'] = COP_Med_Data['TRM'].str.replace(',','.').astype(float)\n",
        "COP_Med_Data"
      ],
      "outputs": [
        {
          "output_type": "execute_result",
          "execution_count": 8,
          "data": {
            "application/vnd.deepnote.dataframe.v3+json": {
              "column_count": 8,
              "row_count": 5012,
              "columns": [
                {
                  "name": "Fecha",
                  "dtype": "object",
                  "stats": {
                    "unique_count": 1253,
                    "nan_count": 0,
                    "categories": [
                      {
                        "name": "2020-08-06",
                        "count": 4
                      },
                      {
                        "name": "2020-08-07",
                        "count": 4
                      },
                      {
                        "name": "1251 others",
                        "count": 5004
                      }
                    ]
                  }
                },
                {
                  "name": " Año",
                  "dtype": "int64",
                  "stats": {
                    "unique_count": 5,
                    "nan_count": 0,
                    "min": "2020",
                    "max": "2024",
                    "histogram": [
                      {
                        "bin_start": 2020,
                        "bin_end": 2020.4,
                        "count": 508
                      },
                      {
                        "bin_start": 2020.4,
                        "bin_end": 2020.8,
                        "count": 0
                      },
                      {
                        "bin_start": 2020.8,
                        "bin_end": 2021.2,
                        "count": 1252
                      },
                      {
                        "bin_start": 2021.2,
                        "bin_end": 2021.6,
                        "count": 0
                      },
                      {
                        "bin_start": 2021.6,
                        "bin_end": 2022,
                        "count": 0
                      },
                      {
                        "bin_start": 2022,
                        "bin_end": 2022.4,
                        "count": 1252
                      },
                      {
                        "bin_start": 2022.4,
                        "bin_end": 2022.8,
                        "count": 0
                      },
                      {
                        "bin_start": 2022.8,
                        "bin_end": 2023.2,
                        "count": 1248
                      },
                      {
                        "bin_start": 2023.2,
                        "bin_end": 2023.6,
                        "count": 0
                      },
                      {
                        "bin_start": 2023.6,
                        "bin_end": 2024,
                        "count": 752
                      }
                    ]
                  }
                },
                {
                  "name": "Nombre_Moneda",
                  "dtype": "object",
                  "stats": {
                    "unique_count": 4,
                    "nan_count": 0,
                    "categories": [
                      {
                        "name": "Franco suizo",
                        "count": 1253
                      },
                      {
                        "name": "Libra esterlina",
                        "count": 1253
                      },
                      {
                        "name": "2 others",
                        "count": 2506
                      }
                    ]
                  }
                },
                {
                  "name": "Continente",
                  "dtype": "object",
                  "stats": {
                    "unique_count": 3,
                    "nan_count": 0,
                    "categories": [
                      {
                        "name": "EUROPA",
                        "count": 2506
                      },
                      {
                        "name": "AMERICA",
                        "count": 1253
                      },
                      {
                        "name": "ASIA DEL PACIFICO",
                        "count": 1253
                      }
                    ]
                  }
                },
                {
                  "name": "Cambio",
                  "dtype": "object",
                  "stats": {
                    "unique_count": 1,
                    "nan_count": 0,
                    "categories": [
                      {
                        "name": "Pesos colombianos por cada moneda",
                        "count": 5012
                      }
                    ]
                  }
                },
                {
                  "name": "Tipo_tasa",
                  "dtype": "object",
                  "stats": {
                    "unique_count": 1,
                    "nan_count": 0,
                    "categories": [
                      {
                        "name": "Media",
                        "count": 5012
                      }
                    ]
                  }
                },
                {
                  "name": "TRM",
                  "dtype": "float64",
                  "stats": {
                    "unique_count": 4916,
                    "nan_count": 0,
                    "min": "24.37272",
                    "max": "6010.69754",
                    "histogram": [
                      {
                        "bin_start": 24.37272,
                        "bin_end": 623.0052019999999,
                        "count": 2506
                      },
                      {
                        "bin_start": 623.0052019999999,
                        "bin_end": 1221.637684,
                        "count": 0
                      },
                      {
                        "bin_start": 1221.637684,
                        "bin_end": 1820.270166,
                        "count": 0
                      },
                      {
                        "bin_start": 1820.270166,
                        "bin_end": 2418.9026479999998,
                        "count": 0
                      },
                      {
                        "bin_start": 2418.9026479999998,
                        "bin_end": 3017.5351299999998,
                        "count": 0
                      },
                      {
                        "bin_start": 3017.5351299999998,
                        "bin_end": 3616.1676119999997,
                        "count": 0
                      },
                      {
                        "bin_start": 3616.1676119999997,
                        "bin_end": 4214.800094,
                        "count": 474
                      },
                      {
                        "bin_start": 4214.800094,
                        "bin_end": 4813.432576,
                        "count": 667
                      },
                      {
                        "bin_start": 4813.432576,
                        "bin_end": 5412.065058,
                        "count": 1141
                      },
                      {
                        "bin_start": 5412.065058,
                        "bin_end": 6010.69754,
                        "count": 224
                      }
                    ]
                  }
                },
                {
                  "name": "Id_Moneda",
                  "dtype": "object",
                  "stats": {
                    "unique_count": 4,
                    "nan_count": 0,
                    "categories": [
                      {
                        "name": "CHF",
                        "count": 1253
                      },
                      {
                        "name": "GBP",
                        "count": 1253
                      },
                      {
                        "name": "2 others",
                        "count": 2506
                      }
                    ]
                  }
                },
                {
                  "name": "_deepnote_index_column",
                  "dtype": "int64"
                }
              ],
              "rows": [
                {
                  "Fecha": "2020-08-06",
                  " Año": 2020,
                  "Nombre_Moneda": "Franco suizo",
                  "Continente": "EUROPA",
                  "Cambio": "Pesos colombianos por cada moneda",
                  "Tipo_tasa": "Media",
                  "TRM": 4145.29586,
                  "Id_Moneda": "CHF",
                  "_deepnote_index_column": 17546
                },
                {
                  "Fecha": "2020-08-06",
                  " Año": 2020,
                  "Nombre_Moneda": "Libra esterlina",
                  "Continente": "EUROPA",
                  "Cambio": "Pesos colombianos por cada moneda",
                  "Tipo_tasa": "Media",
                  "TRM": 4962.731079,
                  "Id_Moneda": "GBP",
                  "_deepnote_index_column": 17549
                },
                {
                  "Fecha": "2020-08-06",
                  " Año": 2020,
                  "Nombre_Moneda": "Peso mexicano",
                  "Continente": "AMERICA",
                  "Cambio": "Pesos colombianos por cada moneda",
                  "Tipo_tasa": "Media",
                  "TRM": 168.702869,
                  "Id_Moneda": "MXN",
                  "_deepnote_index_column": 17552
                },
                {
                  "Fecha": "2020-08-06",
                  " Año": 2020,
                  "Nombre_Moneda": "Yen japonés",
                  "Continente": "ASIA DEL PACIFICO",
                  "Cambio": "Pesos colombianos por cada moneda",
                  "Tipo_tasa": "Media",
                  "TRM": 35.78251,
                  "Id_Moneda": "JPY",
                  "_deepnote_index_column": 17555
                },
                {
                  "Fecha": "2020-08-07",
                  " Año": 2020,
                  "Nombre_Moneda": "Franco suizo",
                  "Continente": "EUROPA",
                  "Cambio": "Pesos colombianos por cada moneda",
                  "Tipo_tasa": "Media",
                  "TRM": 4130.23994,
                  "Id_Moneda": "CHF",
                  "_deepnote_index_column": 17558
                }
              ]
            },
            "text/plain": "            Fecha   Año    Nombre_Moneda         Continente  \\\n17546  2020-08-06  2020     Franco suizo             EUROPA   \n17549  2020-08-06  2020  Libra esterlina             EUROPA   \n17552  2020-08-06  2020    Peso mexicano            AMERICA   \n17555  2020-08-06  2020      Yen japonés  ASIA DEL PACIFICO   \n17558  2020-08-07  2020     Franco suizo             EUROPA   \n...           ...   ...              ...                ...   \n35075  2024-08-05  2024      Yen japonés  ASIA DEL PACIFICO   \n35078  2024-08-06  2024     Franco suizo             EUROPA   \n35081  2024-08-06  2024  Libra esterlina             EUROPA   \n35084  2024-08-06  2024    Peso mexicano            AMERICA   \n35087  2024-08-06  2024      Yen japonés  ASIA DEL PACIFICO   \n\n                                  Cambio Tipo_tasa          TRM Id_Moneda  \n17546  Pesos colombianos por cada moneda     Media  4145.295860       CHF  \n17549  Pesos colombianos por cada moneda     Media  4962.731079       GBP  \n17552  Pesos colombianos por cada moneda     Media   168.702869       MXN  \n17555  Pesos colombianos por cada moneda     Media    35.782510       JPY  \n17558  Pesos colombianos por cada moneda     Media  4130.239940       CHF  \n...                                  ...       ...          ...       ...  \n35075  Pesos colombianos por cada moneda     Media    28.832560       JPY  \n35078  Pesos colombianos por cada moneda     Media  4907.981929       CHF  \n35081  Pesos colombianos por cada moneda     Media  5317.617650       GBP  \n35084  Pesos colombianos por cada moneda     Media   216.019610       MXN  \n35087  Pesos colombianos por cada moneda     Media    28.965109       JPY  \n\n[5012 rows x 8 columns]",
            "text/html": "<div>\n<style scoped>\n    .dataframe tbody tr th:only-of-type {\n        vertical-align: middle;\n    }\n\n    .dataframe tbody tr th {\n        vertical-align: top;\n    }\n\n    .dataframe thead th {\n        text-align: right;\n    }\n</style>\n<table border=\"1\" class=\"dataframe\">\n  <thead>\n    <tr style=\"text-align: right;\">\n      <th></th>\n      <th>Fecha</th>\n      <th>Año</th>\n      <th>Nombre_Moneda</th>\n      <th>Continente</th>\n      <th>Cambio</th>\n      <th>Tipo_tasa</th>\n      <th>TRM</th>\n      <th>Id_Moneda</th>\n    </tr>\n  </thead>\n  <tbody>\n    <tr>\n      <th>17546</th>\n      <td>2020-08-06</td>\n      <td>2020</td>\n      <td>Franco suizo</td>\n      <td>EUROPA</td>\n      <td>Pesos colombianos por cada moneda</td>\n      <td>Media</td>\n      <td>4145.295860</td>\n      <td>CHF</td>\n    </tr>\n    <tr>\n      <th>17549</th>\n      <td>2020-08-06</td>\n      <td>2020</td>\n      <td>Libra esterlina</td>\n      <td>EUROPA</td>\n      <td>Pesos colombianos por cada moneda</td>\n      <td>Media</td>\n      <td>4962.731079</td>\n      <td>GBP</td>\n    </tr>\n    <tr>\n      <th>17552</th>\n      <td>2020-08-06</td>\n      <td>2020</td>\n      <td>Peso mexicano</td>\n      <td>AMERICA</td>\n      <td>Pesos colombianos por cada moneda</td>\n      <td>Media</td>\n      <td>168.702869</td>\n      <td>MXN</td>\n    </tr>\n    <tr>\n      <th>17555</th>\n      <td>2020-08-06</td>\n      <td>2020</td>\n      <td>Yen japonés</td>\n      <td>ASIA DEL PACIFICO</td>\n      <td>Pesos colombianos por cada moneda</td>\n      <td>Media</td>\n      <td>35.782510</td>\n      <td>JPY</td>\n    </tr>\n    <tr>\n      <th>17558</th>\n      <td>2020-08-07</td>\n      <td>2020</td>\n      <td>Franco suizo</td>\n      <td>EUROPA</td>\n      <td>Pesos colombianos por cada moneda</td>\n      <td>Media</td>\n      <td>4130.239940</td>\n      <td>CHF</td>\n    </tr>\n    <tr>\n      <th>...</th>\n      <td>...</td>\n      <td>...</td>\n      <td>...</td>\n      <td>...</td>\n      <td>...</td>\n      <td>...</td>\n      <td>...</td>\n      <td>...</td>\n    </tr>\n    <tr>\n      <th>35075</th>\n      <td>2024-08-05</td>\n      <td>2024</td>\n      <td>Yen japonés</td>\n      <td>ASIA DEL PACIFICO</td>\n      <td>Pesos colombianos por cada moneda</td>\n      <td>Media</td>\n      <td>28.832560</td>\n      <td>JPY</td>\n    </tr>\n    <tr>\n      <th>35078</th>\n      <td>2024-08-06</td>\n      <td>2024</td>\n      <td>Franco suizo</td>\n      <td>EUROPA</td>\n      <td>Pesos colombianos por cada moneda</td>\n      <td>Media</td>\n      <td>4907.981929</td>\n      <td>CHF</td>\n    </tr>\n    <tr>\n      <th>35081</th>\n      <td>2024-08-06</td>\n      <td>2024</td>\n      <td>Libra esterlina</td>\n      <td>EUROPA</td>\n      <td>Pesos colombianos por cada moneda</td>\n      <td>Media</td>\n      <td>5317.617650</td>\n      <td>GBP</td>\n    </tr>\n    <tr>\n      <th>35084</th>\n      <td>2024-08-06</td>\n      <td>2024</td>\n      <td>Peso mexicano</td>\n      <td>AMERICA</td>\n      <td>Pesos colombianos por cada moneda</td>\n      <td>Media</td>\n      <td>216.019610</td>\n      <td>MXN</td>\n    </tr>\n    <tr>\n      <th>35087</th>\n      <td>2024-08-06</td>\n      <td>2024</td>\n      <td>Yen japonés</td>\n      <td>ASIA DEL PACIFICO</td>\n      <td>Pesos colombianos por cada moneda</td>\n      <td>Media</td>\n      <td>28.965109</td>\n      <td>JPY</td>\n    </tr>\n  </tbody>\n</table>\n<p>5012 rows × 8 columns</p>\n</div>"
          },
          "metadata": {}
        }
      ],
      "execution_count": 8,
      "metadata": {
        "deepnote_app_block_visible": true,
        "deepnote_table_loading": false,
        "execution_millis": 285,
        "source_hash": "10f3b1f8",
        "deepnote_cell_type": "code",
        "cell_id": "70a859f0943f462aa746b768bc10a4c8",
        "execution_start": 1724125829699,
        "deepnote_to_be_reexecuted": false,
        "deepnote_table_state": {
          "sortBy": [],
          "filters": [],
          "pageSize": 5,
          "pageIndex": 0,
          "conditionalFilters": []
        }
      }
    },
    {
      "cell_type": "markdown",
      "source": [
        "Ahora que ya se tiene la información de interés, se procede a realizar un nuevo DataFrame llamado `data`, el cual contendrá únicamente la TRM de cada moneda para cada fecha, asegurando que esta información se encuentre en formato `float`, como se puede observar en el código siguiente. Por lo tanto, se creará una columna por cada moneda y cada fecha corresponderá a la fecha de registro."
      ],
      "metadata": {
        "deepnote_app_block_visible": true,
        "cell_id": "0ab3fb309b32477cbfd640c30404b329",
        "deepnote_cell_type": "markdown"
      }
    },
    {
      "cell_type": "code",
      "source": [
        "data_original = pd.DataFrame(columns=df['Id_Moneda'].unique().tolist(), index=df['Fecha'].unique())\n",
        "for i in data_original.index:\n",
        "    row = list(COP_Med_Data.query(\"Fecha == @i\")['TRM'])\n",
        "    data_original.loc[i] = row\n",
        "data_original = data_original.astype(float)\n",
        "data_original"
      ],
      "outputs": [
        {
          "output_type": "execute_result",
          "execution_count": 9,
          "data": {
            "application/vnd.deepnote.dataframe.v3+json": {
              "column_count": 4,
              "row_count": 1253,
              "columns": [
                {
                  "name": "CHF",
                  "dtype": "float64",
                  "stats": {
                    "unique_count": 1230,
                    "nan_count": 0,
                    "min": "3804.348289",
                    "max": "5358.80141",
                    "histogram": [
                      {
                        "bin_start": 3804.348289,
                        "bin_end": 3959.7936011,
                        "count": 107
                      },
                      {
                        "bin_start": 3959.7936011,
                        "bin_end": 4115.2389132,
                        "count": 205
                      },
                      {
                        "bin_start": 4115.2389132,
                        "bin_end": 4270.6842252999995,
                        "count": 242
                      },
                      {
                        "bin_start": 4270.6842252999995,
                        "bin_end": 4426.1295374,
                        "count": 141
                      },
                      {
                        "bin_start": 4426.1295374,
                        "bin_end": 4581.5748495,
                        "count": 192
                      },
                      {
                        "bin_start": 4581.5748495,
                        "bin_end": 4737.0201615999995,
                        "count": 152
                      },
                      {
                        "bin_start": 4737.0201615999995,
                        "bin_end": 4892.4654737,
                        "count": 28
                      },
                      {
                        "bin_start": 4892.4654737,
                        "bin_end": 5047.9107858,
                        "count": 45
                      },
                      {
                        "bin_start": 5047.9107858,
                        "bin_end": 5203.356097899999,
                        "count": 109
                      },
                      {
                        "bin_start": 5203.356097899999,
                        "bin_end": 5358.80141,
                        "count": 32
                      }
                    ]
                  }
                },
                {
                  "name": "GBP",
                  "dtype": "float64",
                  "stats": {
                    "unique_count": 1229,
                    "nan_count": 0,
                    "min": "4535.93079",
                    "max": "6010.69754",
                    "histogram": [
                      {
                        "bin_start": 4535.93079,
                        "bin_end": 4683.407465,
                        "count": 20
                      },
                      {
                        "bin_start": 4683.407465,
                        "bin_end": 4830.88414,
                        "count": 90
                      },
                      {
                        "bin_start": 4830.88414,
                        "bin_end": 4978.360815,
                        "count": 242
                      },
                      {
                        "bin_start": 4978.360815,
                        "bin_end": 5125.83749,
                        "count": 266
                      },
                      {
                        "bin_start": 5125.83749,
                        "bin_end": 5273.314165,
                        "count": 262
                      },
                      {
                        "bin_start": 5273.314165,
                        "bin_end": 5420.79084,
                        "count": 151
                      },
                      {
                        "bin_start": 5420.79084,
                        "bin_end": 5568.2675150000005,
                        "count": 48
                      },
                      {
                        "bin_start": 5568.2675150000005,
                        "bin_end": 5715.74419,
                        "count": 55
                      },
                      {
                        "bin_start": 5715.74419,
                        "bin_end": 5863.220865,
                        "count": 83
                      },
                      {
                        "bin_start": 5863.220865,
                        "bin_end": 6010.69754,
                        "count": 36
                      }
                    ]
                  }
                },
                {
                  "name": "MXN",
                  "dtype": "float64",
                  "stats": {
                    "unique_count": 1231,
                    "nan_count": 0,
                    "min": "167.425549",
                    "max": "269.735999",
                    "histogram": [
                      {
                        "bin_start": 167.425549,
                        "bin_end": 177.65659399999998,
                        "count": 145
                      },
                      {
                        "bin_start": 177.65659399999998,
                        "bin_end": 187.88763899999998,
                        "count": 209
                      },
                      {
                        "bin_start": 187.88763899999998,
                        "bin_end": 198.11868399999997,
                        "count": 204
                      },
                      {
                        "bin_start": 198.11868399999997,
                        "bin_end": 208.349729,
                        "count": 44
                      },
                      {
                        "bin_start": 208.349729,
                        "bin_end": 218.580774,
                        "count": 58
                      },
                      {
                        "bin_start": 218.580774,
                        "bin_end": 228.81181899999999,
                        "count": 122
                      },
                      {
                        "bin_start": 228.81181899999999,
                        "bin_end": 239.042864,
                        "count": 216
                      },
                      {
                        "bin_start": 239.042864,
                        "bin_end": 249.273909,
                        "count": 127
                      },
                      {
                        "bin_start": 249.273909,
                        "bin_end": 259.504954,
                        "count": 102
                      },
                      {
                        "bin_start": 259.504954,
                        "bin_end": 269.735999,
                        "count": 26
                      }
                    ]
                  }
                },
                {
                  "name": "JPY",
                  "dtype": "float64",
                  "stats": {
                    "unique_count": 1226,
                    "nan_count": 0,
                    "min": "24.37272",
                    "max": "37.679949",
                    "histogram": [
                      {
                        "bin_start": 24.37272,
                        "bin_end": 25.703442900000002,
                        "count": 92
                      },
                      {
                        "bin_start": 25.703442900000002,
                        "bin_end": 27.0341658,
                        "count": 107
                      },
                      {
                        "bin_start": 27.0341658,
                        "bin_end": 28.3648887,
                        "count": 112
                      },
                      {
                        "bin_start": 28.3648887,
                        "bin_end": 29.6956116,
                        "count": 71
                      },
                      {
                        "bin_start": 29.6956116,
                        "bin_end": 31.0263345,
                        "count": 69
                      },
                      {
                        "bin_start": 31.0263345,
                        "bin_end": 32.3570574,
                        "count": 101
                      },
                      {
                        "bin_start": 32.3570574,
                        "bin_end": 33.6877803,
                        "count": 187
                      },
                      {
                        "bin_start": 33.6877803,
                        "bin_end": 35.0185032,
                        "count": 287
                      },
                      {
                        "bin_start": 35.0185032,
                        "bin_end": 36.3492261,
                        "count": 164
                      },
                      {
                        "bin_start": 36.3492261,
                        "bin_end": 37.679949,
                        "count": 63
                      }
                    ]
                  }
                },
                {
                  "name": "_deepnote_index_column",
                  "dtype": "object"
                }
              ],
              "rows": [
                {
                  "CHF": 4145.29586,
                  "GBP": 4962.731079,
                  "MXN": 168.702869,
                  "JPY": 35.78251,
                  "_deepnote_index_column": "2020-08-06"
                },
                {
                  "CHF": 4130.23994,
                  "GBP": 4919.796309,
                  "MXN": 167.470169,
                  "JPY": 35.60154,
                  "_deepnote_index_column": "2020-08-07"
                },
                {
                  "CHF": 4130.23994,
                  "GBP": 4919.796309,
                  "MXN": 167.470169,
                  "JPY": 35.60154,
                  "_deepnote_index_column": "2020-08-08"
                },
                {
                  "CHF": 4122.11044,
                  "GBP": 4934.12106,
                  "MXN": 167.425549,
                  "JPY": 35.63857,
                  "_deepnote_index_column": "2020-08-10"
                },
                {
                  "CHF": 4115.28679,
                  "GBP": 4933.33287,
                  "MXN": 168.41489,
                  "JPY": 35.412759,
                  "_deepnote_index_column": "2020-08-11"
                },
                {
                  "CHF": 4118.07348,
                  "GBP": 4894.33622,
                  "MXN": 167.932359,
                  "JPY": 35.07296,
                  "_deepnote_index_column": "2020-08-12"
                },
                {
                  "CHF": 4127.497519,
                  "GBP": 4917.78351,
                  "MXN": 168.397899,
                  "JPY": 35.13692,
                  "_deepnote_index_column": "2020-08-13"
                },
                {
                  "CHF": 4141.43579,
                  "GBP": 4938.22584,
                  "MXN": 170.988599,
                  "JPY": 35.38631,
                  "_deepnote_index_column": "2020-08-14"
                },
                {
                  "CHF": 4159.135879,
                  "GBP": 4959.331329,
                  "MXN": 171.71939,
                  "JPY": 35.53755,
                  "_deepnote_index_column": "2020-08-15"
                },
                {
                  "CHF": 4172.668609,
                  "GBP": 4955.548179,
                  "MXN": 171.55975,
                  "JPY": 35.666539,
                  "_deepnote_index_column": "2020-08-17"
                }
              ]
            },
            "text/plain": "                    CHF          GBP         MXN        JPY\n2020-08-06  4145.295860  4962.731079  168.702869  35.782510\n2020-08-07  4130.239940  4919.796309  167.470169  35.601540\n2020-08-08  4130.239940  4919.796309  167.470169  35.601540\n2020-08-10  4122.110440  4934.121060  167.425549  35.638570\n2020-08-11  4115.286790  4933.332870  168.414890  35.412759\n...                 ...          ...         ...        ...\n2024-08-01  4645.166449  5194.189940  218.394710  27.056300\n2024-08-02  4721.997199  5195.776340  213.087880  27.663570\n2024-08-03  4783.950179  5263.945340  215.883610  28.026520\n2024-08-05  4841.710339  5244.215559  209.771610  28.832560\n2024-08-06  4907.981929  5317.617650  216.019610  28.965109\n\n[1253 rows x 4 columns]",
            "text/html": "<div>\n<style scoped>\n    .dataframe tbody tr th:only-of-type {\n        vertical-align: middle;\n    }\n\n    .dataframe tbody tr th {\n        vertical-align: top;\n    }\n\n    .dataframe thead th {\n        text-align: right;\n    }\n</style>\n<table border=\"1\" class=\"dataframe\">\n  <thead>\n    <tr style=\"text-align: right;\">\n      <th></th>\n      <th>CHF</th>\n      <th>GBP</th>\n      <th>MXN</th>\n      <th>JPY</th>\n    </tr>\n  </thead>\n  <tbody>\n    <tr>\n      <th>2020-08-06</th>\n      <td>4145.295860</td>\n      <td>4962.731079</td>\n      <td>168.702869</td>\n      <td>35.782510</td>\n    </tr>\n    <tr>\n      <th>2020-08-07</th>\n      <td>4130.239940</td>\n      <td>4919.796309</td>\n      <td>167.470169</td>\n      <td>35.601540</td>\n    </tr>\n    <tr>\n      <th>2020-08-08</th>\n      <td>4130.239940</td>\n      <td>4919.796309</td>\n      <td>167.470169</td>\n      <td>35.601540</td>\n    </tr>\n    <tr>\n      <th>2020-08-10</th>\n      <td>4122.110440</td>\n      <td>4934.121060</td>\n      <td>167.425549</td>\n      <td>35.638570</td>\n    </tr>\n    <tr>\n      <th>2020-08-11</th>\n      <td>4115.286790</td>\n      <td>4933.332870</td>\n      <td>168.414890</td>\n      <td>35.412759</td>\n    </tr>\n    <tr>\n      <th>...</th>\n      <td>...</td>\n      <td>...</td>\n      <td>...</td>\n      <td>...</td>\n    </tr>\n    <tr>\n      <th>2024-08-01</th>\n      <td>4645.166449</td>\n      <td>5194.189940</td>\n      <td>218.394710</td>\n      <td>27.056300</td>\n    </tr>\n    <tr>\n      <th>2024-08-02</th>\n      <td>4721.997199</td>\n      <td>5195.776340</td>\n      <td>213.087880</td>\n      <td>27.663570</td>\n    </tr>\n    <tr>\n      <th>2024-08-03</th>\n      <td>4783.950179</td>\n      <td>5263.945340</td>\n      <td>215.883610</td>\n      <td>28.026520</td>\n    </tr>\n    <tr>\n      <th>2024-08-05</th>\n      <td>4841.710339</td>\n      <td>5244.215559</td>\n      <td>209.771610</td>\n      <td>28.832560</td>\n    </tr>\n    <tr>\n      <th>2024-08-06</th>\n      <td>4907.981929</td>\n      <td>5317.617650</td>\n      <td>216.019610</td>\n      <td>28.965109</td>\n    </tr>\n  </tbody>\n</table>\n<p>1253 rows × 4 columns</p>\n</div>"
          },
          "metadata": {}
        }
      ],
      "execution_count": 9,
      "metadata": {
        "deepnote_app_block_visible": true,
        "deepnote_table_loading": false,
        "execution_millis": 1789,
        "source_hash": "4471d36a",
        "deepnote_cell_type": "code",
        "cell_id": "9a8ffc76fddc48179ccc5af0d081016e",
        "execution_start": 1724125829710,
        "deepnote_to_be_reexecuted": false,
        "deepnote_table_state": {
          "sortBy": [],
          "filters": [],
          "pageSize": 10,
          "pageIndex": 0,
          "conditionalFilters": []
        }
      }
    },
    {
      "cell_type": "markdown",
      "source": [
        "Al final, se obtendrá una nueva base de datos que contiene la TRM de cada moneda en pesos colombianos para cada fecha. Lo que falta por revisar es la frecuencia temporal que se manejará para los modelos. Se decidió utilizar el tiempo en unidades diarias; es decir, se tomará un único registro diario para la tasa de cambio por moneda. Adicionalmente, conviene implementar la secuencia temporal sobre las filas para indicar el paso progresivo de los meses a partir del mes cero."
      ],
      "metadata": {
        "deepnote_app_block_visible": true,
        "cell_id": "6ee887cf998b43c6b6c3b6c240171dc8",
        "deepnote_cell_type": "markdown"
      }
    },
    {
      "cell_type": "code",
      "source": [
        "data = data_original.copy()\n",
        "data.index = np.arange(0, data.shape[0])\n",
        "print(data)"
      ],
      "outputs": [
        {
          "output_type": "stream",
          "name": "stdout",
          "text": "              CHF          GBP         MXN        JPY\n0     4145.295860  4962.731079  168.702869  35.782510\n1     4130.239940  4919.796309  167.470169  35.601540\n2     4130.239940  4919.796309  167.470169  35.601540\n3     4122.110440  4934.121060  167.425549  35.638570\n4     4115.286790  4933.332870  168.414890  35.412759\n...           ...          ...         ...        ...\n1248  4645.166449  5194.189940  218.394710  27.056300\n1249  4721.997199  5195.776340  213.087880  27.663570\n1250  4783.950179  5263.945340  215.883610  28.026520\n1251  4841.710339  5244.215559  209.771610  28.832560\n1252  4907.981929  5317.617650  216.019610  28.965109\n\n[1253 rows x 4 columns]\n"
        }
      ],
      "execution_count": 10,
      "metadata": {
        "deepnote_app_block_visible": true,
        "deepnote_table_loading": false,
        "execution_millis": 194,
        "source_hash": "2e9aeda",
        "deepnote_cell_type": "code",
        "cell_id": "080a817e560c4140844a541291e834b5",
        "execution_start": 1724125831504,
        "deepnote_to_be_reexecuted": false,
        "deepnote_table_state": {
          "sortBy": [],
          "filters": [],
          "pageSize": 10,
          "pageIndex": 0,
          "conditionalFilters": []
        }
      }
    },
    {
      "cell_type": "markdown",
      "source": [
        "Ya con el DataFrame denominado `data`, se puede realizar una breve observación del comportamiento de los datos de manera gráfica. Para ello, se revisó inicialmente cuál es la distribución de frecuencia de los precios observados para cada moneda."
      ],
      "metadata": {
        "deepnote_app_block_visible": true,
        "cell_id": "2ff7f470f70949f1b91aef4f0f73d895",
        "deepnote_cell_type": "markdown"
      }
    },
    {
      "cell_type": "code",
      "source": [
        "rows, cols = 2, 2\n",
        "fig, axes = plt.subplots(rows, cols,figsize=(10, 6))\n",
        "n = 0\n",
        "colors = [\"red\", \"green\", \"blue\", \"orange\"]\n",
        "for i in range(rows):\n",
        "    for j in range(cols):\n",
        "        sns.kdeplot(data = data.iloc[:,n], ax = axes[i,j], legend=True, color=colors[n])\n",
        "        axes[i,j].set_xlabel('Pesos Colombianos (COP)', fontsize=10)\n",
        "        axes[i,j].set_ylabel('Densidad frecuencia')\n",
        "        axes[i,j].set_title(data.columns[n], fontsize = 15)\n",
        "        n+=1\n",
        "plt.tight_layout()\n",
        "plt.show()"
      ],
      "outputs": [
        {
          "output_type": "display_data",
          "data": {
            "text/plain": "<Figure size 1000x600 with 4 Axes>",
            "image/png": "[encoded data removed]"
          },
          "metadata": {
            "image/png": {
              "width": 993,
              "height": 590
            }
          }
        }
      ],
      "execution_count": 11,
      "metadata": {
        "source_hash": "dde3dd47",
        "execution_start": 1724125831513,
        "execution_millis": 1012,
        "deepnote_to_be_reexecuted": false,
        "deepnote_app_block_visible": true,
        "cell_id": "238a6373edb84dec89d826162805748b",
        "deepnote_cell_type": "code"
      }
    },
    {
      "cell_type": "markdown",
      "source": [
        "Como se puede observar, la mayoría de las monedas tienden a tener una distribución bimodal, que es más acentuada en monedas como el MXN. También se puede ver que las dos monedas europeas tienen, en promedio, un valor mucho más alto que las monedas de Asia y América"
      ],
      "metadata": {
        "deepnote_app_block_visible": true,
        "cell_id": "8155e25c1f5e4c60916f5f7c982b52f5",
        "deepnote_cell_type": "markdown"
      }
    },
    {
      "cell_type": "code",
      "source": [
        "fig, axes = plt.subplots(rows, cols,figsize=(10, 4))\n",
        "n = 0\n",
        "colors = [\"red\", \"green\", \"blue\", \"orange\"]\n",
        "for i in range(rows):\n",
        "    for j in range(cols):\n",
        "        sns.boxplot(x = data.iloc[:,n], ax = axes[i,j], legend=True, color=colors[n])\n",
        "        axes[i,j].set_xlabel('Pesos Colombianos (COP)')\n",
        "        axes[i,j].set_ylabel(data.columns[n], fontsize=10)\n",
        "        n+=1\n",
        "plt.tight_layout()\n",
        "plt.show()"
      ],
      "outputs": [
        {
          "output_type": "display_data",
          "data": {
            "text/plain": "<Figure size 1000x400 with 4 Axes>",
            "image/png": "[encoded data removed]"
          },
          "metadata": {
            "image/png": {
              "width": 989,
              "height": 390
            }
          }
        }
      ],
      "execution_count": 12,
      "metadata": {
        "source_hash": "4d8ab159",
        "execution_start": 1724125832537,
        "execution_millis": 629,
        "deepnote_to_be_reexecuted": false,
        "deepnote_app_block_visible": true,
        "cell_id": "dc8b445c0ad344549d570c4cd8513e69",
        "deepnote_cell_type": "code"
      }
    },
    {
      "cell_type": "markdown",
      "source": [
        "A partir de estos diagramas de Boxplot, se puede observar que la única moneda que presentó valores atípicos es la libra esterlina, cuando su precio se hallaba más allá, aproximadamente, de los $5.843 COP. Esto sugiere que para reducir el ruido en los datos, se podrían remover estos valores del modelo cuando se utilice la GBP."
      ],
      "metadata": {
        "deepnote_app_block_visible": true,
        "cell_id": "95e8a4210c9b427ab8e1fcd6d99142bf",
        "deepnote_cell_type": "markdown"
      }
    },
    {
      "cell_type": "code",
      "source": [
        "q1 = data['GBP'].quantile(0.25)\n",
        "q3 = data['GBP'].quantile(0.75)\n",
        "upper_limit = q3 + 1.5 * (q3 - q1)\n",
        "print('$',upper_limit.round(5), 'COP')"
      ],
      "outputs": [
        {
          "output_type": "stream",
          "name": "stdout",
          "text": "$ 5843.15748 COP\n"
        }
      ],
      "execution_count": 13,
      "metadata": {
        "source_hash": "4caf4203",
        "execution_start": 1724125833175,
        "execution_millis": 531,
        "deepnote_to_be_reexecuted": false,
        "deepnote_app_block_visible": true,
        "cell_id": "773e4088572446a2a25f72a7f438f5a4",
        "deepnote_cell_type": "code"
      }
    },
    {
      "cell_type": "markdown",
      "source": [
        "Como se puede observar, los precios por encima de esa barrera son los que muestran el comportamiento atípico de la moneda. Esto se tendrá presente para los modelos."
      ],
      "metadata": {
        "deepnote_app_block_visible": true,
        "cell_id": "9fc397b7558e4ef186b5d9eddb52c5c5",
        "deepnote_cell_type": "markdown"
      }
    },
    {
      "cell_type": "markdown",
      "source": [
        "# <h1 style=\"text-align: center;\">Estructuración Del Modelo</h1>\n",
        "\n",
        "En esta sección, se llevará a cabo la definición de los estados finitos de la cadena de Markov y la creación del modelo que se ajuste a cada una de las divisas."
      ],
      "metadata": {
        "deepnote_app_block_visible": true,
        "cell_id": "cb391233b2194014a454b1a5901422a2",
        "deepnote_cell_type": "markdown"
      }
    },
    {
      "cell_type": "markdown",
      "source": [
        "## Estados del mercado\n",
        "Para definir los estados finitos de la cadena de markov y la prueba de homogeneidad"
      ],
      "metadata": {
        "deepnote_app_block_visible": true,
        "cell_id": "a4d90050e93d42159aec218b015ece1c",
        "deepnote_cell_type": "markdown"
      }
    },
    {
      "cell_type": "code",
      "source": [
        "Estados = ['D2','D1','I1','I2']\n",
        "def final_states(D=data, currency='JPY',n_per=6):\n",
        "    currency = currency.upper()\n",
        "    D = pd.DataFrame(data[currency])\n",
        "    D['Mob_std'] = D[currency].rolling(n_per).std()\n",
        "    D['Cambio_%'] = D[currency].pct_change()\n",
        "    D['Estado_%'] = np.where(D['Cambio_%']>=0, 1, -1)\n",
        "    D['Estado_mob'] = np.where(D['Cambio_%'].abs()> (D['Mob_std']/D[currency]).values, 2, 1)\n",
        "    D['Estado'] = D['Estado_%'].values * D['Estado_mob'].values\n",
        "    D['Estado'] = np.where(D['Estado']==-2, Estados[0], np.where(D['Estado']==-1, Estados[1], np.where(D['Estado']==1, Estados[2], Estados[3])))\n",
        "    D = D.drop(columns=[currency,'Mob_std','Cambio_%', 'Estado_%', 'Estado_mob'])\n",
        "    D = D[n_per:]\n",
        "    D.reset_index(drop=True, inplace = True)\n",
        "    return D"
      ],
      "outputs": [],
      "execution_count": 14,
      "metadata": {
        "deepnote_app_block_visible": true,
        "deepnote_table_loading": false,
        "execution_millis": 518,
        "source_hash": "37d5af33",
        "deepnote_cell_type": "code",
        "cell_id": "4e445ef7aa32454382782737b9f54b54",
        "execution_start": 1724125833188,
        "deepnote_to_be_reexecuted": false,
        "deepnote_table_state": {
          "sortBy": [],
          "filters": [],
          "pageSize": 10,
          "pageIndex": 0,
          "conditionalFilters": []
        }
      }
    },
    {
      "cell_type": "markdown",
      "source": [
        "El propósito es clasificar los cambios en el valor de una moneda en diferentes estados, basados en su cambio porcentual y su desviación estándar móvil. Al hacerlo, se pueden identificar patrones y tendencias en el comportamiento de la moneda, lo cual es útil para la toma de decisiones con la matriz de transición, ya que permite evaluar la volatilidad y la dirección de los movimientos del mercado. En este caso, los 4 estados de las divisas son los siguientes:\n",
        "\n",
        "D2: Disminución notable\n",
        "D1: Devaluación\n",
        "I1: Incremento\n",
        "I2: Incremento notable"
      ],
      "metadata": {
        "deepnote_app_block_visible": true,
        "cell_id": "49dbfd57e0ae4752807ae7684ddb2909",
        "deepnote_cell_type": "markdown"
      }
    },
    {
      "cell_type": "markdown",
      "source": [
        "## Cadena de Markov de Primer Orden"
      ],
      "metadata": {
        "deepnote_app_block_visible": true,
        "cell_id": "d5d651cdf7aa4206af53686e23febd09",
        "deepnote_cell_type": "markdown"
      }
    },
    {
      "cell_type": "code",
      "source": [
        "Data = final_states(currency='JPY',n_per=6)\n",
        "Data"
      ],
      "outputs": [
        {
          "output_type": "execute_result",
          "execution_count": 15,
          "data": {
            "application/vnd.deepnote.dataframe.v3+json": {
              "column_count": 1,
              "row_count": 1247,
              "columns": [
                {
                  "name": "Estado",
                  "dtype": "object",
                  "stats": {
                    "unique_count": 4,
                    "nan_count": 0,
                    "categories": [
                      {
                        "name": "D1",
                        "count": 410
                      },
                      {
                        "name": "I1",
                        "count": 388
                      },
                      {
                        "name": "2 others",
                        "count": 449
                      }
                    ]
                  }
                },
                {
                  "name": "_deepnote_index_column",
                  "dtype": "int64"
                }
              ],
              "rows": [
                {
                  "Estado": "I1",
                  "_deepnote_index_column": 0
                },
                {
                  "Estado": "I2",
                  "_deepnote_index_column": 1
                },
                {
                  "Estado": "I1",
                  "_deepnote_index_column": 2
                },
                {
                  "Estado": "I1",
                  "_deepnote_index_column": 3
                },
                {
                  "Estado": "I1",
                  "_deepnote_index_column": 4
                }
              ]
            },
            "text/plain": "     Estado\n0        I1\n1        I2\n2        I1\n3        I1\n4        I1\n...     ...\n1242     D1\n1243     I1\n1244     I1\n1245     I1\n1246     I1\n\n[1247 rows x 1 columns]",
            "text/html": "<div>\n<style scoped>\n    .dataframe tbody tr th:only-of-type {\n        vertical-align: middle;\n    }\n\n    .dataframe tbody tr th {\n        vertical-align: top;\n    }\n\n    .dataframe thead th {\n        text-align: right;\n    }\n</style>\n<table border=\"1\" class=\"dataframe\">\n  <thead>\n    <tr style=\"text-align: right;\">\n      <th></th>\n      <th>Estado</th>\n    </tr>\n  </thead>\n  <tbody>\n    <tr>\n      <th>0</th>\n      <td>I1</td>\n    </tr>\n    <tr>\n      <th>1</th>\n      <td>I2</td>\n    </tr>\n    <tr>\n      <th>2</th>\n      <td>I1</td>\n    </tr>\n    <tr>\n      <th>3</th>\n      <td>I1</td>\n    </tr>\n    <tr>\n      <th>4</th>\n      <td>I1</td>\n    </tr>\n    <tr>\n      <th>...</th>\n      <td>...</td>\n    </tr>\n    <tr>\n      <th>1242</th>\n      <td>D1</td>\n    </tr>\n    <tr>\n      <th>1243</th>\n      <td>I1</td>\n    </tr>\n    <tr>\n      <th>1244</th>\n      <td>I1</td>\n    </tr>\n    <tr>\n      <th>1245</th>\n      <td>I1</td>\n    </tr>\n    <tr>\n      <th>1246</th>\n      <td>I1</td>\n    </tr>\n  </tbody>\n</table>\n<p>1247 rows × 1 columns</p>\n</div>"
          },
          "metadata": {}
        }
      ],
      "execution_count": 15,
      "metadata": {
        "deepnote_app_block_visible": true,
        "deepnote_table_loading": false,
        "execution_millis": 518,
        "source_hash": "bfc4844",
        "deepnote_cell_type": "code",
        "cell_id": "a33366bac3774b019391b6cd96b8e9c1",
        "execution_start": 1724125833189,
        "deepnote_to_be_reexecuted": false,
        "deepnote_table_state": {
          "sortBy": [],
          "filters": [],
          "pageSize": 5,
          "pageIndex": 0,
          "conditionalFilters": []
        }
      }
    },
    {
      "cell_type": "markdown",
      "source": [
        "### Estado Anterior, Actual y Siguiente"
      ],
      "metadata": {
        "deepnote_app_block_visible": true,
        "cell_id": "bab7948a839245779f0812acddf73a63",
        "deepnote_cell_type": "markdown"
      }
    },
    {
      "cell_type": "code",
      "source": [
        "Data.columns = [\"x_t\"]\n",
        "Data[\"x_t+1\"] = Data[\"x_t\"].shift(-1)\n",
        "Data[\"x_t+2\"] = Data[\"x_t+1\"].shift(-1)\n",
        "Data"
      ],
      "outputs": [
        {
          "output_type": "execute_result",
          "execution_count": 16,
          "data": {
            "application/vnd.deepnote.dataframe.v3+json": {
              "column_count": 3,
              "row_count": 1247,
              "columns": [
                {
                  "name": "x_t",
                  "dtype": "object",
                  "stats": {
                    "unique_count": 4,
                    "nan_count": 0,
                    "categories": [
                      {
                        "name": "D1",
                        "count": 410
                      },
                      {
                        "name": "I1",
                        "count": 388
                      },
                      {
                        "name": "2 others",
                        "count": 449
                      }
                    ]
                  }
                },
                {
                  "name": "x_t+1",
                  "dtype": "object",
                  "stats": {
                    "unique_count": 4,
                    "nan_count": 1,
                    "categories": [
                      {
                        "name": "D1",
                        "count": 410
                      },
                      {
                        "name": "3 others",
                        "count": 836
                      },
                      {
                        "name": "Missing",
                        "count": 1
                      }
                    ]
                  }
                },
                {
                  "name": "x_t+2",
                  "dtype": "object",
                  "stats": {
                    "unique_count": 4,
                    "nan_count": 2,
                    "categories": [
                      {
                        "name": "D1",
                        "count": 410
                      },
                      {
                        "name": "3 others",
                        "count": 835
                      },
                      {
                        "name": "Missing",
                        "count": 2
                      }
                    ]
                  }
                },
                {
                  "name": "_deepnote_index_column",
                  "dtype": "int64"
                }
              ],
              "rows": [
                {
                  "x_t": "I1",
                  "x_t+1": "I2",
                  "x_t+2": "I1",
                  "_deepnote_index_column": 0
                },
                {
                  "x_t": "I2",
                  "x_t+1": "I1",
                  "x_t+2": "I1",
                  "_deepnote_index_column": 1
                },
                {
                  "x_t": "I1",
                  "x_t+1": "I1",
                  "x_t+2": "I1",
                  "_deepnote_index_column": 2
                },
                {
                  "x_t": "I1",
                  "x_t+1": "I1",
                  "x_t+2": "D1",
                  "_deepnote_index_column": 3
                },
                {
                  "x_t": "I1",
                  "x_t+1": "D1",
                  "x_t+2": "D2",
                  "_deepnote_index_column": 4
                },
                {
                  "x_t": "D1",
                  "x_t+1": "D2",
                  "x_t+2": "I2",
                  "_deepnote_index_column": 5
                },
                {
                  "x_t": "D2",
                  "x_t+1": "I2",
                  "x_t+2": "I2",
                  "_deepnote_index_column": 6
                },
                {
                  "x_t": "I2",
                  "x_t+1": "I2",
                  "x_t+2": "I1",
                  "_deepnote_index_column": 7
                },
                {
                  "x_t": "I2",
                  "x_t+1": "I1",
                  "x_t+2": "D1",
                  "_deepnote_index_column": 8
                },
                {
                  "x_t": "I1",
                  "x_t+1": "D1",
                  "x_t+2": "I2",
                  "_deepnote_index_column": 9
                }
              ]
            },
            "text/plain": "     x_t x_t+1 x_t+2\n0     I1    I2    I1\n1     I2    I1    I1\n2     I1    I1    I1\n3     I1    I1    D1\n4     I1    D1    D2\n...   ..   ...   ...\n1242  D1    I1    I1\n1243  I1    I1    I1\n1244  I1    I1    I1\n1245  I1    I1  None\n1246  I1  None  None\n\n[1247 rows x 3 columns]",
            "text/html": "<div>\n<style scoped>\n    .dataframe tbody tr th:only-of-type {\n        vertical-align: middle;\n    }\n\n    .dataframe tbody tr th {\n        vertical-align: top;\n    }\n\n    .dataframe thead th {\n        text-align: right;\n    }\n</style>\n<table border=\"1\" class=\"dataframe\">\n  <thead>\n    <tr style=\"text-align: right;\">\n      <th></th>\n      <th>x_t</th>\n      <th>x_t+1</th>\n      <th>x_t+2</th>\n    </tr>\n  </thead>\n  <tbody>\n    <tr>\n      <th>0</th>\n      <td>I1</td>\n      <td>I2</td>\n      <td>I1</td>\n    </tr>\n    <tr>\n      <th>1</th>\n      <td>I2</td>\n      <td>I1</td>\n      <td>I1</td>\n    </tr>\n    <tr>\n      <th>2</th>\n      <td>I1</td>\n      <td>I1</td>\n      <td>I1</td>\n    </tr>\n    <tr>\n      <th>3</th>\n      <td>I1</td>\n      <td>I1</td>\n      <td>D1</td>\n    </tr>\n    <tr>\n      <th>4</th>\n      <td>I1</td>\n      <td>D1</td>\n      <td>D2</td>\n    </tr>\n    <tr>\n      <th>...</th>\n      <td>...</td>\n      <td>...</td>\n      <td>...</td>\n    </tr>\n    <tr>\n      <th>1242</th>\n      <td>D1</td>\n      <td>I1</td>\n      <td>I1</td>\n    </tr>\n    <tr>\n      <th>1243</th>\n      <td>I1</td>\n      <td>I1</td>\n      <td>I1</td>\n    </tr>\n    <tr>\n      <th>1244</th>\n      <td>I1</td>\n      <td>I1</td>\n      <td>I1</td>\n    </tr>\n    <tr>\n      <th>1245</th>\n      <td>I1</td>\n      <td>I1</td>\n      <td>None</td>\n    </tr>\n    <tr>\n      <th>1246</th>\n      <td>I1</td>\n      <td>None</td>\n      <td>None</td>\n    </tr>\n  </tbody>\n</table>\n<p>1247 rows × 3 columns</p>\n</div>"
          },
          "metadata": {}
        }
      ],
      "execution_count": 16,
      "metadata": {
        "source_hash": "50cb1c6e",
        "execution_start": 1724125833216,
        "execution_millis": 491,
        "deepnote_to_be_reexecuted": false,
        "deepnote_app_block_visible": true,
        "cell_id": "aa9245ea02a24fada3e50406dd70720e",
        "deepnote_cell_type": "code"
      }
    },
    {
      "cell_type": "markdown",
      "source": [
        "En este caso, con la divisa de Japón se categoriza con la función mencionada anteriormente `final_state`, y se crean dos columnas más: `Actual y Siguiente`, que permiten analizar cómo los estados de la moneda cambian en los periodos, proporcionando una visión más completa de las tendencias y patrones a lo largo del tiempo"
      ],
      "metadata": {
        "deepnote_app_block_visible": true,
        "cell_id": "9759355398b54a4cae2b1d0a079b35d8",
        "deepnote_cell_type": "markdown"
      }
    },
    {
      "cell_type": "markdown",
      "source": [
        "### Frecuencia Observada"
      ],
      "metadata": {
        "deepnote_app_block_visible": true,
        "cell_id": "2d9dd5658bf044ab8230d7ab05dd6656",
        "deepnote_cell_type": "markdown"
      }
    },
    {
      "cell_type": "code",
      "source": [
        "freq_obs = pd.DataFrame(columns=(\"Anterior\", \"Actual\") )\n",
        "for i in Estados:\n",
        "    for j in Estados:\n",
        "        freq_obs.loc[len(freq_obs)] = [i,j]\n",
        "for i in Estados +[\"Total\"]:\n",
        "    freq_obs[i] = 0\n",
        "for i in freq_obs.index:\n",
        "    for j in Estados:\n",
        "        for k in Data.index:\n",
        "            if freq_obs.loc[i].tolist()[:2]+[j] == Data.loc[k].tolist():\n",
        "                freq_obs.loc[i, j] += 1\n",
        "    freq_obs[\"Total\"] = freq_obs[[Estados[0],Estados[1],Estados[2],Estados[3]]].sum(axis=1)\n",
        "print(freq_obs)"
      ],
      "outputs": [
        {
          "output_type": "stream",
          "name": "stdout",
          "text": "   Anterior Actual  D2  D1  I1  I2  Total\n0        D2     D2   4  17  14   8     43\n1        D2     D1   7  26  27   7     67\n2        D2     I1  10  24  23  11     68\n3        D2     I2  12  21  13   8     54\n4        D1     D2   9  23  24  15     71\n5        D1     D1  20  59  34  29    142\n6        D1     I1  26  43  38  16    123\n7        D1     I2  20  19  18  17     74\n8        I1     D2  16  18  15  19     68\n9        I1     D1  30  38  37  30    135\n10       I1     I1  25  46  38  18    127\n11       I1     I2  14  16  20   6     56\n12       I2     D2  14   9  15  12     50\n13       I2     D1  14  19  25   8     66\n14       I2     I1   7  22  29  10     68\n15       I2     I2   4  10  17   2     33\n"
        }
      ],
      "execution_count": 17,
      "metadata": {
        "deepnote_app_block_visible": true,
        "deepnote_table_loading": false,
        "execution_millis": 7631,
        "source_hash": "b0a52f4f",
        "deepnote_cell_type": "code",
        "cell_id": "4253ee2a0bcf4a1dbd2147e041ea577d",
        "execution_start": 1724125833273,
        "deepnote_to_be_reexecuted": false,
        "deepnote_table_state": {
          "sortBy": [],
          "filters": [],
          "pageSize": 10,
          "pageIndex": 0,
          "conditionalFilters": []
        }
      }
    },
    {
      "cell_type": "markdown",
      "source": [
        "Se realiza una tabla de frecuencia en el cual se examinan todas las combinaciones posibles entre los valores de las columnas `Anterior, Actual y Siguiente`. Para cada combinación única identificada en la base de datos denominada `Data`, se procede a contabilizar la frecuencia de su aparición."
      ],
      "metadata": {
        "deepnote_app_block_visible": true,
        "cell_id": "7ca74755ca934417806c9ed3533322db",
        "deepnote_cell_type": "markdown"
      }
    },
    {
      "cell_type": "markdown",
      "source": [
        "Frecuencia Esperada"
      ],
      "metadata": {
        "deepnote_app_block_visible": true,
        "cell_id": "1334bde27bee4a15acfac83a18bc5209",
        "deepnote_cell_type": "markdown"
      }
    },
    {
      "cell_type": "code",
      "source": [
        "freq_esp = freq_obs.copy()\n",
        "for i in freq_esp.columns[2:]:\n",
        "    freq_esp[i] = 0\n",
        "for i in freq_esp.index:\n",
        "    for j in Estados:\n",
        "        for k in Data.index:\n",
        "            if [freq_esp.loc[i].tolist()[1]]+[j] == Data.loc[k].tolist()[1:3]:\n",
        "                freq_esp.loc[i, j] += 1\n",
        "    freq_esp[\"Total\"] = freq_esp[[Estados[0],Estados[1],Estados[2],Estados[3]]].sum(axis=1)\n",
        "print(freq_esp)"
      ],
      "outputs": [
        {
          "output_type": "stream",
          "name": "stdout",
          "text": "   Anterior Actual  D2   D1   I1  I2  Total\n0        D2     D2  43   67   68  54    232\n1        D2     D1  71  142  123  74    410\n2        D2     I1  68  135  128  55    386\n3        D2     I2  50   66   68  33    217\n4        D1     D2  43   67   68  54    232\n5        D1     D1  71  142  123  74    410\n6        D1     I1  68  135  128  55    386\n7        D1     I2  50   66   68  33    217\n8        I1     D2  43   67   68  54    232\n9        I1     D1  71  142  123  74    410\n10       I1     I1  68  135  128  55    386\n11       I1     I2  50   66   68  33    217\n12       I2     D2  43   67   68  54    232\n13       I2     D1  71  142  123  74    410\n14       I2     I1  68  135  128  55    386\n15       I2     I2  50   66   68  33    217\n"
        }
      ],
      "execution_count": 18,
      "metadata": {
        "source_hash": "3033a2a8",
        "execution_start": 1724125840909,
        "execution_millis": 8215,
        "deepnote_to_be_reexecuted": false,
        "deepnote_app_block_visible": true,
        "cell_id": "9536e5d21700443b923194f55ef67fe3",
        "deepnote_cell_type": "code"
      }
    },
    {
      "cell_type": "markdown",
      "source": [
        "Se elabora una tabla de `frecuencia esperada` donde se incluyen todas las columnas presentes en la tabla de frecuencia observada, con la excepción de la columna `Anterior`. Se identifica y contabiliza la frecuencia de cada combinación única de valores presentes en la tabla de `frecuencia esperada` de la base de datos `Data`. Dado que en esta tabla más del 25% de los registros presentan una frecuencia superior a 5, no se requiere la concatenación de filas."
      ],
      "metadata": {
        "deepnote_app_block_visible": true,
        "cell_id": "37d86c15e25a4569ba1a0bb1d213551a",
        "deepnote_cell_type": "markdown"
      }
    },
    {
      "cell_type": "markdown",
      "source": [
        "Probabilidad observada y esperada"
      ],
      "metadata": {
        "deepnote_app_block_visible": true,
        "cell_id": "7229eac21dc94733a1a34520ce8ca10a",
        "deepnote_cell_type": "markdown"
      }
    },
    {
      "cell_type": "code",
      "source": [
        "prob_obs = freq_obs[Estados].div(freq_obs[\"Total\"], axis=0)\n",
        "print(prob_obs)"
      ],
      "outputs": [
        {
          "output_type": "stream",
          "name": "stdout",
          "text": "          D2        D1        I1        I2\n0   0.093023  0.395349  0.325581  0.186047\n1   0.104478  0.388060  0.402985  0.104478\n2   0.147059  0.352941  0.338235  0.161765\n3   0.222222  0.388889  0.240741  0.148148\n4   0.126761  0.323944  0.338028  0.211268\n5   0.140845  0.415493  0.239437  0.204225\n6   0.211382  0.349593  0.308943  0.130081\n7   0.270270  0.256757  0.243243  0.229730\n8   0.235294  0.264706  0.220588  0.279412\n9   0.222222  0.281481  0.274074  0.222222\n10  0.196850  0.362205  0.299213  0.141732\n11  0.250000  0.285714  0.357143  0.107143\n12  0.280000  0.180000  0.300000  0.240000\n13  0.212121  0.287879  0.378788  0.121212\n14  0.102941  0.323529  0.426471  0.147059\n15  0.121212  0.303030  0.515152  0.060606\n"
        }
      ],
      "execution_count": 19,
      "metadata": {
        "source_hash": "d644b53e",
        "execution_start": 1724125849130,
        "execution_millis": 22,
        "deepnote_to_be_reexecuted": false,
        "deepnote_app_block_visible": true,
        "cell_id": "328181d780714a448565020a08b661de",
        "deepnote_cell_type": "code"
      }
    },
    {
      "cell_type": "code",
      "source": [
        "prob_esp = freq_esp[Estados].div(freq_esp[\"Total\"], axis=0)\n",
        "print(prob_esp)"
      ],
      "outputs": [
        {
          "output_type": "stream",
          "name": "stdout",
          "text": "          D2        D1        I1        I2\n0   0.185345  0.288793  0.293103  0.232759\n1   0.173171  0.346341  0.300000  0.180488\n2   0.176166  0.349741  0.331606  0.142487\n3   0.230415  0.304147  0.313364  0.152074\n4   0.185345  0.288793  0.293103  0.232759\n5   0.173171  0.346341  0.300000  0.180488\n6   0.176166  0.349741  0.331606  0.142487\n7   0.230415  0.304147  0.313364  0.152074\n8   0.185345  0.288793  0.293103  0.232759\n9   0.173171  0.346341  0.300000  0.180488\n10  0.176166  0.349741  0.331606  0.142487\n11  0.230415  0.304147  0.313364  0.152074\n12  0.185345  0.288793  0.293103  0.232759\n13  0.173171  0.346341  0.300000  0.180488\n14  0.176166  0.349741  0.331606  0.142487\n15  0.230415  0.304147  0.313364  0.152074\n"
        }
      ],
      "execution_count": 20,
      "metadata": {
        "source_hash": "8ce28055",
        "execution_start": 1724125849150,
        "execution_millis": 34,
        "deepnote_to_be_reexecuted": false,
        "deepnote_app_block_visible": true,
        "cell_id": "2be4d58630a740c79b6388252486d4dc",
        "deepnote_cell_type": "code"
      }
    },
    {
      "cell_type": "markdown",
      "source": [
        "Para calcular la probabilidades observadas y esperadas se necesita de las tablas de `frecuencia observada y esperada` las columnas `Estados` y dividir eso entre el total de cada una de las frecuencias respectivamente."
      ],
      "metadata": {
        "deepnote_app_block_visible": true,
        "cell_id": "c0aa0bbeb32940619c042b805568ea94",
        "deepnote_cell_type": "markdown"
      }
    },
    {
      "cell_type": "markdown",
      "source": [
        "### Prueba de Hipótesis Propiedad Markoviana"
      ],
      "metadata": {
        "deepnote_app_block_visible": true,
        "cell_id": "00a3a266a4c14b078ba96e29d1602aa8",
        "deepnote_cell_type": "markdown"
      }
    },
    {
      "cell_type": "code",
      "source": [
        "chi_2 = (((prob_obs - prob_esp) ** 2 / prob_esp).sum(axis=1) * freq_obs[\"Total\"]).sum()\n",
        "deg_free = (prob_esp.shape[1]-1)*(prob_esp.shape[0]-1)\n",
        "print(chi_2)\n",
        "print(deg_free)"
      ],
      "outputs": [
        {
          "output_type": "stream",
          "name": "stdout",
          "text": "57.48190169331379\n45\n"
        }
      ],
      "execution_count": 21,
      "metadata": {
        "source_hash": "28319ec0",
        "execution_start": 1724125849159,
        "execution_millis": 63,
        "deepnote_to_be_reexecuted": false,
        "deepnote_app_block_visible": true,
        "cell_id": "e796387ad2024caf93fff0d3a0cdd1aa",
        "deepnote_cell_type": "code"
      }
    },
    {
      "cell_type": "markdown",
      "source": [
        "Conclusión de la prueba de hipotesis"
      ],
      "metadata": {
        "deepnote_app_block_visible": true,
        "cell_id": "2c35cd6cae5f45a1abd49b646d3f24ba",
        "deepnote_cell_type": "markdown"
      }
    },
    {
      "cell_type": "code",
      "source": [
        "alpha = 0.05\n",
        "chi2_inv = stats.chi2.ppf(1-alpha, deg_free)\n",
        "print(chi2_inv)\n",
        "if chi_2 < chi2_inv:\n",
        "    Markov = \"No se rechaza Ho\"\n",
        "else:\n",
        "    Markov = \"Se rechaza Ho\"\n",
        "print(Markov)"
      ],
      "outputs": [
        {
          "output_type": "stream",
          "name": "stdout",
          "text": "61.65623337627955\nNo se rechaza Ho\n"
        }
      ],
      "execution_count": 22,
      "metadata": {
        "source_hash": "b92aab1b",
        "execution_start": 1724125849166,
        "execution_millis": 57,
        "deepnote_to_be_reexecuted": false,
        "deepnote_app_block_visible": true,
        "cell_id": "179f43d3867842238d88bdc5f1df1c98",
        "deepnote_cell_type": "code"
      }
    },
    {
      "cell_type": "markdown",
      "source": [
        "Se determina el valor crítico `chi2_inv` para un nivel de significancia del `5%`. Si el estadístico `chi-cuadrado` es menor que el valor crítico, no se rechaza la hipótesis nula `Ho`, lo que sugiere que el proceso puede ser modelado como una cadena de Markov. De lo contrario, se rechaza la hipótesis nula."
      ],
      "metadata": {
        "deepnote_app_block_visible": true,
        "cell_id": "bb1ce8c35f084f6d8bb77b8c84c51cca",
        "deepnote_cell_type": "markdown"
      }
    },
    {
      "cell_type": "markdown",
      "source": [
        "Creación de la tabla de frecuencia markoviana (Anterior y Actual)"
      ],
      "metadata": {
        "deepnote_app_block_visible": true,
        "cell_id": "03afc3d133574b71bd64801c4e2c31fa",
        "deepnote_cell_type": "markdown"
      }
    },
    {
      "cell_type": "code",
      "source": [
        "freq_Markov = pd.DataFrame(0,columns= Estados+[\"Total\"], index=Estados)\n",
        "freq_Markov\n",
        "for i in Estados:\n",
        "    for j in Estados:\n",
        "        for k in Data.index:\n",
        "            if Data.loc[k].tolist()[:2] == [i,j]:\n",
        "                freq_Markov.loc[i, j] += 1\n",
        "    freq_Markov[\"Total\"] = freq_Markov[[Estados[0],Estados[1],Estados[2],Estados[3]]].sum(axis=1)\n",
        "freq_Markov"
      ],
      "outputs": [
        {
          "output_type": "execute_result",
          "execution_count": 23,
          "data": {
            "application/vnd.deepnote.dataframe.v3+json": {
              "column_count": 5,
              "row_count": 4,
              "columns": [
                {
                  "name": "D2",
                  "dtype": "int64",
                  "stats": {
                    "unique_count": 4,
                    "nan_count": 0,
                    "min": "43",
                    "max": "71",
                    "histogram": [
                      {
                        "bin_start": 43,
                        "bin_end": 45.8,
                        "count": 1
                      },
                      {
                        "bin_start": 45.8,
                        "bin_end": 48.6,
                        "count": 0
                      },
                      {
                        "bin_start": 48.6,
                        "bin_end": 51.4,
                        "count": 1
                      },
                      {
                        "bin_start": 51.4,
                        "bin_end": 54.2,
                        "count": 0
                      },
                      {
                        "bin_start": 54.2,
                        "bin_end": 57,
                        "count": 0
                      },
                      {
                        "bin_start": 57,
                        "bin_end": 59.8,
                        "count": 0
                      },
                      {
                        "bin_start": 59.8,
                        "bin_end": 62.599999999999994,
                        "count": 0
                      },
                      {
                        "bin_start": 62.599999999999994,
                        "bin_end": 65.4,
                        "count": 0
                      },
                      {
                        "bin_start": 65.4,
                        "bin_end": 68.2,
                        "count": 1
                      },
                      {
                        "bin_start": 68.2,
                        "bin_end": 71,
                        "count": 1
                      }
                    ]
                  }
                },
                {
                  "name": "D1",
                  "dtype": "int64",
                  "stats": {
                    "unique_count": 4,
                    "nan_count": 0,
                    "min": "66",
                    "max": "142",
                    "histogram": [
                      {
                        "bin_start": 66,
                        "bin_end": 73.6,
                        "count": 2
                      },
                      {
                        "bin_start": 73.6,
                        "bin_end": 81.2,
                        "count": 0
                      },
                      {
                        "bin_start": 81.2,
                        "bin_end": 88.8,
                        "count": 0
                      },
                      {
                        "bin_start": 88.8,
                        "bin_end": 96.4,
                        "count": 0
                      },
                      {
                        "bin_start": 96.4,
                        "bin_end": 104,
                        "count": 0
                      },
                      {
                        "bin_start": 104,
                        "bin_end": 111.6,
                        "count": 0
                      },
                      {
                        "bin_start": 111.6,
                        "bin_end": 119.19999999999999,
                        "count": 0
                      },
                      {
                        "bin_start": 119.19999999999999,
                        "bin_end": 126.8,
                        "count": 0
                      },
                      {
                        "bin_start": 126.8,
                        "bin_end": 134.39999999999998,
                        "count": 0
                      },
                      {
                        "bin_start": 134.39999999999998,
                        "bin_end": 142,
                        "count": 2
                      }
                    ]
                  }
                },
                {
                  "name": "I1",
                  "dtype": "int64",
                  "stats": {
                    "unique_count": 3,
                    "nan_count": 0,
                    "min": "68",
                    "max": "128",
                    "histogram": [
                      {
                        "bin_start": 68,
                        "bin_end": 74,
                        "count": 2
                      },
                      {
                        "bin_start": 74,
                        "bin_end": 80,
                        "count": 0
                      },
                      {
                        "bin_start": 80,
                        "bin_end": 86,
                        "count": 0
                      },
                      {
                        "bin_start": 86,
                        "bin_end": 92,
                        "count": 0
                      },
                      {
                        "bin_start": 92,
                        "bin_end": 98,
                        "count": 0
                      },
                      {
                        "bin_start": 98,
                        "bin_end": 104,
                        "count": 0
                      },
                      {
                        "bin_start": 104,
                        "bin_end": 110,
                        "count": 0
                      },
                      {
                        "bin_start": 110,
                        "bin_end": 116,
                        "count": 0
                      },
                      {
                        "bin_start": 116,
                        "bin_end": 122,
                        "count": 0
                      },
                      {
                        "bin_start": 122,
                        "bin_end": 128,
                        "count": 2
                      }
                    ]
                  }
                },
                {
                  "name": "I2",
                  "dtype": "int64",
                  "stats": {
                    "unique_count": 4,
                    "nan_count": 0,
                    "min": "33",
                    "max": "74",
                    "histogram": [
                      {
                        "bin_start": 33,
                        "bin_end": 37.1,
                        "count": 1
                      },
                      {
                        "bin_start": 37.1,
                        "bin_end": 41.2,
                        "count": 0
                      },
                      {
                        "bin_start": 41.2,
                        "bin_end": 45.3,
                        "count": 0
                      },
                      {
                        "bin_start": 45.3,
                        "bin_end": 49.4,
                        "count": 0
                      },
                      {
                        "bin_start": 49.4,
                        "bin_end": 53.5,
                        "count": 0
                      },
                      {
                        "bin_start": 53.5,
                        "bin_end": 57.599999999999994,
                        "count": 2
                      },
                      {
                        "bin_start": 57.599999999999994,
                        "bin_end": 61.699999999999996,
                        "count": 0
                      },
                      {
                        "bin_start": 61.699999999999996,
                        "bin_end": 65.8,
                        "count": 0
                      },
                      {
                        "bin_start": 65.8,
                        "bin_end": 69.9,
                        "count": 0
                      },
                      {
                        "bin_start": 69.9,
                        "bin_end": 74,
                        "count": 1
                      }
                    ]
                  }
                },
                {
                  "name": "Total",
                  "dtype": "int64",
                  "stats": {
                    "unique_count": 4,
                    "nan_count": 0,
                    "min": "217",
                    "max": "410",
                    "histogram": [
                      {
                        "bin_start": 217,
                        "bin_end": 236.3,
                        "count": 2
                      },
                      {
                        "bin_start": 236.3,
                        "bin_end": 255.6,
                        "count": 0
                      },
                      {
                        "bin_start": 255.6,
                        "bin_end": 274.9,
                        "count": 0
                      },
                      {
                        "bin_start": 274.9,
                        "bin_end": 294.2,
                        "count": 0
                      },
                      {
                        "bin_start": 294.2,
                        "bin_end": 313.5,
                        "count": 0
                      },
                      {
                        "bin_start": 313.5,
                        "bin_end": 332.8,
                        "count": 0
                      },
                      {
                        "bin_start": 332.8,
                        "bin_end": 352.1,
                        "count": 0
                      },
                      {
                        "bin_start": 352.1,
                        "bin_end": 371.4,
                        "count": 0
                      },
                      {
                        "bin_start": 371.4,
                        "bin_end": 390.70000000000005,
                        "count": 1
                      },
                      {
                        "bin_start": 390.70000000000005,
                        "bin_end": 410,
                        "count": 1
                      }
                    ]
                  }
                },
                {
                  "name": "_deepnote_index_column",
                  "dtype": "object"
                }
              ],
              "rows": [
                {
                  "D2": 43,
                  "D1": 67,
                  "I1": 68,
                  "I2": 54,
                  "Total": 232,
                  "_deepnote_index_column": "D2"
                },
                {
                  "D2": 71,
                  "D1": 142,
                  "I1": 123,
                  "I2": 74,
                  "Total": 410,
                  "_deepnote_index_column": "D1"
                },
                {
                  "D2": 68,
                  "D1": 135,
                  "I1": 128,
                  "I2": 56,
                  "Total": 387,
                  "_deepnote_index_column": "I1"
                },
                {
                  "D2": 50,
                  "D1": 66,
                  "I1": 68,
                  "I2": 33,
                  "Total": 217,
                  "_deepnote_index_column": "I2"
                }
              ]
            },
            "text/plain": "    D2   D1   I1  I2  Total\nD2  43   67   68  54    232\nD1  71  142  123  74    410\nI1  68  135  128  56    387\nI2  50   66   68  33    217",
            "text/html": "<div>\n<style scoped>\n    .dataframe tbody tr th:only-of-type {\n        vertical-align: middle;\n    }\n\n    .dataframe tbody tr th {\n        vertical-align: top;\n    }\n\n    .dataframe thead th {\n        text-align: right;\n    }\n</style>\n<table border=\"1\" class=\"dataframe\">\n  <thead>\n    <tr style=\"text-align: right;\">\n      <th></th>\n      <th>D2</th>\n      <th>D1</th>\n      <th>I1</th>\n      <th>I2</th>\n      <th>Total</th>\n    </tr>\n  </thead>\n  <tbody>\n    <tr>\n      <th>D2</th>\n      <td>43</td>\n      <td>67</td>\n      <td>68</td>\n      <td>54</td>\n      <td>232</td>\n    </tr>\n    <tr>\n      <th>D1</th>\n      <td>71</td>\n      <td>142</td>\n      <td>123</td>\n      <td>74</td>\n      <td>410</td>\n    </tr>\n    <tr>\n      <th>I1</th>\n      <td>68</td>\n      <td>135</td>\n      <td>128</td>\n      <td>56</td>\n      <td>387</td>\n    </tr>\n    <tr>\n      <th>I2</th>\n      <td>50</td>\n      <td>66</td>\n      <td>68</td>\n      <td>33</td>\n      <td>217</td>\n    </tr>\n  </tbody>\n</table>\n</div>"
          },
          "metadata": {}
        }
      ],
      "execution_count": 23,
      "metadata": {
        "source_hash": "2d43460",
        "execution_start": 1724125849207,
        "execution_millis": 964,
        "deepnote_to_be_reexecuted": false,
        "deepnote_app_block_visible": true,
        "cell_id": "b8a976921c5e4645a3e493ad919cb272",
        "deepnote_cell_type": "code"
      }
    },
    {
      "cell_type": "markdown",
      "source": [
        "Se realiza una tabla de frecuencia en el cual se examinan todas las combinaciones posibles entre los valores de las columnas `Anterior y Actual`. Para cada combinación única identificada en la base de datos denominada `Data`, se procede a contabilizar la frecuencia de su aparición."
      ],
      "metadata": {
        "deepnote_app_block_visible": true,
        "cell_id": "14ecae8d876c497dab25a7b28f8e1231",
        "deepnote_cell_type": "markdown"
      }
    },
    {
      "cell_type": "markdown",
      "source": [
        "### Matríz de transición"
      ],
      "metadata": {
        "deepnote_app_block_visible": true,
        "cell_id": "10270043814a439faa1ba726f00c457a",
        "deepnote_cell_type": "markdown"
      }
    },
    {
      "cell_type": "code",
      "source": [
        "prob_Markov = freq_Markov[Estados].div(freq_Markov[\"Total\"], axis=0)\n",
        "prob_Markov[\"Total\"] = prob_Markov.sum(axis=1)\n",
        "print(prob_Markov)"
      ],
      "outputs": [
        {
          "output_type": "stream",
          "name": "stdout",
          "text": "          D2        D1        I1        I2  Total\nD2  0.185345  0.288793  0.293103  0.232759    1.0\nD1  0.173171  0.346341  0.300000  0.180488    1.0\nI1  0.175711  0.348837  0.330749  0.144703    1.0\nI2  0.230415  0.304147  0.313364  0.152074    1.0\n"
        }
      ],
      "execution_count": 24,
      "metadata": {
        "source_hash": "5439b1a2",
        "execution_start": 1724125850183,
        "execution_millis": 266,
        "deepnote_to_be_reexecuted": false,
        "deepnote_app_block_visible": true,
        "cell_id": "c02c55254c5c41b18d9b9a47c08f4c27",
        "deepnote_cell_type": "code"
      }
    },
    {
      "cell_type": "markdown",
      "source": [
        "Para calcular la matríz de transición obtiene los datos de las columnas `Estados` de la tabla de `frecuencia de transición` y se divide en el total de la misma tabla."
      ],
      "metadata": {
        "deepnote_app_block_visible": true,
        "cell_id": "d4720c5b772b40e28aaa6691dbc1786b",
        "deepnote_cell_type": "markdown"
      }
    },
    {
      "cell_type": "markdown",
      "source": [
        "### Función de la markoviana"
      ],
      "metadata": {
        "deepnote_app_block_visible": true,
        "cell_id": "0cc7d2abe717447bb7163a684d212e41",
        "deepnote_cell_type": "markdown"
      }
    },
    {
      "cell_type": "markdown",
      "source": [
        "Esta función crea la matríz de transición y la prueba de hipotesis de la cadena de Markov de cualquier divisa, con su respectivo limpieza de datos. "
      ],
      "metadata": {
        "deepnote_app_block_visible": true,
        "cell_id": "288da2a218dc47539c3c95df22293270",
        "deepnote_cell_type": "markdown"
      }
    },
    {
      "cell_type": "code",
      "source": [
        "def markoviana(currency, n_per = 6):\n",
        "\n",
        "    Data = final_states(currency= currency,n_per=n_per)\n",
        "    Data.columns = [\"x_t\"]\n",
        "    Data[\"x_t+1\"] = Data[\"x_t\"].shift(-1)\n",
        "    Data[\"x_t+2\"] = Data[\"x_t+1\"].shift(-1)\n",
        "\n",
        "    freq_obs = pd.DataFrame(columns=(\"Anterior\", \"Actual\") )\n",
        "    for i in Estados:\n",
        "        for j in Estados:\n",
        "            freq_obs.loc[len(freq_obs)] = [i,j]\n",
        "    for i in Estados +[\"Total\"]:\n",
        "        freq_obs[i] = 0\n",
        "    for i in freq_obs.index:\n",
        "        for j in Estados:\n",
        "            for k in Data.index:\n",
        "                if freq_obs.loc[i].tolist()[:2]+[j] == Data.loc[k].tolist():\n",
        "                    freq_obs.loc[i, j] += 1\n",
        "        freq_obs[\"Total\"] = freq_obs[[Estados[0],Estados[1],Estados[2],Estados[3]]].sum(axis=1)\n",
        "\n",
        "    freq_esp = freq_obs.copy()\n",
        "    for i in freq_esp.columns[2:]:\n",
        "        freq_esp[i] = 0\n",
        "    for i in freq_esp.index:\n",
        "        for j in Estados:\n",
        "            for k in Data.index:\n",
        "                if [freq_esp.loc[i].tolist()[1]]+[j] == Data.loc[k].tolist()[1:3]:\n",
        "                    freq_esp.loc[i, j] += 1\n",
        "        freq_esp[\"Total\"] = freq_esp[[Estados[0],Estados[1],Estados[2],Estados[3]]].sum(axis=1)\n",
        "\n",
        "    prob_obs = freq_obs[Estados].div(freq_obs[\"Total\"], axis=0)\n",
        "    prob_esp = freq_esp[Estados].div(freq_esp[\"Total\"], axis=0)\n",
        "    resultado = ((prob_obs - prob_esp) ** 2 / prob_esp).sum(axis=1) * freq_obs[\"Total\"]\n",
        "    chi_2 = resultado.sum()\n",
        "    deg_free = (prob_esp.shape[1]-1)*(prob_esp.shape[0]-1)\n",
        "    alpha = 0.05\n",
        "    chi2_inv = stats.chi2.ppf(1-alpha, deg_free)\n",
        "    if chi_2 < chi2_inv:\n",
        "        Markov = \"No se rechaza Ho\"\n",
        "    else:\n",
        "        Markov = \"Se rechaza Ho\"\n",
        "    \n",
        "    freq_Markov = pd.DataFrame(0,columns= Estados+[\"Total\"], index=Estados)\n",
        "    for i in Estados:\n",
        "        for j in Estados:\n",
        "            for k in Data.index:\n",
        "                if Data.loc[k].tolist()[:2] == [i,j]:\n",
        "                    freq_Markov.loc[i, j] += 1\n",
        "        freq_Markov[\"Total\"] = freq_Markov[[Estados[0],Estados[1],Estados[2],Estados[3]]].sum(axis=1)\n",
        "    \n",
        "    prob_Markov = freq_Markov[Estados].div(freq_Markov[\"Total\"], axis=0)\n",
        "    prob_Markov[\"Total\"] = prob_Markov.sum(axis=1)\n",
        "    \n",
        "    ###################################\n",
        "\n",
        "    print(f\"-> Hipotesis markoviana\\n    {Markov}\")\n",
        "    print(\"-----\"*10)\n",
        "    print(\"-> Frecuencia esperada\")\n",
        "    print(freq_esp)\n",
        "    print(\"-----\"*10)\n",
        "    print(\"Matriz de transición\")\n",
        "    print(prob_Markov)"
      ],
      "outputs": [],
      "execution_count": 25,
      "metadata": {
        "source_hash": "f2d1834d",
        "execution_start": 1724125850195,
        "execution_millis": 255,
        "deepnote_to_be_reexecuted": false,
        "deepnote_app_block_visible": true,
        "cell_id": "a76e993e5d02421db9eeb751117e3dd9",
        "deepnote_cell_type": "code"
      }
    },
    {
      "cell_type": "markdown",
      "source": [
        "### Modelo de Markoviana para JPY"
      ],
      "metadata": {
        "deepnote_app_block_visible": true,
        "cell_id": "cdefe2d8dae641c5aabb8cf913733acd",
        "deepnote_cell_type": "markdown"
      }
    },
    {
      "cell_type": "code",
      "source": [
        "markoviana(currency= \"JPY\")"
      ],
      "outputs": [
        {
          "output_type": "stream",
          "name": "stdout",
          "text": "-> Hipotesis markoviana\n    No se rechaza Ho\n--------------------------------------------------\n-> Frecuencia esperada\n   Anterior Actual  D2   D1   I1  I2  Total\n0        D2     D2  43   67   68  54    232\n1        D2     D1  71  142  123  74    410\n2        D2     I1  68  135  128  55    386\n3        D2     I2  50   66   68  33    217\n4        D1     D2  43   67   68  54    232\n5        D1     D1  71  142  123  74    410\n6        D1     I1  68  135  128  55    386\n7        D1     I2  50   66   68  33    217\n8        I1     D2  43   67   68  54    232\n9        I1     D1  71  142  123  74    410\n10       I1     I1  68  135  128  55    386\n11       I1     I2  50   66   68  33    217\n12       I2     D2  43   67   68  54    232\n13       I2     D1  71  142  123  74    410\n14       I2     I1  68  135  128  55    386\n15       I2     I2  50   66   68  33    217\n--------------------------------------------------\nMatriz de transición\n          D2        D1        I1        I2  Total\nD2  0.185345  0.288793  0.293103  0.232759    1.0\nD1  0.173171  0.346341  0.300000  0.180488    1.0\nI1  0.175711  0.348837  0.330749  0.144703    1.0\nI2  0.230415  0.304147  0.313364  0.152074    1.0\n"
        }
      ],
      "execution_count": 26,
      "metadata": {
        "source_hash": "74dc5acd",
        "execution_start": 1724125850199,
        "execution_millis": 16880,
        "deepnote_to_be_reexecuted": false,
        "deepnote_app_block_visible": true,
        "cell_id": "82bd0ab5f64848c3b17a5343aa29dbf9",
        "deepnote_cell_type": "code"
      }
    },
    {
      "cell_type": "markdown",
      "source": [
        "- Los estados `D1 e I1` tienen las mayores probabilidades de permanecer en el mismo estado `0.346341 y 0.3330749` respectivamente, lo que sugiere una cierta estabilidad en estos niveles.\n",
        "\n",
        "- Desde `D2`, la transición más probable es hacia `I1` con `0.293103`\n",
        "\n",
        "- Desde `D1`, la transición más probable es hacia `D1` con `0.346341`.\n",
        "\n",
        "- Desde `I1`, la transición más probable es hacia `D1`  con `0.348837`.\n",
        "\n",
        "- Desde `I2`, la transición más probable es hacia `I1` con `0.3133364`.\n",
        "\n",
        "- La hipótesis nula `Ho` no se rechaza, lo que indica que el proceso puede ser modelado adecuadamente como una cadena de Markov. Esto sugiere que las probabilidades de transición dependen únicamente del estado actual y no de los estados anteriores."
      ],
      "metadata": {
        "deepnote_app_block_visible": true,
        "cell_id": "f7224226f577411da2019be37e0938f1",
        "deepnote_cell_type": "markdown"
      }
    },
    {
      "cell_type": "markdown",
      "source": [
        "### Modelo de Markoviana para MXN"
      ],
      "metadata": {
        "deepnote_app_block_visible": true,
        "cell_id": "23b38939adf64860b49f3b0494ab7c3b",
        "deepnote_cell_type": "markdown"
      }
    },
    {
      "cell_type": "code",
      "source": [
        "markoviana(\"MXN\")"
      ],
      "outputs": [
        {
          "output_type": "stream",
          "name": "stdout",
          "text": "-> Hipotesis markoviana\n    No se rechaza Ho\n--------------------------------------------------\n-> Frecuencia esperada\n   Anterior Actual  D2   D1   I1  I2  Total\n0        D2     D2  31   72   62  81    246\n1        D2     D1  58  102  116  73    349\n2        D2     I1  97  118  141  51    407\n3        D2     I2  60   57   88  38    243\n4        D1     D2  31   72   62  81    246\n5        D1     D1  58  102  116  73    349\n6        D1     I1  97  118  141  51    407\n7        D1     I2  60   57   88  38    243\n8        I1     D2  31   72   62  81    246\n9        I1     D1  58  102  116  73    349\n10       I1     I1  97  118  141  51    407\n11       I1     I2  60   57   88  38    243\n12       I2     D2  31   72   62  81    246\n13       I2     D1  58  102  116  73    349\n14       I2     I1  97  118  141  51    407\n15       I2     I2  60   57   88  38    243\n--------------------------------------------------\nMatriz de transición\n          D2        D1        I1        I2  Total\nD2  0.126016  0.292683  0.252033  0.329268    1.0\nD1  0.166189  0.292264  0.332378  0.209169    1.0\nI1  0.237745  0.289216  0.345588  0.127451    1.0\nI2  0.246914  0.234568  0.362140  0.156379    1.0\n"
        }
      ],
      "execution_count": 27,
      "metadata": {
        "source_hash": "f476d728",
        "execution_start": 1724125867082,
        "execution_millis": 16584,
        "deepnote_to_be_reexecuted": false,
        "deepnote_app_block_visible": true,
        "cell_id": "c470bd1d06f94802bdc295555f78d7b5",
        "deepnote_cell_type": "code"
      }
    },
    {
      "cell_type": "markdown",
      "source": [
        "- El estado `I1` tiene la mayor probabilidad de permanecer en el mismo estado con `0.345588`, lo que sugiere una cierta estabilidad en este nivel.\n",
        "\n",
        "- Desde `D2`, la transición más probable es hacia `I2` con `0.329268`.\n",
        "\n",
        "- Desde `D1`, la transición más probable es hacia `I1` con `0.332378`.\n",
        "\n",
        "- Desde `I1`, la transición más probable es hacia `I1` con `0.345588`.\n",
        "\n",
        "- Desde `I2`, la transición más probable es hacia `I1` con `0.362140`.\n",
        "\n",
        "- La hipótesis nula `Ho` no se rechaza, lo que indica que el proceso puede ser modelado adecuadamente como una cadena de Markov. Esto sugiere que las probabilidades de transición dependen únicamente del estado actual y no de los estados anteriores."
      ],
      "metadata": {
        "deepnote_app_block_visible": true,
        "cell_id": "4753ee2f041a49df9080b5ccf75a599d",
        "deepnote_cell_type": "markdown"
      }
    },
    {
      "cell_type": "markdown",
      "source": [
        "### Modelo de Markoviana para CHF"
      ],
      "metadata": {
        "deepnote_app_block_visible": true,
        "cell_id": "a1823faa21dd41ef99b37de33145ce36",
        "deepnote_cell_type": "markdown"
      }
    },
    {
      "cell_type": "code",
      "source": [
        "markoviana(\"CHF\")"
      ],
      "outputs": [
        {
          "output_type": "stream",
          "name": "stdout",
          "text": "-> Hipotesis markoviana\n    No se rechaza Ho\n--------------------------------------------------\n-> Frecuencia esperada\n   Anterior Actual  D2   D1   I1  I2  Total\n0        D2     D2  39   70   66  62    237\n1        D2     D1  67  119  124  63    373\n2        D2     I1  82  117  139  62    400\n3        D2     I2  49   67   72  47    235\n4        D1     D2  39   70   66  62    237\n5        D1     D1  67  119  124  63    373\n6        D1     I1  82  117  139  62    400\n7        D1     I2  49   67   72  47    235\n8        I1     D2  39   70   66  62    237\n9        I1     D1  67  119  124  63    373\n10       I1     I1  82  117  139  62    400\n11       I1     I2  49   67   72  47    235\n12       I2     D2  39   70   66  62    237\n13       I2     D1  67  119  124  63    373\n14       I2     I1  82  117  139  62    400\n15       I2     I2  49   67   72  47    235\n--------------------------------------------------\nMatriz de transición\n          D2        D1        I1        I2  Total\nD2  0.164557  0.295359  0.278481  0.261603    1.0\nD1  0.179625  0.319035  0.332440  0.168901    1.0\nI1  0.205000  0.292500  0.347500  0.155000    1.0\nI2  0.207627  0.283898  0.305085  0.203390    1.0\n"
        }
      ],
      "execution_count": 28,
      "metadata": {
        "source_hash": "d447fab",
        "execution_start": 1724125883670,
        "execution_millis": 16813,
        "deepnote_to_be_reexecuted": false,
        "deepnote_app_block_visible": true,
        "cell_id": "f59479ba42534320837aeef8ec169337",
        "deepnote_cell_type": "code"
      }
    },
    {
      "cell_type": "markdown",
      "source": [
        "- El estado `I1` tiene la mayor probabilidad de permanecer en el mismo estado con `0.347500`, lo que sugiere una cierta estabilidad en este nivel.\n",
        "\n",
        "- Desde `D2`, la transición más probable es hacia `D1` con `0.295359`.\n",
        "\n",
        "- Desde `D1`, la transición más probable es hacia `I1` con `0.332440`.\n",
        "\n",
        "- Desde `I1`, la transición más probable es hacia `I1` con `0.347500`.\n",
        "\n",
        "- Desde `I2`, la transición más probable es hacia `I1` con `0.305085`.\n",
        "\n",
        "- La hipótesis nula (Ho) no se rechaza, lo que indica que el proceso puede ser modelado adecuadamente como una cadena de Markov. Esto sugiere que las probabilidades de transición dependen únicamente del estado actual y no de los estados anteriores."
      ],
      "metadata": {
        "deepnote_app_block_visible": true,
        "cell_id": "1716b30f282f4e428f24a9daa5ed532d",
        "deepnote_cell_type": "markdown"
      }
    },
    {
      "cell_type": "markdown",
      "source": [
        "### Modelo de Markoviana para GBP"
      ],
      "metadata": {
        "deepnote_app_block_visible": true,
        "cell_id": "fcce42ef46e340dd876777945e3ea4ff",
        "deepnote_cell_type": "markdown"
      }
    },
    {
      "cell_type": "code",
      "source": [
        "markoviana(\"GBP\")"
      ],
      "outputs": [
        {
          "output_type": "stream",
          "name": "stdout",
          "text": "-> Hipotesis markoviana\n    No se rechaza Ho\n--------------------------------------------------\n-> Frecuencia esperada\n   Anterior Actual  D2   D1   I1  I2  Total\n0        D2     D2  36   72   66  56    230\n1        D2     D1  51  133  126  81    391\n2        D2     I1  80  130  123  60    393\n3        D2     I2  63   56   78  34    231\n4        D1     D2  36   72   66  56    230\n5        D1     D1  51  133  126  81    391\n6        D1     I1  80  130  123  60    393\n7        D1     I2  63   56   78  34    231\n8        I1     D2  36   72   66  56    230\n9        I1     D1  51  133  126  81    391\n10       I1     I1  80  130  123  60    393\n11       I1     I2  63   56   78  34    231\n12       I2     D2  36   72   66  56    230\n13       I2     D1  51  133  126  81    391\n14       I2     I1  80  130  123  60    393\n15       I2     I2  63   56   78  34    231\n--------------------------------------------------\nMatriz de transición\n          D2        D1        I1        I2  Total\nD2  0.156522  0.313043  0.286957  0.243478    1.0\nD1  0.130435  0.340153  0.322251  0.207161    1.0\nI1  0.203562  0.330789  0.312977  0.152672    1.0\nI2  0.271552  0.241379  0.336207  0.150862    1.0\n"
        }
      ],
      "execution_count": 29,
      "metadata": {
        "source_hash": "5c43b7f0",
        "execution_start": 1724125900486,
        "execution_millis": 16700,
        "deepnote_to_be_reexecuted": false,
        "deepnote_app_block_visible": true,
        "cell_id": "910cfce6bed8475d88074e8898c064ef",
        "deepnote_cell_type": "code"
      }
    },
    {
      "cell_type": "markdown",
      "source": [
        "- El estado `D1` tiene la mayor probabilidad de permanecer en el mismo estado con `0.340153`, lo que sugiere una cierta estabilidad en este nivel.\n",
        "\n",
        "- Desde `D2`, la transición más probable es hacia `D1` con `0.313043`.\n",
        "- Desde `D1`, la transición más probable es hacia `D1` con `0.340153`.\n",
        "- Desde `I1`, la transición más probable es hacia `D1` con `0.330789`.\n",
        "- Desde `I2`, la transición más probable es hacia `I1` con `0.336207`.\n",
        "\n",
        "- La hipótesis nula (Ho) no se rechaza, lo que indica que el proceso puede ser modelado adecuadamente como una cadena de Markov. Esto sugiere que las probabilidades de transición dependen únicamente del estado actual y no de los estados anteriores."
      ],
      "metadata": {
        "deepnote_app_block_visible": true,
        "cell_id": "7657d9da45444d329fc7e4ca428a27cd",
        "deepnote_cell_type": "markdown"
      }
    },
    {
      "cell_type": "markdown",
      "source": [
        "# Prueba de Homogeneidad"
      ],
      "metadata": {
        "deepnote_app_block_visible": true,
        "cell_id": "597f3048bd824bb4a64f5f4677f3fbe2",
        "deepnote_cell_type": "markdown"
      }
    },
    {
      "cell_type": "markdown",
      "source": [
        "## Creación de los periodos"
      ],
      "metadata": {
        "deepnote_app_block_visible": true,
        "cell_id": "7793084d698f4a1382813ac72c91bf68",
        "deepnote_cell_type": "markdown"
      }
    },
    {
      "cell_type": "code",
      "source": [
        "dh = final_states(currency= \"JPY\")\n",
        "dh.insert(0, 'Periodo', None)\n",
        "dh[\"Siguiente\"] = dh[\"Estado\"].shift(-1)\n",
        "dh.columns = [\"Periodo\", \"Actual\", \"Siguiente\"]\n",
        "dh.index = dates[6:]\n",
        "dh"
      ],
      "outputs": [
        {
          "output_type": "execute_result",
          "execution_count": 30,
          "data": {
            "application/vnd.deepnote.dataframe.v3+json": {
              "column_count": 3,
              "row_count": 1247,
              "columns": [
                {
                  "name": "Periodo",
                  "dtype": "object",
                  "stats": {
                    "unique_count": 0,
                    "nan_count": 1247,
                    "categories": [
                      {
                        "name": "Missing",
                        "count": 1247
                      }
                    ]
                  }
                },
                {
                  "name": "Actual",
                  "dtype": "object",
                  "stats": {
                    "unique_count": 4,
                    "nan_count": 0,
                    "categories": [
                      {
                        "name": "D1",
                        "count": 410
                      },
                      {
                        "name": "I1",
                        "count": 388
                      },
                      {
                        "name": "2 others",
                        "count": 449
                      }
                    ]
                  }
                },
                {
                  "name": "Siguiente",
                  "dtype": "object",
                  "stats": {
                    "unique_count": 4,
                    "nan_count": 1,
                    "categories": [
                      {
                        "name": "D1",
                        "count": 410
                      },
                      {
                        "name": "3 others",
                        "count": 836
                      },
                      {
                        "name": "Missing",
                        "count": 1
                      }
                    ]
                  }
                },
                {
                  "name": "_deepnote_index_column",
                  "dtype": "object"
                }
              ],
              "rows": [
                {
                  "Periodo": "None",
                  "Actual": "I1",
                  "Siguiente": "I2",
                  "_deepnote_index_column": "2020-08-13"
                },
                {
                  "Periodo": "None",
                  "Actual": "I2",
                  "Siguiente": "I1",
                  "_deepnote_index_column": "2020-08-14"
                },
                {
                  "Periodo": "None",
                  "Actual": "I1",
                  "Siguiente": "I1",
                  "_deepnote_index_column": "2020-08-15"
                },
                {
                  "Periodo": "None",
                  "Actual": "I1",
                  "Siguiente": "I1",
                  "_deepnote_index_column": "2020-08-17"
                },
                {
                  "Periodo": "None",
                  "Actual": "I1",
                  "Siguiente": "D1",
                  "_deepnote_index_column": "2020-08-18"
                },
                {
                  "Periodo": "None",
                  "Actual": "D1",
                  "Siguiente": "D2",
                  "_deepnote_index_column": "2020-08-19"
                },
                {
                  "Periodo": "None",
                  "Actual": "D2",
                  "Siguiente": "I2",
                  "_deepnote_index_column": "2020-08-20"
                },
                {
                  "Periodo": "None",
                  "Actual": "I2",
                  "Siguiente": "I2",
                  "_deepnote_index_column": "2020-08-21"
                },
                {
                  "Periodo": "None",
                  "Actual": "I2",
                  "Siguiente": "I1",
                  "_deepnote_index_column": "2020-08-22"
                },
                {
                  "Periodo": "None",
                  "Actual": "I1",
                  "Siguiente": "D1",
                  "_deepnote_index_column": "2020-08-24"
                }
              ]
            },
            "text/plain": "           Periodo Actual Siguiente\n2020-08-13    None     I1        I2\n2020-08-14    None     I2        I1\n2020-08-15    None     I1        I1\n2020-08-17    None     I1        I1\n2020-08-18    None     I1        D1\n...            ...    ...       ...\n2024-08-01    None     D1        I1\n2024-08-02    None     I1        I1\n2024-08-03    None     I1        I1\n2024-08-05    None     I1        I1\n2024-08-06    None     I1      None\n\n[1247 rows x 3 columns]",
            "text/html": "<div>\n<style scoped>\n    .dataframe tbody tr th:only-of-type {\n        vertical-align: middle;\n    }\n\n    .dataframe tbody tr th {\n        vertical-align: top;\n    }\n\n    .dataframe thead th {\n        text-align: right;\n    }\n</style>\n<table border=\"1\" class=\"dataframe\">\n  <thead>\n    <tr style=\"text-align: right;\">\n      <th></th>\n      <th>Periodo</th>\n      <th>Actual</th>\n      <th>Siguiente</th>\n    </tr>\n  </thead>\n  <tbody>\n    <tr>\n      <th>2020-08-13</th>\n      <td>None</td>\n      <td>I1</td>\n      <td>I2</td>\n    </tr>\n    <tr>\n      <th>2020-08-14</th>\n      <td>None</td>\n      <td>I2</td>\n      <td>I1</td>\n    </tr>\n    <tr>\n      <th>2020-08-15</th>\n      <td>None</td>\n      <td>I1</td>\n      <td>I1</td>\n    </tr>\n    <tr>\n      <th>2020-08-17</th>\n      <td>None</td>\n      <td>I1</td>\n      <td>I1</td>\n    </tr>\n    <tr>\n      <th>2020-08-18</th>\n      <td>None</td>\n      <td>I1</td>\n      <td>D1</td>\n    </tr>\n    <tr>\n      <th>...</th>\n      <td>...</td>\n      <td>...</td>\n      <td>...</td>\n    </tr>\n    <tr>\n      <th>2024-08-01</th>\n      <td>None</td>\n      <td>D1</td>\n      <td>I1</td>\n    </tr>\n    <tr>\n      <th>2024-08-02</th>\n      <td>None</td>\n      <td>I1</td>\n      <td>I1</td>\n    </tr>\n    <tr>\n      <th>2024-08-03</th>\n      <td>None</td>\n      <td>I1</td>\n      <td>I1</td>\n    </tr>\n    <tr>\n      <th>2024-08-05</th>\n      <td>None</td>\n      <td>I1</td>\n      <td>I1</td>\n    </tr>\n    <tr>\n      <th>2024-08-06</th>\n      <td>None</td>\n      <td>I1</td>\n      <td>None</td>\n    </tr>\n  </tbody>\n</table>\n<p>1247 rows × 3 columns</p>\n</div>"
          },
          "metadata": {}
        }
      ],
      "execution_count": 30,
      "metadata": {
        "source_hash": "269a2fcd",
        "execution_start": 1724125917190,
        "execution_millis": 358,
        "deepnote_to_be_reexecuted": false,
        "deepnote_app_block_visible": true,
        "cell_id": "59ffabc635ca4528a1ee8200b0356444",
        "deepnote_cell_type": "code"
      }
    },
    {
      "cell_type": "code",
      "source": [
        "fechas = dh.index.to_list()\n",
        "k= 0\n",
        "periodos = []\n",
        "for i in [\"2020\",\"2021\",\"2022\",\"2023\",\"2024\"]:\n",
        "    f = [año[:4] for año in fechas if i in año]\n",
        "    f = f[:len(f)-1] +[\"-\"]\n",
        "    periodos.extend(f)\n",
        "dh['Periodo'] = periodos\n",
        "dh.reset_index(drop= True, inplace= True)\n",
        "dh\n",
        "    \n"
      ],
      "outputs": [
        {
          "output_type": "execute_result",
          "execution_count": 31,
          "data": {
            "application/vnd.deepnote.dataframe.v3+json": {
              "column_count": 3,
              "row_count": 1247,
              "columns": [
                {
                  "name": "Periodo",
                  "dtype": "object",
                  "stats": {
                    "unique_count": 6,
                    "nan_count": 0,
                    "categories": [
                      {
                        "name": "2021",
                        "count": 312
                      },
                      {
                        "name": "2022",
                        "count": 312
                      },
                      {
                        "name": "4 others",
                        "count": 623
                      }
                    ]
                  }
                },
                {
                  "name": "Actual",
                  "dtype": "object",
                  "stats": {
                    "unique_count": 4,
                    "nan_count": 0,
                    "categories": [
                      {
                        "name": "D1",
                        "count": 410
                      },
                      {
                        "name": "I1",
                        "count": 388
                      },
                      {
                        "name": "2 others",
                        "count": 449
                      }
                    ]
                  }
                },
                {
                  "name": "Siguiente",
                  "dtype": "object",
                  "stats": {
                    "unique_count": 4,
                    "nan_count": 1,
                    "categories": [
                      {
                        "name": "D1",
                        "count": 410
                      },
                      {
                        "name": "3 others",
                        "count": 836
                      },
                      {
                        "name": "Missing",
                        "count": 1
                      }
                    ]
                  }
                },
                {
                  "name": "_deepnote_index_column",
                  "dtype": "int64"
                }
              ],
              "rows": [
                {
                  "Periodo": "2020",
                  "Actual": "D1",
                  "Siguiente": "I2",
                  "_deepnote_index_column": 40
                },
                {
                  "Periodo": "2020",
                  "Actual": "I2",
                  "Siguiente": "D2",
                  "_deepnote_index_column": 41
                },
                {
                  "Periodo": "2020",
                  "Actual": "D2",
                  "Siguiente": "D2",
                  "_deepnote_index_column": 42
                },
                {
                  "Periodo": "2020",
                  "Actual": "D2",
                  "Siguiente": "I2",
                  "_deepnote_index_column": 43
                },
                {
                  "Periodo": "2020",
                  "Actual": "I2",
                  "Siguiente": "D1",
                  "_deepnote_index_column": 44
                }
              ]
            },
            "text/plain": "     Periodo Actual Siguiente\n0       2020     I1        I2\n1       2020     I2        I1\n2       2020     I1        I1\n3       2020     I1        I1\n4       2020     I1        D1\n...      ...    ...       ...\n1242    2024     D1        I1\n1243    2024     I1        I1\n1244    2024     I1        I1\n1245    2024     I1        I1\n1246       -     I1      None\n\n[1247 rows x 3 columns]",
            "text/html": "<div>\n<style scoped>\n    .dataframe tbody tr th:only-of-type {\n        vertical-align: middle;\n    }\n\n    .dataframe tbody tr th {\n        vertical-align: top;\n    }\n\n    .dataframe thead th {\n        text-align: right;\n    }\n</style>\n<table border=\"1\" class=\"dataframe\">\n  <thead>\n    <tr style=\"text-align: right;\">\n      <th></th>\n      <th>Periodo</th>\n      <th>Actual</th>\n      <th>Siguiente</th>\n    </tr>\n  </thead>\n  <tbody>\n    <tr>\n      <th>0</th>\n      <td>2020</td>\n      <td>I1</td>\n      <td>I2</td>\n    </tr>\n    <tr>\n      <th>1</th>\n      <td>2020</td>\n      <td>I2</td>\n      <td>I1</td>\n    </tr>\n    <tr>\n      <th>2</th>\n      <td>2020</td>\n      <td>I1</td>\n      <td>I1</td>\n    </tr>\n    <tr>\n      <th>3</th>\n      <td>2020</td>\n      <td>I1</td>\n      <td>I1</td>\n    </tr>\n    <tr>\n      <th>4</th>\n      <td>2020</td>\n      <td>I1</td>\n      <td>D1</td>\n    </tr>\n    <tr>\n      <th>...</th>\n      <td>...</td>\n      <td>...</td>\n      <td>...</td>\n    </tr>\n    <tr>\n      <th>1242</th>\n      <td>2024</td>\n      <td>D1</td>\n      <td>I1</td>\n    </tr>\n    <tr>\n      <th>1243</th>\n      <td>2024</td>\n      <td>I1</td>\n      <td>I1</td>\n    </tr>\n    <tr>\n      <th>1244</th>\n      <td>2024</td>\n      <td>I1</td>\n      <td>I1</td>\n    </tr>\n    <tr>\n      <th>1245</th>\n      <td>2024</td>\n      <td>I1</td>\n      <td>I1</td>\n    </tr>\n    <tr>\n      <th>1246</th>\n      <td>-</td>\n      <td>I1</td>\n      <td>None</td>\n    </tr>\n  </tbody>\n</table>\n<p>1247 rows × 3 columns</p>\n</div>"
          },
          "metadata": {}
        }
      ],
      "execution_count": 31,
      "metadata": {
        "deepnote_app_block_visible": true,
        "deepnote_table_loading": false,
        "execution_millis": 325,
        "source_hash": "d882ca45",
        "deepnote_cell_type": "code",
        "cell_id": "830d28db373c4d088c52aa00141afc76",
        "execution_start": 1724125917223,
        "deepnote_to_be_reexecuted": false,
        "deepnote_table_state": {
          "sortBy": [],
          "filters": [],
          "pageSize": 5,
          "pageIndex": 8,
          "conditionalFilters": []
        }
      }
    },
    {
      "cell_type": "markdown",
      "source": [
        "Se clasifica la divisa en las diferentes categorias que existe con la función `final_state`, luego se crea las columnas `Actual y Siguiente` en el cual estan las categorias. Por último se crea la columna `Periodo`en el cual se asigna periodos basados en los años presentes en las fechas del DataFrame `dh`."
      ],
      "metadata": {
        "deepnote_app_block_visible": true,
        "cell_id": "6485e467c7a442388a707b8cdf47d8d3",
        "deepnote_cell_type": "markdown"
      }
    },
    {
      "cell_type": "markdown",
      "source": [
        "## Frecuencia observada "
      ],
      "metadata": {
        "deepnote_app_block_visible": true,
        "cell_id": "29bb00989012466180a4e322109238c0",
        "deepnote_cell_type": "markdown"
      }
    },
    {
      "cell_type": "code",
      "source": [
        "freq_obs = pd.DataFrame(columns=(\"periodo\", \"Actual\") )\n",
        "años = set(dh['Periodo'].unique().tolist())\n",
        "años = años.difference({\"-\"})\n",
        "años = list(años)\n",
        "años.sort()\n",
        "for i in años:\n",
        "    for j in Estados:\n",
        "        freq_obs.loc[len(freq_obs)] = [i,j]\n",
        "for i in Estados +[\"Total\"]:\n",
        "    freq_obs[i] = 0\n",
        "for i in freq_obs.index:\n",
        "    for j in Estados:\n",
        "        for k in dh.index:\n",
        "            if dh.loc[k].tolist() == freq_obs.loc[i].tolist()[:2]+[j]:\n",
        "                freq_obs.loc[i, j] += 1\n",
        "freq_obs[\"Total\"] = freq_obs[[Estados[0],Estados[1],Estados[2],Estados[3]]].sum(axis=1)\n",
        "freq_obs"
      ],
      "outputs": [
        {
          "output_type": "execute_result",
          "execution_count": 32,
          "data": {
            "application/vnd.deepnote.dataframe.v3+json": {
              "column_count": 7,
              "row_count": 20,
              "columns": [
                {
                  "name": "periodo",
                  "dtype": "object",
                  "stats": {
                    "unique_count": 5,
                    "nan_count": 0,
                    "categories": [
                      {
                        "name": "2020",
                        "count": 4
                      },
                      {
                        "name": "2021",
                        "count": 4
                      },
                      {
                        "name": "3 others",
                        "count": 12
                      }
                    ]
                  }
                },
                {
                  "name": "Actual",
                  "dtype": "object",
                  "stats": {
                    "unique_count": 4,
                    "nan_count": 0,
                    "categories": [
                      {
                        "name": "D2",
                        "count": 5
                      },
                      {
                        "name": "D1",
                        "count": 5
                      },
                      {
                        "name": "2 others",
                        "count": 10
                      }
                    ]
                  }
                },
                {
                  "name": "D2",
                  "dtype": "int64",
                  "stats": {
                    "unique_count": 13,
                    "nan_count": 0,
                    "min": "3",
                    "max": "21",
                    "histogram": [
                      {
                        "bin_start": 3,
                        "bin_end": 4.8,
                        "count": 2
                      },
                      {
                        "bin_start": 4.8,
                        "bin_end": 6.6,
                        "count": 0
                      },
                      {
                        "bin_start": 6.6,
                        "bin_end": 8.4,
                        "count": 5
                      },
                      {
                        "bin_start": 8.4,
                        "bin_end": 10.2,
                        "count": 2
                      },
                      {
                        "bin_start": 10.2,
                        "bin_end": 12,
                        "count": 2
                      },
                      {
                        "bin_start": 12,
                        "bin_end": 13.8,
                        "count": 3
                      },
                      {
                        "bin_start": 13.8,
                        "bin_end": 15.6,
                        "count": 1
                      },
                      {
                        "bin_start": 15.6,
                        "bin_end": 17.4,
                        "count": 1
                      },
                      {
                        "bin_start": 17.4,
                        "bin_end": 19.2,
                        "count": 3
                      },
                      {
                        "bin_start": 19.2,
                        "bin_end": 21,
                        "count": 1
                      }
                    ]
                  }
                },
                {
                  "name": "D1",
                  "dtype": "int64",
                  "stats": {
                    "unique_count": 13,
                    "nan_count": 0,
                    "min": "5",
                    "max": "37",
                    "histogram": [
                      {
                        "bin_start": 5,
                        "bin_end": 8.2,
                        "count": 4
                      },
                      {
                        "bin_start": 8.2,
                        "bin_end": 11.4,
                        "count": 1
                      },
                      {
                        "bin_start": 11.4,
                        "bin_end": 14.600000000000001,
                        "count": 0
                      },
                      {
                        "bin_start": 14.600000000000001,
                        "bin_end": 17.8,
                        "count": 5
                      },
                      {
                        "bin_start": 17.8,
                        "bin_end": 21,
                        "count": 3
                      },
                      {
                        "bin_start": 21,
                        "bin_end": 24.200000000000003,
                        "count": 0
                      },
                      {
                        "bin_start": 24.200000000000003,
                        "bin_end": 27.400000000000002,
                        "count": 1
                      },
                      {
                        "bin_start": 27.400000000000002,
                        "bin_end": 30.6,
                        "count": 1
                      },
                      {
                        "bin_start": 30.6,
                        "bin_end": 33.8,
                        "count": 0
                      },
                      {
                        "bin_start": 33.8,
                        "bin_end": 37,
                        "count": 5
                      }
                    ]
                  }
                },
                {
                  "name": "I1",
                  "dtype": "int64",
                  "stats": {
                    "unique_count": 15,
                    "nan_count": 0,
                    "min": "2",
                    "max": "40",
                    "histogram": [
                      {
                        "bin_start": 2,
                        "bin_end": 5.8,
                        "count": 1
                      },
                      {
                        "bin_start": 5.8,
                        "bin_end": 9.6,
                        "count": 0
                      },
                      {
                        "bin_start": 9.6,
                        "bin_end": 13.399999999999999,
                        "count": 6
                      },
                      {
                        "bin_start": 13.399999999999999,
                        "bin_end": 17.2,
                        "count": 5
                      },
                      {
                        "bin_start": 17.2,
                        "bin_end": 21,
                        "count": 2
                      },
                      {
                        "bin_start": 21,
                        "bin_end": 24.799999999999997,
                        "count": 0
                      },
                      {
                        "bin_start": 24.799999999999997,
                        "bin_end": 28.599999999999998,
                        "count": 2
                      },
                      {
                        "bin_start": 28.599999999999998,
                        "bin_end": 32.4,
                        "count": 2
                      },
                      {
                        "bin_start": 32.4,
                        "bin_end": 36.199999999999996,
                        "count": 1
                      },
                      {
                        "bin_start": 36.199999999999996,
                        "bin_end": 40,
                        "count": 1
                      }
                    ]
                  }
                },
                {
                  "name": "I2",
                  "dtype": "int64",
                  "stats": {
                    "unique_count": 13,
                    "nan_count": 0,
                    "min": "2",
                    "max": "21",
                    "histogram": [
                      {
                        "bin_start": 2,
                        "bin_end": 3.9,
                        "count": 2
                      },
                      {
                        "bin_start": 3.9,
                        "bin_end": 5.8,
                        "count": 0
                      },
                      {
                        "bin_start": 5.8,
                        "bin_end": 7.699999999999999,
                        "count": 3
                      },
                      {
                        "bin_start": 7.699999999999999,
                        "bin_end": 9.6,
                        "count": 3
                      },
                      {
                        "bin_start": 9.6,
                        "bin_end": 11.5,
                        "count": 3
                      },
                      {
                        "bin_start": 11.5,
                        "bin_end": 13.399999999999999,
                        "count": 4
                      },
                      {
                        "bin_start": 13.399999999999999,
                        "bin_end": 15.299999999999999,
                        "count": 1
                      },
                      {
                        "bin_start": 15.299999999999999,
                        "bin_end": 17.2,
                        "count": 2
                      },
                      {
                        "bin_start": 17.2,
                        "bin_end": 19.099999999999998,
                        "count": 1
                      },
                      {
                        "bin_start": 19.099999999999998,
                        "bin_end": 21,
                        "count": 1
                      }
                    ]
                  }
                },
                {
                  "name": "Total",
                  "dtype": "int64",
                  "stats": {
                    "unique_count": 19,
                    "nan_count": 0,
                    "min": "20",
                    "max": "107",
                    "histogram": [
                      {
                        "bin_start": 20,
                        "bin_end": 28.7,
                        "count": 2
                      },
                      {
                        "bin_start": 28.7,
                        "bin_end": 37.4,
                        "count": 2
                      },
                      {
                        "bin_start": 37.4,
                        "bin_end": 46.099999999999994,
                        "count": 3
                      },
                      {
                        "bin_start": 46.099999999999994,
                        "bin_end": 54.8,
                        "count": 1
                      },
                      {
                        "bin_start": 54.8,
                        "bin_end": 63.5,
                        "count": 6
                      },
                      {
                        "bin_start": 63.5,
                        "bin_end": 72.19999999999999,
                        "count": 0
                      },
                      {
                        "bin_start": 72.19999999999999,
                        "bin_end": 80.89999999999999,
                        "count": 0
                      },
                      {
                        "bin_start": 80.89999999999999,
                        "bin_end": 89.6,
                        "count": 0
                      },
                      {
                        "bin_start": 89.6,
                        "bin_end": 98.3,
                        "count": 2
                      },
                      {
                        "bin_start": 98.3,
                        "bin_end": 107,
                        "count": 4
                      }
                    ]
                  }
                },
                {
                  "name": "_deepnote_index_column",
                  "dtype": "int64"
                }
              ],
              "rows": [
                {
                  "periodo": "2020",
                  "Actual": "D2",
                  "D2": 4,
                  "D1": 8,
                  "I1": 2,
                  "I2": 6,
                  "Total": 20,
                  "_deepnote_index_column": 0
                },
                {
                  "periodo": "2020",
                  "Actual": "D1",
                  "D2": 7,
                  "D1": 8,
                  "I1": 12,
                  "I2": 9,
                  "Total": 36,
                  "_deepnote_index_column": 1
                },
                {
                  "periodo": "2020",
                  "Actual": "I1",
                  "D2": 3,
                  "D1": 15,
                  "I1": 15,
                  "I2": 7,
                  "Total": 40,
                  "_deepnote_index_column": 2
                },
                {
                  "periodo": "2020",
                  "Actual": "I2",
                  "D2": 7,
                  "D1": 5,
                  "I1": 10,
                  "I2": 2,
                  "Total": 24,
                  "_deepnote_index_column": 3
                },
                {
                  "periodo": "2021",
                  "Actual": "D2",
                  "D2": 8,
                  "D1": 18,
                  "I1": 13,
                  "I2": 10,
                  "Total": 49,
                  "_deepnote_index_column": 4
                },
                {
                  "periodo": "2021",
                  "Actual": "D1",
                  "D2": 19,
                  "D1": 35,
                  "I1": 32,
                  "I2": 19,
                  "Total": 105,
                  "_deepnote_index_column": 5
                },
                {
                  "periodo": "2021",
                  "Actual": "I1",
                  "D2": 15,
                  "D1": 35,
                  "I1": 35,
                  "I2": 16,
                  "Total": 101,
                  "_deepnote_index_column": 6
                },
                {
                  "periodo": "2021",
                  "Actual": "I2",
                  "D2": 8,
                  "D1": 17,
                  "I1": 20,
                  "I2": 12,
                  "Total": 57,
                  "_deepnote_index_column": 7
                },
                {
                  "periodo": "2022",
                  "Actual": "D2",
                  "D2": 13,
                  "D1": 16,
                  "I1": 17,
                  "I2": 16,
                  "Total": 62,
                  "_deepnote_index_column": 8
                },
                {
                  "periodo": "2022",
                  "Actual": "D1",
                  "D2": 16,
                  "D1": 37,
                  "I1": 26,
                  "I2": 21,
                  "Total": 100,
                  "_deepnote_index_column": 9
                }
              ]
            },
            "text/plain": "   periodo Actual  D2  D1  I1  I2  Total\n0     2020     D2   4   8   2   6     20\n1     2020     D1   7   8  12   9     36\n2     2020     I1   3  15  15   7     40\n3     2020     I2   7   5  10   2     24\n4     2021     D2   8  18  13  10     49\n5     2021     D1  19  35  32  19    105\n6     2021     I1  15  35  35  16    101\n7     2021     I2   8  17  20  12     57\n8     2022     D2  13  16  17  16     62\n9     2022     D1  16  37  26  21    100\n10    2022     I1  21  28  31  11     91\n11    2022     I2  12  19  17  11     59\n12    2023     D2  11  17  20  13     61\n13    2023     D1  18  37  40  12    107\n14    2023     I1  19  37  28  14     98\n15    2023     I2  13  16  10   6     45\n16    2024     D2   7   8  14   9     38\n17    2024     D1  11  25  13  13     62\n18    2024     I1  10  20  17   8     55\n19    2024     I2  10   9  11   2     32",
            "text/html": "<div>\n<style scoped>\n    .dataframe tbody tr th:only-of-type {\n        vertical-align: middle;\n    }\n\n    .dataframe tbody tr th {\n        vertical-align: top;\n    }\n\n    .dataframe thead th {\n        text-align: right;\n    }\n</style>\n<table border=\"1\" class=\"dataframe\">\n  <thead>\n    <tr style=\"text-align: right;\">\n      <th></th>\n      <th>periodo</th>\n      <th>Actual</th>\n      <th>D2</th>\n      <th>D1</th>\n      <th>I1</th>\n      <th>I2</th>\n      <th>Total</th>\n    </tr>\n  </thead>\n  <tbody>\n    <tr>\n      <th>0</th>\n      <td>2020</td>\n      <td>D2</td>\n      <td>4</td>\n      <td>8</td>\n      <td>2</td>\n      <td>6</td>\n      <td>20</td>\n    </tr>\n    <tr>\n      <th>1</th>\n      <td>2020</td>\n      <td>D1</td>\n      <td>7</td>\n      <td>8</td>\n      <td>12</td>\n      <td>9</td>\n      <td>36</td>\n    </tr>\n    <tr>\n      <th>2</th>\n      <td>2020</td>\n      <td>I1</td>\n      <td>3</td>\n      <td>15</td>\n      <td>15</td>\n      <td>7</td>\n      <td>40</td>\n    </tr>\n    <tr>\n      <th>3</th>\n      <td>2020</td>\n      <td>I2</td>\n      <td>7</td>\n      <td>5</td>\n      <td>10</td>\n      <td>2</td>\n      <td>24</td>\n    </tr>\n    <tr>\n      <th>4</th>\n      <td>2021</td>\n      <td>D2</td>\n      <td>8</td>\n      <td>18</td>\n      <td>13</td>\n      <td>10</td>\n      <td>49</td>\n    </tr>\n    <tr>\n      <th>5</th>\n      <td>2021</td>\n      <td>D1</td>\n      <td>19</td>\n      <td>35</td>\n      <td>32</td>\n      <td>19</td>\n      <td>105</td>\n    </tr>\n    <tr>\n      <th>6</th>\n      <td>2021</td>\n      <td>I1</td>\n      <td>15</td>\n      <td>35</td>\n      <td>35</td>\n      <td>16</td>\n      <td>101</td>\n    </tr>\n    <tr>\n      <th>7</th>\n      <td>2021</td>\n      <td>I2</td>\n      <td>8</td>\n      <td>17</td>\n      <td>20</td>\n      <td>12</td>\n      <td>57</td>\n    </tr>\n    <tr>\n      <th>8</th>\n      <td>2022</td>\n      <td>D2</td>\n      <td>13</td>\n      <td>16</td>\n      <td>17</td>\n      <td>16</td>\n      <td>62</td>\n    </tr>\n    <tr>\n      <th>9</th>\n      <td>2022</td>\n      <td>D1</td>\n      <td>16</td>\n      <td>37</td>\n      <td>26</td>\n      <td>21</td>\n      <td>100</td>\n    </tr>\n    <tr>\n      <th>10</th>\n      <td>2022</td>\n      <td>I1</td>\n      <td>21</td>\n      <td>28</td>\n      <td>31</td>\n      <td>11</td>\n      <td>91</td>\n    </tr>\n    <tr>\n      <th>11</th>\n      <td>2022</td>\n      <td>I2</td>\n      <td>12</td>\n      <td>19</td>\n      <td>17</td>\n      <td>11</td>\n      <td>59</td>\n    </tr>\n    <tr>\n      <th>12</th>\n      <td>2023</td>\n      <td>D2</td>\n      <td>11</td>\n      <td>17</td>\n      <td>20</td>\n      <td>13</td>\n      <td>61</td>\n    </tr>\n    <tr>\n      <th>13</th>\n      <td>2023</td>\n      <td>D1</td>\n      <td>18</td>\n      <td>37</td>\n      <td>40</td>\n      <td>12</td>\n      <td>107</td>\n    </tr>\n    <tr>\n      <th>14</th>\n      <td>2023</td>\n      <td>I1</td>\n      <td>19</td>\n      <td>37</td>\n      <td>28</td>\n      <td>14</td>\n      <td>98</td>\n    </tr>\n    <tr>\n      <th>15</th>\n      <td>2023</td>\n      <td>I2</td>\n      <td>13</td>\n      <td>16</td>\n      <td>10</td>\n      <td>6</td>\n      <td>45</td>\n    </tr>\n    <tr>\n      <th>16</th>\n      <td>2024</td>\n      <td>D2</td>\n      <td>7</td>\n      <td>8</td>\n      <td>14</td>\n      <td>9</td>\n      <td>38</td>\n    </tr>\n    <tr>\n      <th>17</th>\n      <td>2024</td>\n      <td>D1</td>\n      <td>11</td>\n      <td>25</td>\n      <td>13</td>\n      <td>13</td>\n      <td>62</td>\n    </tr>\n    <tr>\n      <th>18</th>\n      <td>2024</td>\n      <td>I1</td>\n      <td>10</td>\n      <td>20</td>\n      <td>17</td>\n      <td>8</td>\n      <td>55</td>\n    </tr>\n    <tr>\n      <th>19</th>\n      <td>2024</td>\n      <td>I2</td>\n      <td>10</td>\n      <td>9</td>\n      <td>11</td>\n      <td>2</td>\n      <td>32</td>\n    </tr>\n  </tbody>\n</table>\n</div>"
          },
          "metadata": {}
        }
      ],
      "execution_count": 32,
      "metadata": {
        "source_hash": "16be342",
        "execution_start": 1724125917270,
        "execution_millis": 9465,
        "deepnote_to_be_reexecuted": false,
        "deepnote_app_block_visible": true,
        "cell_id": "475414c8bf74456093b4308a75f1f294",
        "deepnote_cell_type": "code"
      }
    },
    {
      "cell_type": "markdown",
      "source": [
        "Se realiza una tabla de frecuencia observada en el cual se examinan todas las combinaciones posibles entre los valores de las columnas `Periodo, Actual y Siguiente`. Para cada combinación única identificada en la base de datos denominada `dh`, se procede a contabilizar la frecuencia de su aparición."
      ],
      "metadata": {
        "deepnote_app_block_visible": true,
        "cell_id": "f3a4dc22cec94e4aac75379b877b94b5",
        "deepnote_cell_type": "markdown"
      }
    },
    {
      "cell_type": "markdown",
      "source": [
        "## Frecuencia esperada"
      ],
      "metadata": {
        "deepnote_app_block_visible": true,
        "cell_id": "af894d4832ec4fe48a9d598a9e555fee",
        "deepnote_cell_type": "markdown"
      }
    },
    {
      "cell_type": "code",
      "source": [
        "freq_esp = freq_obs[['Actual']+Estados+['Total']]\n",
        "for i in Estados +[\"Total\"]:\n",
        "    freq_esp[i] = 0\n",
        "for i in freq_esp.index:\n",
        "    for j in Estados:\n",
        "        for k in dh.index:\n",
        "            if dh.loc[k].tolist()[1:] == freq_esp.loc[i].tolist()[:1]+[j]:\n",
        "                freq_esp.loc[i, j] += 1\n",
        "freq_esp[\"Total\"] = freq_esp[[Estados[0],Estados[1],Estados[2],Estados[3]]].sum(axis=1)\n",
        "freq_esp"
      ],
      "outputs": [
        {
          "output_type": "execute_result",
          "execution_count": 33,
          "data": {
            "application/vnd.deepnote.dataframe.v3+json": {
              "column_count": 6,
              "row_count": 20,
              "columns": [
                {
                  "name": "Actual",
                  "dtype": "object",
                  "stats": {
                    "unique_count": 4,
                    "nan_count": 0,
                    "categories": [
                      {
                        "name": "D2",
                        "count": 5
                      },
                      {
                        "name": "D1",
                        "count": 5
                      },
                      {
                        "name": "2 others",
                        "count": 10
                      }
                    ]
                  }
                },
                {
                  "name": "D2",
                  "dtype": "int64",
                  "stats": {
                    "unique_count": 4,
                    "nan_count": 0,
                    "min": "43",
                    "max": "71",
                    "histogram": [
                      {
                        "bin_start": 43,
                        "bin_end": 45.8,
                        "count": 5
                      },
                      {
                        "bin_start": 45.8,
                        "bin_end": 48.6,
                        "count": 0
                      },
                      {
                        "bin_start": 48.6,
                        "bin_end": 51.4,
                        "count": 5
                      },
                      {
                        "bin_start": 51.4,
                        "bin_end": 54.2,
                        "count": 0
                      },
                      {
                        "bin_start": 54.2,
                        "bin_end": 57,
                        "count": 0
                      },
                      {
                        "bin_start": 57,
                        "bin_end": 59.8,
                        "count": 0
                      },
                      {
                        "bin_start": 59.8,
                        "bin_end": 62.599999999999994,
                        "count": 0
                      },
                      {
                        "bin_start": 62.599999999999994,
                        "bin_end": 65.4,
                        "count": 0
                      },
                      {
                        "bin_start": 65.4,
                        "bin_end": 68.2,
                        "count": 5
                      },
                      {
                        "bin_start": 68.2,
                        "bin_end": 71,
                        "count": 5
                      }
                    ]
                  }
                },
                {
                  "name": "D1",
                  "dtype": "int64",
                  "stats": {
                    "unique_count": 4,
                    "nan_count": 0,
                    "min": "66",
                    "max": "142",
                    "histogram": [
                      {
                        "bin_start": 66,
                        "bin_end": 73.6,
                        "count": 10
                      },
                      {
                        "bin_start": 73.6,
                        "bin_end": 81.2,
                        "count": 0
                      },
                      {
                        "bin_start": 81.2,
                        "bin_end": 88.8,
                        "count": 0
                      },
                      {
                        "bin_start": 88.8,
                        "bin_end": 96.4,
                        "count": 0
                      },
                      {
                        "bin_start": 96.4,
                        "bin_end": 104,
                        "count": 0
                      },
                      {
                        "bin_start": 104,
                        "bin_end": 111.6,
                        "count": 0
                      },
                      {
                        "bin_start": 111.6,
                        "bin_end": 119.19999999999999,
                        "count": 0
                      },
                      {
                        "bin_start": 119.19999999999999,
                        "bin_end": 126.8,
                        "count": 0
                      },
                      {
                        "bin_start": 126.8,
                        "bin_end": 134.39999999999998,
                        "count": 0
                      },
                      {
                        "bin_start": 134.39999999999998,
                        "bin_end": 142,
                        "count": 10
                      }
                    ]
                  }
                },
                {
                  "name": "I1",
                  "dtype": "int64",
                  "stats": {
                    "unique_count": 3,
                    "nan_count": 0,
                    "min": "68",
                    "max": "128",
                    "histogram": [
                      {
                        "bin_start": 68,
                        "bin_end": 74,
                        "count": 10
                      },
                      {
                        "bin_start": 74,
                        "bin_end": 80,
                        "count": 0
                      },
                      {
                        "bin_start": 80,
                        "bin_end": 86,
                        "count": 0
                      },
                      {
                        "bin_start": 86,
                        "bin_end": 92,
                        "count": 0
                      },
                      {
                        "bin_start": 92,
                        "bin_end": 98,
                        "count": 0
                      },
                      {
                        "bin_start": 98,
                        "bin_end": 104,
                        "count": 0
                      },
                      {
                        "bin_start": 104,
                        "bin_end": 110,
                        "count": 0
                      },
                      {
                        "bin_start": 110,
                        "bin_end": 116,
                        "count": 0
                      },
                      {
                        "bin_start": 116,
                        "bin_end": 122,
                        "count": 0
                      },
                      {
                        "bin_start": 122,
                        "bin_end": 128,
                        "count": 10
                      }
                    ]
                  }
                },
                {
                  "name": "I2",
                  "dtype": "int64",
                  "stats": {
                    "unique_count": 4,
                    "nan_count": 0,
                    "min": "33",
                    "max": "74",
                    "histogram": [
                      {
                        "bin_start": 33,
                        "bin_end": 37.1,
                        "count": 5
                      },
                      {
                        "bin_start": 37.1,
                        "bin_end": 41.2,
                        "count": 0
                      },
                      {
                        "bin_start": 41.2,
                        "bin_end": 45.3,
                        "count": 0
                      },
                      {
                        "bin_start": 45.3,
                        "bin_end": 49.4,
                        "count": 0
                      },
                      {
                        "bin_start": 49.4,
                        "bin_end": 53.5,
                        "count": 0
                      },
                      {
                        "bin_start": 53.5,
                        "bin_end": 57.599999999999994,
                        "count": 10
                      },
                      {
                        "bin_start": 57.599999999999994,
                        "bin_end": 61.699999999999996,
                        "count": 0
                      },
                      {
                        "bin_start": 61.699999999999996,
                        "bin_end": 65.8,
                        "count": 0
                      },
                      {
                        "bin_start": 65.8,
                        "bin_end": 69.9,
                        "count": 0
                      },
                      {
                        "bin_start": 69.9,
                        "bin_end": 74,
                        "count": 5
                      }
                    ]
                  }
                },
                {
                  "name": "Total",
                  "dtype": "int64",
                  "stats": {
                    "unique_count": 4,
                    "nan_count": 0,
                    "min": "217",
                    "max": "410",
                    "histogram": [
                      {
                        "bin_start": 217,
                        "bin_end": 236.3,
                        "count": 10
                      },
                      {
                        "bin_start": 236.3,
                        "bin_end": 255.6,
                        "count": 0
                      },
                      {
                        "bin_start": 255.6,
                        "bin_end": 274.9,
                        "count": 0
                      },
                      {
                        "bin_start": 274.9,
                        "bin_end": 294.2,
                        "count": 0
                      },
                      {
                        "bin_start": 294.2,
                        "bin_end": 313.5,
                        "count": 0
                      },
                      {
                        "bin_start": 313.5,
                        "bin_end": 332.8,
                        "count": 0
                      },
                      {
                        "bin_start": 332.8,
                        "bin_end": 352.1,
                        "count": 0
                      },
                      {
                        "bin_start": 352.1,
                        "bin_end": 371.4,
                        "count": 0
                      },
                      {
                        "bin_start": 371.4,
                        "bin_end": 390.70000000000005,
                        "count": 5
                      },
                      {
                        "bin_start": 390.70000000000005,
                        "bin_end": 410,
                        "count": 5
                      }
                    ]
                  }
                },
                {
                  "name": "_deepnote_index_column",
                  "dtype": "int64"
                }
              ],
              "rows": [
                {
                  "Actual": "D2",
                  "D2": 43,
                  "D1": 67,
                  "I1": 68,
                  "I2": 54,
                  "Total": 232,
                  "_deepnote_index_column": 0
                },
                {
                  "Actual": "D1",
                  "D2": 71,
                  "D1": 142,
                  "I1": 123,
                  "I2": 74,
                  "Total": 410,
                  "_deepnote_index_column": 1
                },
                {
                  "Actual": "I1",
                  "D2": 68,
                  "D1": 135,
                  "I1": 128,
                  "I2": 56,
                  "Total": 387,
                  "_deepnote_index_column": 2
                },
                {
                  "Actual": "I2",
                  "D2": 50,
                  "D1": 66,
                  "I1": 68,
                  "I2": 33,
                  "Total": 217,
                  "_deepnote_index_column": 3
                },
                {
                  "Actual": "D2",
                  "D2": 43,
                  "D1": 67,
                  "I1": 68,
                  "I2": 54,
                  "Total": 232,
                  "_deepnote_index_column": 4
                },
                {
                  "Actual": "D1",
                  "D2": 71,
                  "D1": 142,
                  "I1": 123,
                  "I2": 74,
                  "Total": 410,
                  "_deepnote_index_column": 5
                },
                {
                  "Actual": "I1",
                  "D2": 68,
                  "D1": 135,
                  "I1": 128,
                  "I2": 56,
                  "Total": 387,
                  "_deepnote_index_column": 6
                },
                {
                  "Actual": "I2",
                  "D2": 50,
                  "D1": 66,
                  "I1": 68,
                  "I2": 33,
                  "Total": 217,
                  "_deepnote_index_column": 7
                },
                {
                  "Actual": "D2",
                  "D2": 43,
                  "D1": 67,
                  "I1": 68,
                  "I2": 54,
                  "Total": 232,
                  "_deepnote_index_column": 8
                },
                {
                  "Actual": "D1",
                  "D2": 71,
                  "D1": 142,
                  "I1": 123,
                  "I2": 74,
                  "Total": 410,
                  "_deepnote_index_column": 9
                }
              ]
            },
            "text/plain": "   Actual  D2   D1   I1  I2  Total\n0      D2  43   67   68  54    232\n1      D1  71  142  123  74    410\n2      I1  68  135  128  56    387\n3      I2  50   66   68  33    217\n4      D2  43   67   68  54    232\n5      D1  71  142  123  74    410\n6      I1  68  135  128  56    387\n7      I2  50   66   68  33    217\n8      D2  43   67   68  54    232\n9      D1  71  142  123  74    410\n10     I1  68  135  128  56    387\n11     I2  50   66   68  33    217\n12     D2  43   67   68  54    232\n13     D1  71  142  123  74    410\n14     I1  68  135  128  56    387\n15     I2  50   66   68  33    217\n16     D2  43   67   68  54    232\n17     D1  71  142  123  74    410\n18     I1  68  135  128  56    387\n19     I2  50   66   68  33    217",
            "text/html": "<div>\n<style scoped>\n    .dataframe tbody tr th:only-of-type {\n        vertical-align: middle;\n    }\n\n    .dataframe tbody tr th {\n        vertical-align: top;\n    }\n\n    .dataframe thead th {\n        text-align: right;\n    }\n</style>\n<table border=\"1\" class=\"dataframe\">\n  <thead>\n    <tr style=\"text-align: right;\">\n      <th></th>\n      <th>Actual</th>\n      <th>D2</th>\n      <th>D1</th>\n      <th>I1</th>\n      <th>I2</th>\n      <th>Total</th>\n    </tr>\n  </thead>\n  <tbody>\n    <tr>\n      <th>0</th>\n      <td>D2</td>\n      <td>43</td>\n      <td>67</td>\n      <td>68</td>\n      <td>54</td>\n      <td>232</td>\n    </tr>\n    <tr>\n      <th>1</th>\n      <td>D1</td>\n      <td>71</td>\n      <td>142</td>\n      <td>123</td>\n      <td>74</td>\n      <td>410</td>\n    </tr>\n    <tr>\n      <th>2</th>\n      <td>I1</td>\n      <td>68</td>\n      <td>135</td>\n      <td>128</td>\n      <td>56</td>\n      <td>387</td>\n    </tr>\n    <tr>\n      <th>3</th>\n      <td>I2</td>\n      <td>50</td>\n      <td>66</td>\n      <td>68</td>\n      <td>33</td>\n      <td>217</td>\n    </tr>\n    <tr>\n      <th>4</th>\n      <td>D2</td>\n      <td>43</td>\n      <td>67</td>\n      <td>68</td>\n      <td>54</td>\n      <td>232</td>\n    </tr>\n    <tr>\n      <th>5</th>\n      <td>D1</td>\n      <td>71</td>\n      <td>142</td>\n      <td>123</td>\n      <td>74</td>\n      <td>410</td>\n    </tr>\n    <tr>\n      <th>6</th>\n      <td>I1</td>\n      <td>68</td>\n      <td>135</td>\n      <td>128</td>\n      <td>56</td>\n      <td>387</td>\n    </tr>\n    <tr>\n      <th>7</th>\n      <td>I2</td>\n      <td>50</td>\n      <td>66</td>\n      <td>68</td>\n      <td>33</td>\n      <td>217</td>\n    </tr>\n    <tr>\n      <th>8</th>\n      <td>D2</td>\n      <td>43</td>\n      <td>67</td>\n      <td>68</td>\n      <td>54</td>\n      <td>232</td>\n    </tr>\n    <tr>\n      <th>9</th>\n      <td>D1</td>\n      <td>71</td>\n      <td>142</td>\n      <td>123</td>\n      <td>74</td>\n      <td>410</td>\n    </tr>\n    <tr>\n      <th>10</th>\n      <td>I1</td>\n      <td>68</td>\n      <td>135</td>\n      <td>128</td>\n      <td>56</td>\n      <td>387</td>\n    </tr>\n    <tr>\n      <th>11</th>\n      <td>I2</td>\n      <td>50</td>\n      <td>66</td>\n      <td>68</td>\n      <td>33</td>\n      <td>217</td>\n    </tr>\n    <tr>\n      <th>12</th>\n      <td>D2</td>\n      <td>43</td>\n      <td>67</td>\n      <td>68</td>\n      <td>54</td>\n      <td>232</td>\n    </tr>\n    <tr>\n      <th>13</th>\n      <td>D1</td>\n      <td>71</td>\n      <td>142</td>\n      <td>123</td>\n      <td>74</td>\n      <td>410</td>\n    </tr>\n    <tr>\n      <th>14</th>\n      <td>I1</td>\n      <td>68</td>\n      <td>135</td>\n      <td>128</td>\n      <td>56</td>\n      <td>387</td>\n    </tr>\n    <tr>\n      <th>15</th>\n      <td>I2</td>\n      <td>50</td>\n      <td>66</td>\n      <td>68</td>\n      <td>33</td>\n      <td>217</td>\n    </tr>\n    <tr>\n      <th>16</th>\n      <td>D2</td>\n      <td>43</td>\n      <td>67</td>\n      <td>68</td>\n      <td>54</td>\n      <td>232</td>\n    </tr>\n    <tr>\n      <th>17</th>\n      <td>D1</td>\n      <td>71</td>\n      <td>142</td>\n      <td>123</td>\n      <td>74</td>\n      <td>410</td>\n    </tr>\n    <tr>\n      <th>18</th>\n      <td>I1</td>\n      <td>68</td>\n      <td>135</td>\n      <td>128</td>\n      <td>56</td>\n      <td>387</td>\n    </tr>\n    <tr>\n      <th>19</th>\n      <td>I2</td>\n      <td>50</td>\n      <td>66</td>\n      <td>68</td>\n      <td>33</td>\n      <td>217</td>\n    </tr>\n  </tbody>\n</table>\n</div>"
          },
          "metadata": {}
        }
      ],
      "execution_count": 33,
      "metadata": {
        "source_hash": "88b34e97",
        "execution_start": 1724125926783,
        "execution_millis": 10131,
        "deepnote_to_be_reexecuted": false,
        "deepnote_app_block_visible": true,
        "cell_id": "7b4b1cc9bbc640629729f13d23f8f794",
        "deepnote_cell_type": "code"
      }
    },
    {
      "cell_type": "markdown",
      "source": [
        "Se elabora una tabla de `frecuencia esperada` donde se incluyen todas las columnas presentes en la tabla de frecuencia observada, con la excepción de la columna `Periodo`. Se identifica y contabiliza la frecuencia de cada combinación única de valores presentes en la tabla de `frecuencia esperada` de la base de datos `dh`. Dado que en esta tabla más del 25% de los registros presentan una frecuencia superior a 5, no se requiere la concatenación de filas."
      ],
      "metadata": {
        "deepnote_app_block_visible": true,
        "cell_id": "861729de0f734e10857539e759fcb953",
        "deepnote_cell_type": "markdown"
      }
    },
    {
      "cell_type": "markdown",
      "source": [
        "## Probabilidad observada y esperada"
      ],
      "metadata": {
        "deepnote_app_block_visible": true,
        "cell_id": "377ac746b49b40809d1c6e5cd61747c4",
        "deepnote_cell_type": "markdown"
      }
    },
    {
      "cell_type": "code",
      "source": [
        "prob_obs = freq_obs[Estados].div(freq_obs[\"Total\"], axis=0)\n",
        "print(prob_obs)"
      ],
      "outputs": [
        {
          "output_type": "stream",
          "name": "stdout",
          "text": "          D2        D1        I1        I2\n0   0.200000  0.400000  0.100000  0.300000\n1   0.194444  0.222222  0.333333  0.250000\n2   0.075000  0.375000  0.375000  0.175000\n3   0.291667  0.208333  0.416667  0.083333\n4   0.163265  0.367347  0.265306  0.204082\n5   0.180952  0.333333  0.304762  0.180952\n6   0.148515  0.346535  0.346535  0.158416\n7   0.140351  0.298246  0.350877  0.210526\n8   0.209677  0.258065  0.274194  0.258065\n9   0.160000  0.370000  0.260000  0.210000\n10  0.230769  0.307692  0.340659  0.120879\n11  0.203390  0.322034  0.288136  0.186441\n12  0.180328  0.278689  0.327869  0.213115\n13  0.168224  0.345794  0.373832  0.112150\n14  0.193878  0.377551  0.285714  0.142857\n15  0.288889  0.355556  0.222222  0.133333\n16  0.184211  0.210526  0.368421  0.236842\n17  0.177419  0.403226  0.209677  0.209677\n18  0.181818  0.363636  0.309091  0.145455\n19  0.312500  0.281250  0.343750  0.062500\n"
        }
      ],
      "execution_count": 34,
      "metadata": {
        "source_hash": "d644b53e",
        "execution_start": 1724125936927,
        "execution_millis": 277,
        "deepnote_to_be_reexecuted": false,
        "deepnote_app_block_visible": true,
        "cell_id": "0403a0d48c3c481f9a272379977ee22a",
        "deepnote_cell_type": "code"
      }
    },
    {
      "cell_type": "code",
      "source": [
        "prob_esp = freq_esp[Estados].div(freq_esp[\"Total\"], axis=0)\n",
        "print(prob_esp)"
      ],
      "outputs": [
        {
          "output_type": "stream",
          "name": "stdout",
          "text": "          D2        D1        I1        I2\n0   0.185345  0.288793  0.293103  0.232759\n1   0.173171  0.346341  0.300000  0.180488\n2   0.175711  0.348837  0.330749  0.144703\n3   0.230415  0.304147  0.313364  0.152074\n4   0.185345  0.288793  0.293103  0.232759\n5   0.173171  0.346341  0.300000  0.180488\n6   0.175711  0.348837  0.330749  0.144703\n7   0.230415  0.304147  0.313364  0.152074\n8   0.185345  0.288793  0.293103  0.232759\n9   0.173171  0.346341  0.300000  0.180488\n10  0.175711  0.348837  0.330749  0.144703\n11  0.230415  0.304147  0.313364  0.152074\n12  0.185345  0.288793  0.293103  0.232759\n13  0.173171  0.346341  0.300000  0.180488\n14  0.175711  0.348837  0.330749  0.144703\n15  0.230415  0.304147  0.313364  0.152074\n16  0.185345  0.288793  0.293103  0.232759\n17  0.173171  0.346341  0.300000  0.180488\n18  0.175711  0.348837  0.330749  0.144703\n19  0.230415  0.304147  0.313364  0.152074\n"
        }
      ],
      "execution_count": 35,
      "metadata": {
        "source_hash": "8ce28055",
        "execution_start": 1724125936941,
        "execution_millis": 264,
        "deepnote_to_be_reexecuted": false,
        "deepnote_app_block_visible": true,
        "cell_id": "471f0ea590f04853bfc8a317a366684b",
        "deepnote_cell_type": "code"
      }
    },
    {
      "cell_type": "markdown",
      "source": [
        "\n",
        "Para calcular la probabilidades observadas y esperadas se necesita de las tablas de `frecuencia observada y esperada` las columnas `Estados` y dividir eso entre el total de cada una de las frecuencias respectivamente.\n",
        "Para calcular la probabilidades observadas y esperadas se necesita de las tablas de frecuencia observada y esperada las columnas Estados y dividir eso entre el total de cada una de las frecuencias respectivamente."
      ],
      "metadata": {
        "deepnote_app_block_visible": true,
        "cell_id": "950f21c2430a40ba81c7908a68efd640",
        "deepnote_cell_type": "markdown"
      }
    },
    {
      "cell_type": "markdown",
      "source": [
        "## Pruba de hipótesis"
      ],
      "metadata": {
        "deepnote_app_block_visible": true,
        "cell_id": "320964c6491d4d2ca2979057cd2e947c",
        "deepnote_cell_type": "markdown"
      }
    },
    {
      "cell_type": "code",
      "source": [
        "resultado = ((prob_obs - prob_esp) ** 2 / prob_esp).sum(axis=1) * freq_obs[\"Total\"]\n",
        "chi_2 = resultado.sum()\n",
        "print(chi_2)"
      ],
      "outputs": [
        {
          "output_type": "stream",
          "name": "stdout",
          "text": "38.55867683975051\n"
        }
      ],
      "execution_count": 36,
      "metadata": {
        "source_hash": "898e1548",
        "execution_start": 1724125936957,
        "execution_millis": 248,
        "deepnote_to_be_reexecuted": false,
        "deepnote_app_block_visible": true,
        "cell_id": "438a3443326a417db01284ecd2b0a93d",
        "deepnote_cell_type": "code"
      }
    },
    {
      "cell_type": "code",
      "source": [
        "deg_free = (prob_esp.shape[1]-1)*(prob_esp.shape[0]-1)\n",
        "print(deg_free)"
      ],
      "outputs": [
        {
          "output_type": "stream",
          "name": "stdout",
          "text": "57\n"
        }
      ],
      "execution_count": 37,
      "metadata": {
        "source_hash": "e3b25b6c",
        "execution_start": 1724125936958,
        "execution_millis": 247,
        "deepnote_to_be_reexecuted": false,
        "deepnote_app_block_visible": true,
        "cell_id": "ab9899f6465f457c8daadfe7e3077354",
        "deepnote_cell_type": "code"
      }
    },
    {
      "cell_type": "code",
      "source": [
        "alpha = 0.05\n",
        "chi2_inv = stats.chi2.ppf(1-alpha, deg_free)\n",
        "print(chi2_inv)\n",
        "if chi_2 < chi2_inv:\n",
        "    Homogenea = \"No se rechaza Ho\"\n",
        "else:\n",
        "    Homogenea = \"Se rechaza Ho\"\n",
        "print(Homogenea)"
      ],
      "outputs": [
        {
          "output_type": "stream",
          "name": "stdout",
          "text": "75.62374846937608\nNo se rechaza Ho\n"
        }
      ],
      "execution_count": 38,
      "metadata": {
        "source_hash": "4280316d",
        "execution_start": 1724125936964,
        "execution_millis": 242,
        "deepnote_to_be_reexecuted": false,
        "deepnote_app_block_visible": true,
        "cell_id": "bcee7f86d9204b6fb6d8a73a6cb4b25e",
        "deepnote_cell_type": "code"
      }
    },
    {
      "cell_type": "markdown",
      "source": [
        "Se determina el valor crítico `chi2_inv` para un nivel de significancia del `5%`. Si el estadístico `chi-cuadrado` es menor que el valor crítico, no se rechaza la hipótesis nula `Ho`, lo que sugiere que las distribuciones de las poblaciones son iguales en todos los periodos.De lo contrario, se rechaza la hipótesis nula."
      ],
      "metadata": {
        "deepnote_app_block_visible": true,
        "cell_id": "bf6ae0c3084d4b8296a5ed608e0c0a8a",
        "deepnote_cell_type": "markdown"
      }
    },
    {
      "cell_type": "markdown",
      "source": [
        "## Matríz de transición "
      ],
      "metadata": {
        "deepnote_app_block_visible": true,
        "cell_id": "ab8a04872dd048b4806cecdfce095966",
        "deepnote_cell_type": "markdown"
      }
    },
    {
      "cell_type": "code",
      "source": [
        "Matriz_transicion = freq_esp[Estados].div(freq_esp[\"Total\"], axis=0).iloc[:4]\n",
        "Matriz_transicion.index = Estados\n",
        "print(Matriz_transicion)"
      ],
      "outputs": [
        {
          "output_type": "stream",
          "name": "stdout",
          "text": "          D2        D1        I1        I2\nD2  0.185345  0.288793  0.293103  0.232759\nD1  0.173171  0.346341  0.300000  0.180488\nI1  0.175711  0.348837  0.330749  0.144703\nI2  0.230415  0.304147  0.313364  0.152074\n"
        }
      ],
      "execution_count": 39,
      "metadata": {
        "source_hash": "aa8931ed",
        "execution_start": 1724125936973,
        "execution_millis": 233,
        "deepnote_to_be_reexecuted": false,
        "deepnote_app_block_visible": true,
        "cell_id": "1517dddc0e7b4817b5a2a4c0d29e2293",
        "deepnote_cell_type": "code"
      }
    },
    {
      "cell_type": "markdown",
      "source": [
        "En la matriz de transición en este caso de la homogeneidad son las 4 primeras filas de la `Probabilidad esperada`."
      ],
      "metadata": {
        "deepnote_app_block_visible": true,
        "cell_id": "cdf143f99e744259aaccb5ff3c267764",
        "deepnote_cell_type": "markdown"
      }
    },
    {
      "cell_type": "markdown",
      "source": [
        "## Función Homogeneidad"
      ],
      "metadata": {
        "deepnote_app_block_visible": true,
        "cell_id": "367b631316e049219af5b9d64b06e73c",
        "deepnote_cell_type": "markdown"
      }
    },
    {
      "cell_type": "markdown",
      "source": [
        "Esta función crea la matríz de transición y la prueba de hipotesis de homogeneidad de cualquier divisa, con su respectivo limpieza de datos."
      ],
      "metadata": {
        "deepnote_app_block_visible": true,
        "cell_id": "fa6c7e76aa464522b1326f6c084732dc",
        "deepnote_cell_type": "markdown"
      }
    },
    {
      "cell_type": "code",
      "source": [
        "def homogenio(currency = \"JPY\"):\n",
        "    dh = final_states(currency= \"JPY\")\n",
        "    dh.insert(0, 'Periodo', None)\n",
        "    dh[\"Siguiente\"] = dh[\"Estado\"].shift(-1)\n",
        "    dh.columns = [\"Periodo\", \"Actual\", \"Siguiente\"]\n",
        "    dh.index = dates[6:]\n",
        "    fechas = dh.index.to_list()\n",
        "    k= 0\n",
        "    periodos = []\n",
        "    for i in [\"2020\",\"2021\",\"2022\",\"2023\",\"2024\"]:\n",
        "        f = [año[:4] for año in fechas if i in año]\n",
        "        f = f[:len(f)-1] +[\"-\"]\n",
        "        periodos.extend(f)\n",
        "    dh['Periodo'] = periodos\n",
        "    dh.reset_index(drop= True, inplace= True)\n",
        "    freq_obs = pd.DataFrame(columns=(\"periodo\", \"Actual\") )\n",
        "    años = set(dh['Periodo'].unique().tolist())\n",
        "    años = años.difference({\"-\"})\n",
        "    años = list(años)\n",
        "    años.sort()\n",
        "    for i in años:\n",
        "        for j in Estados:\n",
        "            freq_obs.loc[len(freq_obs)] = [i,j]\n",
        "    for i in Estados +[\"Total\"]:\n",
        "        freq_obs[i] = 0\n",
        "    for i in freq_obs.index:\n",
        "        for j in Estados:\n",
        "            for k in dh.index:\n",
        "                if dh.loc[k].tolist() == freq_obs.loc[i].tolist()[:2]+[j]:\n",
        "                    freq_obs.loc[i, j] += 1\n",
        "    freq_obs[\"Total\"] = freq_obs[[Estados[0],Estados[1],Estados[2],Estados[3]]].sum(axis=1)\n",
        "    freq_esp = freq_obs[['Actual']+Estados+['Total']]\n",
        "    for i in Estados +[\"Total\"]:\n",
        "        freq_esp[i] = 0\n",
        "    for i in freq_esp.index:\n",
        "        for j in Estados:\n",
        "            for k in dh.index:\n",
        "                if dh.loc[k].tolist()[1:] == freq_esp.loc[i].tolist()[:1]+[j]:\n",
        "                    freq_esp.loc[i, j] += 1\n",
        "    freq_esp[\"Total\"] = freq_esp[[Estados[0],Estados[1],Estados[2],Estados[3]]].sum(axis=1)\n",
        "    prob_obs = freq_obs[Estados].div(freq_obs[\"Total\"], axis=0)\n",
        "    prob_esp = freq_esp[Estados].div(freq_esp[\"Total\"], axis=0)\n",
        "    resultado = ((prob_obs - prob_esp) ** 2 / prob_esp).sum(axis=1) * freq_obs[\"Total\"]\n",
        "    chi_2 = resultado.sum()\n",
        "    deg_free = (prob_esp.shape[1]-1)*(prob_esp.shape[0]-1)\n",
        "    alpha = 0.05\n",
        "    chi2_inv = stats.chi2.ppf(1-alpha, deg_free)\n",
        "    print(chi2_inv)\n",
        "    if chi_2 < chi2_inv:\n",
        "        Homogenea = \"No se rechaza Ho\"\n",
        "    else:\n",
        "        Homogenea = \"Se rechaza Ho\"\n",
        "    print(Homogenea)\n",
        "    Matriz_transicion = freq_esp[Estados].div(freq_esp[\"Total\"], axis=0).iloc[:4]\n",
        "    Matriz_transicion.index = Estados\n",
        "    print(\"Frecuencia esperada\")\n",
        "    print(freq_esp)\n",
        "    print(\"----\"*100)\n",
        "    print(\"Prueba de homogeneidad\")\n",
        "    print(Homogenea)\n",
        "    print(\"Matriz de transición\")\n",
        "    print(Matriz_transicion)"
      ],
      "outputs": [],
      "execution_count": 40,
      "metadata": {
        "source_hash": "cdc3c2d0",
        "execution_start": 1724125936996,
        "execution_millis": 210,
        "deepnote_to_be_reexecuted": false,
        "deepnote_app_block_visible": true,
        "cell_id": "386e3bc835994c61b5e46eb1af38d6c2",
        "deepnote_cell_type": "code"
      }
    },
    {
      "cell_type": "markdown",
      "source": [
        "## Homogeneidad para el JPY"
      ],
      "metadata": {
        "deepnote_app_block_visible": true,
        "cell_id": "ee91920159354857b49de605f819706d",
        "deepnote_cell_type": "markdown"
      }
    },
    {
      "cell_type": "code",
      "source": [
        "homogenio(currency= \"JPY\")"
      ],
      "outputs": [
        {
          "output_type": "stream",
          "name": "stdout",
          "text": "75.62374846937608\nNo se rechaza Ho\nFrecuencia esperada\n   Actual  D2   D1   I1  I2  Total\n0      D2  43   67   68  54    232\n1      D1  71  142  123  74    410\n2      I1  68  135  128  56    387\n3      I2  50   66   68  33    217\n4      D2  43   67   68  54    232\n5      D1  71  142  123  74    410\n6      I1  68  135  128  56    387\n7      I2  50   66   68  33    217\n8      D2  43   67   68  54    232\n9      D1  71  142  123  74    410\n10     I1  68  135  128  56    387\n11     I2  50   66   68  33    217\n12     D2  43   67   68  54    232\n13     D1  71  142  123  74    410\n14     I1  68  135  128  56    387\n15     I2  50   66   68  33    217\n16     D2  43   67   68  54    232\n17     D1  71  142  123  74    410\n18     I1  68  135  128  56    387\n19     I2  50   66   68  33    217\n----------------------------------------------------------------------------------------------------------------------------------------------------------------------------------------------------------------------------------------------------------------------------------------------------------------------------------------------------------------------------------------------------------------\nPrueba de homogeneidad\nNo se rechaza Ho\nMatriz de transición\n          D2        D1        I1        I2\nD2  0.185345  0.288793  0.293103  0.232759\nD1  0.173171  0.346341  0.300000  0.180488\nI1  0.175711  0.348837  0.330749  0.144703\nI2  0.230415  0.304147  0.313364  0.152074\n"
        }
      ],
      "execution_count": 41,
      "metadata": {
        "source_hash": "a5d49e6b",
        "execution_start": 1724125937008,
        "execution_millis": 19563,
        "deepnote_to_be_reexecuted": false,
        "deepnote_app_block_visible": true,
        "cell_id": "f6cda958d974485ea0f9411f5247e0a6",
        "deepnote_cell_type": "code"
      }
    },
    {
      "cell_type": "markdown",
      "source": [
        "## Homogeneidad para el MXN"
      ],
      "metadata": {
        "deepnote_app_block_visible": true,
        "cell_id": "aa0447b744b841e1a078e6735595d3f2",
        "deepnote_cell_type": "markdown"
      }
    },
    {
      "cell_type": "code",
      "source": [
        "homogenio(currency= \"MXN\")"
      ],
      "outputs": [
        {
          "output_type": "stream",
          "name": "stdout",
          "text": "75.62374846937608\nNo se rechaza Ho\nFrecuencia esperada\n   Actual  D2   D1   I1  I2  Total\n0      D2  43   67   68  54    232\n1      D1  71  142  123  74    410\n2      I1  68  135  128  56    387\n3      I2  50   66   68  33    217\n4      D2  43   67   68  54    232\n5      D1  71  142  123  74    410\n6      I1  68  135  128  56    387\n7      I2  50   66   68  33    217\n8      D2  43   67   68  54    232\n9      D1  71  142  123  74    410\n10     I1  68  135  128  56    387\n11     I2  50   66   68  33    217\n12     D2  43   67   68  54    232\n13     D1  71  142  123  74    410\n14     I1  68  135  128  56    387\n15     I2  50   66   68  33    217\n16     D2  43   67   68  54    232\n17     D1  71  142  123  74    410\n18     I1  68  135  128  56    387\n19     I2  50   66   68  33    217\n----------------------------------------------------------------------------------------------------------------------------------------------------------------------------------------------------------------------------------------------------------------------------------------------------------------------------------------------------------------------------------------------------------------\nPrueba de homogeneidad\nNo se rechaza Ho\nMatriz de transición\n          D2        D1        I1        I2\nD2  0.185345  0.288793  0.293103  0.232759\nD1  0.173171  0.346341  0.300000  0.180488\nI1  0.175711  0.348837  0.330749  0.144703\nI2  0.230415  0.304147  0.313364  0.152074\n"
        }
      ],
      "execution_count": 42,
      "metadata": {
        "source_hash": "e1296fa",
        "execution_start": 1724125956574,
        "execution_millis": 19552,
        "deepnote_to_be_reexecuted": false,
        "deepnote_app_block_visible": true,
        "cell_id": "3cdffa2a9160487f952a56ca64c8ff4b",
        "deepnote_cell_type": "code"
      }
    },
    {
      "cell_type": "markdown",
      "source": [
        "## Homogeneidad para el CHF"
      ],
      "metadata": {
        "deepnote_app_block_visible": true,
        "cell_id": "653b6f67334f43e18000a7bb9ababbf3",
        "deepnote_cell_type": "markdown"
      }
    },
    {
      "cell_type": "code",
      "source": [
        "homogenio(currency= \"CHF\")"
      ],
      "outputs": [
        {
          "output_type": "stream",
          "name": "stdout",
          "text": "75.62374846937608\nNo se rechaza Ho\nFrecuencia esperada\n   Actual  D2   D1   I1  I2  Total\n0      D2  43   67   68  54    232\n1      D1  71  142  123  74    410\n2      I1  68  135  128  56    387\n3      I2  50   66   68  33    217\n4      D2  43   67   68  54    232\n5      D1  71  142  123  74    410\n6      I1  68  135  128  56    387\n7      I2  50   66   68  33    217\n8      D2  43   67   68  54    232\n9      D1  71  142  123  74    410\n10     I1  68  135  128  56    387\n11     I2  50   66   68  33    217\n12     D2  43   67   68  54    232\n13     D1  71  142  123  74    410\n14     I1  68  135  128  56    387\n15     I2  50   66   68  33    217\n16     D2  43   67   68  54    232\n17     D1  71  142  123  74    410\n18     I1  68  135  128  56    387\n19     I2  50   66   68  33    217\n----------------------------------------------------------------------------------------------------------------------------------------------------------------------------------------------------------------------------------------------------------------------------------------------------------------------------------------------------------------------------------------------------------------\nPrueba de homogeneidad\nNo se rechaza Ho\nMatriz de transición\n          D2        D1        I1        I2\nD2  0.185345  0.288793  0.293103  0.232759\nD1  0.173171  0.346341  0.300000  0.180488\nI1  0.175711  0.348837  0.330749  0.144703\nI2  0.230415  0.304147  0.313364  0.152074\n"
        }
      ],
      "execution_count": 43,
      "metadata": {
        "source_hash": "dc3b2039",
        "execution_start": 1724125976130,
        "execution_millis": 19541,
        "deepnote_to_be_reexecuted": false,
        "deepnote_app_block_visible": true,
        "cell_id": "9b2f7162698342b9a7e2dc44af7369be",
        "deepnote_cell_type": "code"
      }
    },
    {
      "cell_type": "markdown",
      "source": [
        "## Homogeneidad para el GBP"
      ],
      "metadata": {
        "deepnote_app_block_visible": true,
        "cell_id": "ea8e89af2cb7477aaef0a967f6b6b6b2",
        "deepnote_cell_type": "markdown"
      }
    },
    {
      "cell_type": "code",
      "source": [
        "homogenio(currency=\"GBP\")"
      ],
      "outputs": [
        {
          "output_type": "stream",
          "name": "stdout",
          "text": "75.62374846937608\nNo se rechaza Ho\nFrecuencia esperada\n   Actual  D2   D1   I1  I2  Total\n0      D2  43   67   68  54    232\n1      D1  71  142  123  74    410\n2      I1  68  135  128  56    387\n3      I2  50   66   68  33    217\n4      D2  43   67   68  54    232\n5      D1  71  142  123  74    410\n6      I1  68  135  128  56    387\n7      I2  50   66   68  33    217\n8      D2  43   67   68  54    232\n9      D1  71  142  123  74    410\n10     I1  68  135  128  56    387\n11     I2  50   66   68  33    217\n12     D2  43   67   68  54    232\n13     D1  71  142  123  74    410\n14     I1  68  135  128  56    387\n15     I2  50   66   68  33    217\n16     D2  43   67   68  54    232\n17     D1  71  142  123  74    410\n18     I1  68  135  128  56    387\n19     I2  50   66   68  33    217\n----------------------------------------------------------------------------------------------------------------------------------------------------------------------------------------------------------------------------------------------------------------------------------------------------------------------------------------------------------------------------------------------------------------\nPrueba de homogeneidad\nNo se rechaza Ho\nMatriz de transición\n          D2        D1        I1        I2\nD2  0.185345  0.288793  0.293103  0.232759\nD1  0.173171  0.346341  0.300000  0.180488\nI1  0.175711  0.348837  0.330749  0.144703\nI2  0.230415  0.304147  0.313364  0.152074\n"
        }
      ],
      "execution_count": 44,
      "metadata": {
        "source_hash": "c582a700",
        "execution_start": 1724125995674,
        "execution_millis": 19482,
        "deepnote_to_be_reexecuted": false,
        "deepnote_app_block_visible": true,
        "cell_id": "2c9120de93fb423aae3652888678418e",
        "deepnote_cell_type": "code"
      }
    },
    {
      "cell_type": "markdown",
      "source": [
        "# Cadenas de Markov de Orden Superior"
      ],
      "metadata": {
        "deepnote_app_block_visible": true,
        "cell_id": "d74d6b5dee334bdb9ab1f9c0910b1281",
        "deepnote_cell_type": "markdown"
      }
    },
    {
      "cell_type": "code",
      "source": [
        "Data = final_states(currency=\"JPY\")\n",
        "Data.columns = [\"x_t\"]\n",
        "Data[\"x_t+1\"] = Data[\"x_t\"].shift(-1)\n",
        "Data[\"x_t+2\"] = Data[\"x_t+1\"].shift(-1)\n",
        "Data[\"x_t+3\"] = Data[\"x_t+2\"].shift(-1)\n",
        "\n",
        "Data"
      ],
      "outputs": [
        {
          "output_type": "execute_result",
          "execution_count": 45,
          "data": {
            "application/vnd.deepnote.dataframe.v3+json": {
              "column_count": 4,
              "row_count": 1247,
              "columns": [
                {
                  "name": "x_t",
                  "dtype": "object",
                  "stats": {
                    "unique_count": 4,
                    "nan_count": 0,
                    "categories": [
                      {
                        "name": "D1",
                        "count": 410
                      },
                      {
                        "name": "I1",
                        "count": 388
                      },
                      {
                        "name": "2 others",
                        "count": 449
                      }
                    ]
                  }
                },
                {
                  "name": "x_t+1",
                  "dtype": "object",
                  "stats": {
                    "unique_count": 4,
                    "nan_count": 1,
                    "categories": [
                      {
                        "name": "D1",
                        "count": 410
                      },
                      {
                        "name": "3 others",
                        "count": 836
                      },
                      {
                        "name": "Missing",
                        "count": 1
                      }
                    ]
                  }
                },
                {
                  "name": "x_t+2",
                  "dtype": "object",
                  "stats": {
                    "unique_count": 4,
                    "nan_count": 2,
                    "categories": [
                      {
                        "name": "D1",
                        "count": 410
                      },
                      {
                        "name": "3 others",
                        "count": 835
                      },
                      {
                        "name": "Missing",
                        "count": 2
                      }
                    ]
                  }
                },
                {
                  "name": "x_t+3",
                  "dtype": "object",
                  "stats": {
                    "unique_count": 4,
                    "nan_count": 3,
                    "categories": [
                      {
                        "name": "D1",
                        "count": 410
                      },
                      {
                        "name": "3 others",
                        "count": 834
                      },
                      {
                        "name": "Missing",
                        "count": 3
                      }
                    ]
                  }
                },
                {
                  "name": "_deepnote_index_column",
                  "dtype": "int64"
                }
              ],
              "rows": [
                {
                  "x_t": "I1",
                  "x_t+1": "I2",
                  "x_t+2": "I1",
                  "x_t+3": "I1",
                  "_deepnote_index_column": 0
                },
                {
                  "x_t": "I2",
                  "x_t+1": "I1",
                  "x_t+2": "I1",
                  "x_t+3": "I1",
                  "_deepnote_index_column": 1
                },
                {
                  "x_t": "I1",
                  "x_t+1": "I1",
                  "x_t+2": "I1",
                  "x_t+3": "D1",
                  "_deepnote_index_column": 2
                },
                {
                  "x_t": "I1",
                  "x_t+1": "I1",
                  "x_t+2": "D1",
                  "x_t+3": "D2",
                  "_deepnote_index_column": 3
                },
                {
                  "x_t": "I1",
                  "x_t+1": "D1",
                  "x_t+2": "D2",
                  "x_t+3": "I2",
                  "_deepnote_index_column": 4
                }
              ]
            },
            "text/plain": "     x_t x_t+1 x_t+2 x_t+3\n0     I1    I2    I1    I1\n1     I2    I1    I1    I1\n2     I1    I1    I1    D1\n3     I1    I1    D1    D2\n4     I1    D1    D2    I2\n...   ..   ...   ...   ...\n1242  D1    I1    I1    I1\n1243  I1    I1    I1    I1\n1244  I1    I1    I1  None\n1245  I1    I1  None  None\n1246  I1  None  None  None\n\n[1247 rows x 4 columns]",
            "text/html": "<div>\n<style scoped>\n    .dataframe tbody tr th:only-of-type {\n        vertical-align: middle;\n    }\n\n    .dataframe tbody tr th {\n        vertical-align: top;\n    }\n\n    .dataframe thead th {\n        text-align: right;\n    }\n</style>\n<table border=\"1\" class=\"dataframe\">\n  <thead>\n    <tr style=\"text-align: right;\">\n      <th></th>\n      <th>x_t</th>\n      <th>x_t+1</th>\n      <th>x_t+2</th>\n      <th>x_t+3</th>\n    </tr>\n  </thead>\n  <tbody>\n    <tr>\n      <th>0</th>\n      <td>I1</td>\n      <td>I2</td>\n      <td>I1</td>\n      <td>I1</td>\n    </tr>\n    <tr>\n      <th>1</th>\n      <td>I2</td>\n      <td>I1</td>\n      <td>I1</td>\n      <td>I1</td>\n    </tr>\n    <tr>\n      <th>2</th>\n      <td>I1</td>\n      <td>I1</td>\n      <td>I1</td>\n      <td>D1</td>\n    </tr>\n    <tr>\n      <th>3</th>\n      <td>I1</td>\n      <td>I1</td>\n      <td>D1</td>\n      <td>D2</td>\n    </tr>\n    <tr>\n      <th>4</th>\n      <td>I1</td>\n      <td>D1</td>\n      <td>D2</td>\n      <td>I2</td>\n    </tr>\n    <tr>\n      <th>...</th>\n      <td>...</td>\n      <td>...</td>\n      <td>...</td>\n      <td>...</td>\n    </tr>\n    <tr>\n      <th>1242</th>\n      <td>D1</td>\n      <td>I1</td>\n      <td>I1</td>\n      <td>I1</td>\n    </tr>\n    <tr>\n      <th>1243</th>\n      <td>I1</td>\n      <td>I1</td>\n      <td>I1</td>\n      <td>I1</td>\n    </tr>\n    <tr>\n      <th>1244</th>\n      <td>I1</td>\n      <td>I1</td>\n      <td>I1</td>\n      <td>None</td>\n    </tr>\n    <tr>\n      <th>1245</th>\n      <td>I1</td>\n      <td>I1</td>\n      <td>None</td>\n      <td>None</td>\n    </tr>\n    <tr>\n      <th>1246</th>\n      <td>I1</td>\n      <td>None</td>\n      <td>None</td>\n      <td>None</td>\n    </tr>\n  </tbody>\n</table>\n<p>1247 rows × 4 columns</p>\n</div>"
          },
          "metadata": {}
        }
      ],
      "execution_count": 45,
      "metadata": {
        "deepnote_app_block_visible": true,
        "deepnote_table_loading": false,
        "execution_millis": 305,
        "source_hash": "b7042a85",
        "deepnote_cell_type": "code",
        "cell_id": "d107bfa256e54264ad23f6eb712e0423",
        "execution_start": 1724126015159,
        "deepnote_to_be_reexecuted": false,
        "deepnote_table_state": {
          "sortBy": [],
          "filters": [],
          "pageSize": 5,
          "pageIndex": 0,
          "conditionalFilters": []
        }
      }
    },
    {
      "cell_type": "code",
      "source": [
        "t = Data[\"x_t\"].unique().tolist()\n",
        "c = 0\n",
        "\n",
        "freq_obs = pd.DataFrame(columns=(\"Anterior\", \"Actual\", \"Siguiente\", \"D2\", \"D1\", \"I1\", \"I2\"))\n",
        "for i in range(4):\n",
        "    for j in range(4):\n",
        "        for h in range(4):\n",
        "            freq_obs.loc[c, \"Anterior\"] =  t[i]\n",
        "            freq_obs.loc[c, \"Actual\"] = t[j]\n",
        "            freq_obs.loc[c, \"Siguiente\"] = t[h]\n",
        "            c += 1\n",
        "\n",
        "print(freq_obs)"
      ],
      "outputs": [
        {
          "output_type": "stream",
          "name": "stdout",
          "text": "   Anterior Actual Siguiente   D2   D1   I1   I2\n0        I1     I1        I1  NaN  NaN  NaN  NaN\n1        I1     I1        I2  NaN  NaN  NaN  NaN\n2        I1     I1        D1  NaN  NaN  NaN  NaN\n3        I1     I1        D2  NaN  NaN  NaN  NaN\n4        I1     I2        I1  NaN  NaN  NaN  NaN\n..      ...    ...       ...  ...  ...  ...  ...\n59       D2     D1        D2  NaN  NaN  NaN  NaN\n60       D2     D2        I1  NaN  NaN  NaN  NaN\n61       D2     D2        I2  NaN  NaN  NaN  NaN\n62       D2     D2        D1  NaN  NaN  NaN  NaN\n63       D2     D2        D2  NaN  NaN  NaN  NaN\n\n[64 rows x 7 columns]\n"
        }
      ],
      "execution_count": 46,
      "metadata": {
        "source_hash": "b7036784",
        "execution_start": 1724126015160,
        "execution_millis": 304,
        "deepnote_to_be_reexecuted": false,
        "deepnote_app_block_visible": true,
        "cell_id": "c96efcf1fbf4413bb379d4aba45833b9",
        "deepnote_cell_type": "code"
      }
    },
    {
      "cell_type": "code",
      "source": [
        "for i, row in freq_obs.iterrows():\n",
        "    count1 = 0\n",
        "    count2 = 0\n",
        "    count3 = 0\n",
        "    count4 = 0\n",
        "    for j , row2 in Data.iterrows():\n",
        "        if row[\"Anterior\"] == row2[\"x_t\"]:\n",
        "            if row[\"Actual\"] == row2[\"x_t+1\"]:\n",
        "                if row[\"Siguiente\"] == row2[\"x_t+2\"]:\n",
        "                    if row2[\"x_t+3\"] == \"D2\":\n",
        "                        count1 +=1\n",
        "                    elif row2[\"x_t+3\"] == \"D1\":\n",
        "                        count2 += 1\n",
        "                    elif row2[\"x_t+3\"] == \"I1\":\n",
        "                        count3 +=1\n",
        "                    elif row2[\"x_t+3\"] == \"I2\":\n",
        "                        count4 += 1\n",
        "    freq_obs.at[i , \"D2\"] = count1\n",
        "    freq_obs.at[i, \"D1\"] = count2\n",
        "    freq_obs.at[i, \"I1\"] = count3\n",
        "    freq_obs.at[i, \"I2\"] = count4\n",
        "    freq_obs.at[i, \"Total\"] = count1+ count2+count3+count4"
      ],
      "outputs": [],
      "execution_count": 47,
      "metadata": {
        "source_hash": "ae7bb241",
        "execution_start": 1724126015253,
        "execution_millis": 4353,
        "deepnote_to_be_reexecuted": false,
        "deepnote_app_block_visible": true,
        "cell_id": "54fe322a4a8c4a43a0fa0b1192d74e0d",
        "deepnote_cell_type": "code"
      }
    },
    {
      "cell_type": "code",
      "source": [
        "freq_esp = freq_obs[[\"Actual\", \"Siguiente\", \"D2\", \"D1\", \"I1\", \"I2\"]]\n",
        "\n",
        "for i, row in freq_esp.iterrows():\n",
        "    count1 = 0\n",
        "    count2 = 0\n",
        "    count3 = 0\n",
        "    count4 = 0\n",
        "    for j , row2 in Data.iterrows():\n",
        "        if row[\"Actual\"] == row2[\"x_t+1\"]:\n",
        "            if row[\"Siguiente\"] == row2[\"x_t+2\"]:\n",
        "                if row2[\"x_t+3\"] == \"D2\":\n",
        "                    count1 +=1\n",
        "                elif row2[\"x_t+3\"] == \"D1\":\n",
        "                    count2 += 1\n",
        "                elif row2[\"x_t+3\"] == \"I1\":\n",
        "                    count3 +=1\n",
        "                elif row2[\"x_t+3\"] == \"I2\":\n",
        "                    count4 += 1\n",
        "    freq_esp.at[i , \"D2\"] = count1\n",
        "    freq_esp.at[i, \"D1\"] = count2\n",
        "    freq_esp.at[i, \"I1\"] = count3\n",
        "    freq_esp.at[i, \"I2\"] = count4\n",
        "    freq_esp.at[i, \"Total\"] = count1+ count2+count3+count4\n",
        "\n",
        "print(freq_esp)\n"
      ],
      "outputs": [
        {
          "output_type": "stream",
          "name": "stdout",
          "text": "   Actual Siguiente  D2  D1  I1  I2  Total\n0      I1        I1  25  46  38  18  127.0\n1      I1        I2  14  16  19   6   55.0\n2      I1        D1  30  38  37  30  135.0\n3      I1        D2  16  18  15  19   68.0\n4      I2        I1   7  22  29  10   68.0\n..    ...       ...  ..  ..  ..  ..    ...\n59     D1        D2   9  23  24  15   71.0\n60     D2        I1  10  24  23  11   68.0\n61     D2        I2  12  21  13   8   54.0\n62     D2        D1   7  26  27   7   67.0\n63     D2        D2   4  17  14   8   43.0\n\n[64 rows x 7 columns]\n"
        }
      ],
      "execution_count": 48,
      "metadata": {
        "deepnote_app_block_visible": true,
        "deepnote_table_loading": false,
        "execution_millis": 4407,
        "source_hash": "382ebd48",
        "deepnote_cell_type": "code",
        "cell_id": "b8eba8ef674640559f7b92a2c5d50f28",
        "execution_start": 1724126019643,
        "deepnote_to_be_reexecuted": false,
        "deepnote_table_state": {
          "sortBy": [],
          "filters": [],
          "pageSize": 5,
          "pageIndex": 0,
          "conditionalFilters": []
        }
      }
    },
    {
      "cell_type": "code",
      "source": [
        "columnas_interes = freq_esp.drop(columns=['Total', \"Actual\", \"Siguiente\"])\n",
        "\n",
        "\n",
        "porcentaje_mayores_5 = (columnas_interes > 5).values.mean() * 100\n",
        "\n",
        "if porcentaje_mayores_5 > 25:\n",
        "    print(\"Más del 25% de los datos son mayores a 5\")\n",
        "else:\n",
        "    print(\"Menos del 25% de los datos son mayores a 5\")"
      ],
      "outputs": [
        {
          "output_type": "stream",
          "name": "stdout",
          "text": "Más del 25% de los datos son mayores a 5\n"
        }
      ],
      "execution_count": 49,
      "metadata": {
        "source_hash": "b8213f7d",
        "execution_start": 1724126024055,
        "execution_millis": 200,
        "deepnote_to_be_reexecuted": false,
        "deepnote_app_block_visible": true,
        "cell_id": "7f3b9fd344734153a4b760650485ff0d",
        "deepnote_cell_type": "code"
      }
    },
    {
      "cell_type": "code",
      "source": [
        "prob_obs = freq_obs[Estados].div(freq_obs[\"Total\"], axis=0)\n",
        "prob_obs"
      ],
      "outputs": [
        {
          "output_type": "execute_result",
          "execution_count": 50,
          "data": {
            "application/vnd.deepnote.dataframe.v3+json": {
              "column_count": 4,
              "row_count": 64,
              "columns": [
                {
                  "name": "D2",
                  "dtype": "object",
                  "stats": {
                    "unique_count": 44,
                    "nan_count": 0,
                    "categories": [
                      {
                        "name": "0.0",
                        "count": 5
                      },
                      {
                        "name": "0.16666666666666666",
                        "count": 4
                      },
                      {
                        "name": "42 others",
                        "count": 55
                      }
                    ]
                  }
                },
                {
                  "name": "D1",
                  "dtype": "object",
                  "stats": {
                    "unique_count": 47,
                    "nan_count": 0,
                    "categories": [
                      {
                        "name": "0.5",
                        "count": 4
                      },
                      {
                        "name": "0.3333333333333333",
                        "count": 3
                      },
                      {
                        "name": "45 others",
                        "count": 57
                      }
                    ]
                  }
                },
                {
                  "name": "I1",
                  "dtype": "object",
                  "stats": {
                    "unique_count": 46,
                    "nan_count": 0,
                    "categories": [
                      {
                        "name": "0.5",
                        "count": 5
                      },
                      {
                        "name": "0.3333333333333333",
                        "count": 4
                      },
                      {
                        "name": "44 others",
                        "count": 55
                      }
                    ]
                  }
                },
                {
                  "name": "I2",
                  "dtype": "object",
                  "stats": {
                    "unique_count": 41,
                    "nan_count": 0,
                    "categories": [
                      {
                        "name": "0.0",
                        "count": 10
                      },
                      {
                        "name": "0.25",
                        "count": 5
                      },
                      {
                        "name": "39 others",
                        "count": 49
                      }
                    ]
                  }
                },
                {
                  "name": "_deepnote_index_column",
                  "dtype": "int64"
                }
              ],
              "rows": [
                {
                  "D2": "0.1891891891891892",
                  "D1": "0.40540540540540543",
                  "I1": "0.35135135135135137",
                  "I2": "0.05405405405405406",
                  "_deepnote_index_column": 0
                },
                {
                  "D2": "0.2777777777777778",
                  "D1": "0.2777777777777778",
                  "I1": "0.2777777777777778",
                  "I2": "0.16666666666666666",
                  "_deepnote_index_column": 1
                },
                {
                  "D2": "0.2391304347826087",
                  "D1": "0.21739130434782608",
                  "I1": "0.32608695652173914",
                  "I2": "0.21739130434782608",
                  "_deepnote_index_column": 2
                },
                {
                  "D2": "0.28",
                  "D1": "0.24",
                  "I1": "0.16",
                  "I2": "0.32",
                  "_deepnote_index_column": 3
                },
                {
                  "D2": "0.15",
                  "D1": "0.45",
                  "I1": "0.3",
                  "I2": "0.1",
                  "_deepnote_index_column": 4
                }
              ]
            },
            "text/plain": "          D2        D1        I1        I2\n0   0.189189  0.405405  0.351351  0.054054\n1   0.277778  0.277778  0.277778  0.166667\n2    0.23913  0.217391  0.326087  0.217391\n3       0.28      0.24      0.16      0.32\n4       0.15      0.45       0.3       0.1\n..       ...       ...       ...       ...\n59       0.0  0.714286  0.285714       0.0\n60  0.214286       0.5  0.071429  0.214286\n61       0.0      0.75       0.0      0.25\n62  0.058824  0.470588  0.352941  0.117647\n63       0.0       0.5       0.5       0.0\n\n[64 rows x 4 columns]",
            "text/html": "<div>\n<style scoped>\n    .dataframe tbody tr th:only-of-type {\n        vertical-align: middle;\n    }\n\n    .dataframe tbody tr th {\n        vertical-align: top;\n    }\n\n    .dataframe thead th {\n        text-align: right;\n    }\n</style>\n<table border=\"1\" class=\"dataframe\">\n  <thead>\n    <tr style=\"text-align: right;\">\n      <th></th>\n      <th>D2</th>\n      <th>D1</th>\n      <th>I1</th>\n      <th>I2</th>\n    </tr>\n  </thead>\n  <tbody>\n    <tr>\n      <th>0</th>\n      <td>0.189189</td>\n      <td>0.405405</td>\n      <td>0.351351</td>\n      <td>0.054054</td>\n    </tr>\n    <tr>\n      <th>1</th>\n      <td>0.277778</td>\n      <td>0.277778</td>\n      <td>0.277778</td>\n      <td>0.166667</td>\n    </tr>\n    <tr>\n      <th>2</th>\n      <td>0.23913</td>\n      <td>0.217391</td>\n      <td>0.326087</td>\n      <td>0.217391</td>\n    </tr>\n    <tr>\n      <th>3</th>\n      <td>0.28</td>\n      <td>0.24</td>\n      <td>0.16</td>\n      <td>0.32</td>\n    </tr>\n    <tr>\n      <th>4</th>\n      <td>0.15</td>\n      <td>0.45</td>\n      <td>0.3</td>\n      <td>0.1</td>\n    </tr>\n    <tr>\n      <th>...</th>\n      <td>...</td>\n      <td>...</td>\n      <td>...</td>\n      <td>...</td>\n    </tr>\n    <tr>\n      <th>59</th>\n      <td>0.0</td>\n      <td>0.714286</td>\n      <td>0.285714</td>\n      <td>0.0</td>\n    </tr>\n    <tr>\n      <th>60</th>\n      <td>0.214286</td>\n      <td>0.5</td>\n      <td>0.071429</td>\n      <td>0.214286</td>\n    </tr>\n    <tr>\n      <th>61</th>\n      <td>0.0</td>\n      <td>0.75</td>\n      <td>0.0</td>\n      <td>0.25</td>\n    </tr>\n    <tr>\n      <th>62</th>\n      <td>0.058824</td>\n      <td>0.470588</td>\n      <td>0.352941</td>\n      <td>0.117647</td>\n    </tr>\n    <tr>\n      <th>63</th>\n      <td>0.0</td>\n      <td>0.5</td>\n      <td>0.5</td>\n      <td>0.0</td>\n    </tr>\n  </tbody>\n</table>\n<p>64 rows × 4 columns</p>\n</div>"
          },
          "metadata": {}
        }
      ],
      "execution_count": 50,
      "metadata": {
        "source_hash": "5b5a7275",
        "execution_start": 1724126024061,
        "execution_millis": 195,
        "deepnote_to_be_reexecuted": false,
        "deepnote_app_block_visible": true,
        "cell_id": "eb92f10feff04ba784784e8a3fae783f",
        "deepnote_cell_type": "code"
      }
    },
    {
      "cell_type": "code",
      "source": [
        "prob_esp = freq_esp[Estados].div(freq_esp[\"Total\"], axis=0)\n",
        "prob_esp"
      ],
      "outputs": [
        {
          "output_type": "execute_result",
          "execution_count": 51,
          "data": {
            "application/vnd.deepnote.dataframe.v3+json": {
              "column_count": 4,
              "row_count": 64,
              "columns": [
                {
                  "name": "D2",
                  "dtype": "object",
                  "stats": {
                    "unique_count": 15,
                    "nan_count": 0,
                    "categories": [
                      {
                        "name": "0.2222222222222222",
                        "count": 8
                      },
                      {
                        "name": "0.1968503937007874",
                        "count": 4
                      },
                      {
                        "name": "13 others",
                        "count": 52
                      }
                    ]
                  }
                },
                {
                  "name": "D1",
                  "dtype": "object",
                  "stats": {
                    "unique_count": 16,
                    "nan_count": 0,
                    "categories": [
                      {
                        "name": "0.36220472440944884",
                        "count": 4
                      },
                      {
                        "name": "0.2909090909090909",
                        "count": 4
                      },
                      {
                        "name": "14 others",
                        "count": 56
                      }
                    ]
                  }
                },
                {
                  "name": "I1",
                  "dtype": "object",
                  "stats": {
                    "unique_count": 16,
                    "nan_count": 0,
                    "categories": [
                      {
                        "name": "0.2992125984251969",
                        "count": 4
                      },
                      {
                        "name": "0.34545454545454546",
                        "count": 4
                      },
                      {
                        "name": "14 others",
                        "count": 56
                      }
                    ]
                  }
                },
                {
                  "name": "I2",
                  "dtype": "object",
                  "stats": {
                    "unique_count": 16,
                    "nan_count": 0,
                    "categories": [
                      {
                        "name": "0.14173228346456693",
                        "count": 4
                      },
                      {
                        "name": "0.10909090909090909",
                        "count": 4
                      },
                      {
                        "name": "14 others",
                        "count": 56
                      }
                    ]
                  }
                },
                {
                  "name": "_deepnote_index_column",
                  "dtype": "int64"
                }
              ],
              "rows": [
                {
                  "D2": "0.1968503937007874",
                  "D1": "0.36220472440944884",
                  "I1": "0.2992125984251969",
                  "I2": "0.14173228346456693",
                  "_deepnote_index_column": 0
                },
                {
                  "D2": "0.2545454545454545",
                  "D1": "0.2909090909090909",
                  "I1": "0.34545454545454546",
                  "I2": "0.10909090909090909",
                  "_deepnote_index_column": 1
                },
                {
                  "D2": "0.2222222222222222",
                  "D1": "0.2814814814814815",
                  "I1": "0.2740740740740741",
                  "I2": "0.2222222222222222",
                  "_deepnote_index_column": 2
                },
                {
                  "D2": "0.23529411764705882",
                  "D1": "0.2647058823529412",
                  "I1": "0.22058823529411764",
                  "I2": "0.27941176470588236",
                  "_deepnote_index_column": 3
                },
                {
                  "D2": "0.10294117647058823",
                  "D1": "0.3235294117647059",
                  "I1": "0.4264705882352941",
                  "I2": "0.14705882352941177",
                  "_deepnote_index_column": 4
                },
                {
                  "D2": "0.12121212121212122",
                  "D1": "0.30303030303030304",
                  "I1": "0.5151515151515151",
                  "I2": "0.06060606060606061",
                  "_deepnote_index_column": 5
                },
                {
                  "D2": "0.21212121212121213",
                  "D1": "0.2878787878787879",
                  "I1": "0.3787878787878788",
                  "I2": "0.12121212121212122",
                  "_deepnote_index_column": 6
                },
                {
                  "D2": "0.28",
                  "D1": "0.18",
                  "I1": "0.3",
                  "I2": "0.24",
                  "_deepnote_index_column": 7
                },
                {
                  "D2": "0.21138211382113822",
                  "D1": "0.34959349593495936",
                  "I1": "0.3089430894308943",
                  "I2": "0.13008130081300814",
                  "_deepnote_index_column": 8
                },
                {
                  "D2": "0.2702702702702703",
                  "D1": "0.25675675675675674",
                  "I1": "0.24324324324324326",
                  "I2": "0.22972972972972974",
                  "_deepnote_index_column": 9
                }
              ]
            },
            "text/plain": "          D2        D1        I1        I2\n0    0.19685  0.362205  0.299213  0.141732\n1   0.254545  0.290909  0.345455  0.109091\n2   0.222222  0.281481  0.274074  0.222222\n3   0.235294  0.264706  0.220588  0.279412\n4   0.102941  0.323529  0.426471  0.147059\n..       ...       ...       ...       ...\n59  0.126761  0.323944  0.338028  0.211268\n60  0.147059  0.352941  0.338235  0.161765\n61  0.222222  0.388889  0.240741  0.148148\n62  0.104478   0.38806  0.402985  0.104478\n63  0.093023  0.395349  0.325581  0.186047\n\n[64 rows x 4 columns]",
            "text/html": "<div>\n<style scoped>\n    .dataframe tbody tr th:only-of-type {\n        vertical-align: middle;\n    }\n\n    .dataframe tbody tr th {\n        vertical-align: top;\n    }\n\n    .dataframe thead th {\n        text-align: right;\n    }\n</style>\n<table border=\"1\" class=\"dataframe\">\n  <thead>\n    <tr style=\"text-align: right;\">\n      <th></th>\n      <th>D2</th>\n      <th>D1</th>\n      <th>I1</th>\n      <th>I2</th>\n    </tr>\n  </thead>\n  <tbody>\n    <tr>\n      <th>0</th>\n      <td>0.19685</td>\n      <td>0.362205</td>\n      <td>0.299213</td>\n      <td>0.141732</td>\n    </tr>\n    <tr>\n      <th>1</th>\n      <td>0.254545</td>\n      <td>0.290909</td>\n      <td>0.345455</td>\n      <td>0.109091</td>\n    </tr>\n    <tr>\n      <th>2</th>\n      <td>0.222222</td>\n      <td>0.281481</td>\n      <td>0.274074</td>\n      <td>0.222222</td>\n    </tr>\n    <tr>\n      <th>3</th>\n      <td>0.235294</td>\n      <td>0.264706</td>\n      <td>0.220588</td>\n      <td>0.279412</td>\n    </tr>\n    <tr>\n      <th>4</th>\n      <td>0.102941</td>\n      <td>0.323529</td>\n      <td>0.426471</td>\n      <td>0.147059</td>\n    </tr>\n    <tr>\n      <th>...</th>\n      <td>...</td>\n      <td>...</td>\n      <td>...</td>\n      <td>...</td>\n    </tr>\n    <tr>\n      <th>59</th>\n      <td>0.126761</td>\n      <td>0.323944</td>\n      <td>0.338028</td>\n      <td>0.211268</td>\n    </tr>\n    <tr>\n      <th>60</th>\n      <td>0.147059</td>\n      <td>0.352941</td>\n      <td>0.338235</td>\n      <td>0.161765</td>\n    </tr>\n    <tr>\n      <th>61</th>\n      <td>0.222222</td>\n      <td>0.388889</td>\n      <td>0.240741</td>\n      <td>0.148148</td>\n    </tr>\n    <tr>\n      <th>62</th>\n      <td>0.104478</td>\n      <td>0.38806</td>\n      <td>0.402985</td>\n      <td>0.104478</td>\n    </tr>\n    <tr>\n      <th>63</th>\n      <td>0.093023</td>\n      <td>0.395349</td>\n      <td>0.325581</td>\n      <td>0.186047</td>\n    </tr>\n  </tbody>\n</table>\n<p>64 rows × 4 columns</p>\n</div>"
          },
          "metadata": {}
        }
      ],
      "execution_count": 51,
      "metadata": {
        "source_hash": "f89b1175",
        "execution_start": 1724126024082,
        "execution_millis": 411,
        "deepnote_to_be_reexecuted": false,
        "deepnote_app_block_visible": true,
        "cell_id": "262e0b2f7686487784967b509f916519",
        "deepnote_cell_type": "code"
      }
    },
    {
      "cell_type": "code",
      "source": [
        "chi_2 = (((prob_obs - prob_esp) ** 2 / prob_esp).sum(axis=1) * freq_obs[\"Total\"]).sum()\n",
        "deg_free = (prob_esp.shape[1]-1)*(prob_esp.shape[0]-1)\n",
        "print(chi_2)\n",
        "print(deg_free)"
      ],
      "outputs": [
        {
          "output_type": "stream",
          "name": "stdout",
          "text": "171.37687765234762\n189\n"
        }
      ],
      "execution_count": 52,
      "metadata": {
        "source_hash": "28319ec0",
        "execution_start": 1724126024107,
        "execution_millis": 387,
        "deepnote_to_be_reexecuted": false,
        "deepnote_app_block_visible": true,
        "cell_id": "b818df68b36d42e493b2e2ecbdb3678e",
        "deepnote_cell_type": "code"
      }
    },
    {
      "cell_type": "code",
      "source": [
        "alpha = 0.05\n",
        "chi2_inv = stats.chi2.ppf(1-alpha, deg_free)\n",
        "print(chi2_inv)\n",
        "if chi_2 < chi2_inv:\n",
        "    Markov = \"No se rechaza Ho\"\n",
        "else:\n",
        "    Markov = \"Se rechaza Ho\"\n",
        "print(Markov)"
      ],
      "outputs": [
        {
          "output_type": "stream",
          "name": "stdout",
          "text": "222.07564642657545\nNo se rechaza Ho\n"
        }
      ],
      "execution_count": 53,
      "metadata": {
        "source_hash": "b92aab1b",
        "execution_start": 1724126024112,
        "execution_millis": 382,
        "deepnote_to_be_reexecuted": false,
        "deepnote_app_block_visible": true,
        "cell_id": "63e74f20b8f545fc88715bd651d5b111",
        "deepnote_cell_type": "code"
      }
    },
    {
      "cell_type": "code",
      "source": [
        "tran = pd.DataFrame(columns= [\"Estados\"])\n",
        "\n",
        "c = 0\n",
        "for i in range(len(t)):\n",
        "    for j in range(len(t)):\n",
        "        tran.loc[c, \"Estados\"] = t[i]+t[j]\n",
        "        tran.insert(c+1,t[i]+t[j], None)\n",
        "        c += 1\n",
        "\n",
        "\n",
        "print(tran)\n",
        "\n"
      ],
      "outputs": [
        {
          "output_type": "stream",
          "name": "stdout",
          "text": "   Estados  I1I1  I1I2  I1D1  I1D2  I2I1  I2I2  I2D1  I2D2  D1I1  D1I2  D1D1  \\\n0     I1I1  None  None  None  None  None  None  None  None  None  None  None   \n1     I1I2   NaN  None  None  None  None  None  None  None  None  None  None   \n2     I1D1   NaN   NaN  None  None  None  None  None  None  None  None  None   \n3     I1D2   NaN   NaN   NaN  None  None  None  None  None  None  None  None   \n4     I2I1   NaN   NaN   NaN   NaN  None  None  None  None  None  None  None   \n5     I2I2   NaN   NaN   NaN   NaN   NaN  None  None  None  None  None  None   \n6     I2D1   NaN   NaN   NaN   NaN   NaN   NaN  None  None  None  None  None   \n7     I2D2   NaN   NaN   NaN   NaN   NaN   NaN   NaN  None  None  None  None   \n8     D1I1   NaN   NaN   NaN   NaN   NaN   NaN   NaN   NaN  None  None  None   \n9     D1I2   NaN   NaN   NaN   NaN   NaN   NaN   NaN   NaN   NaN  None  None   \n10    D1D1   NaN   NaN   NaN   NaN   NaN   NaN   NaN   NaN   NaN   NaN  None   \n11    D1D2   NaN   NaN   NaN   NaN   NaN   NaN   NaN   NaN   NaN   NaN   NaN   \n12    D2I1   NaN   NaN   NaN   NaN   NaN   NaN   NaN   NaN   NaN   NaN   NaN   \n13    D2I2   NaN   NaN   NaN   NaN   NaN   NaN   NaN   NaN   NaN   NaN   NaN   \n14    D2D1   NaN   NaN   NaN   NaN   NaN   NaN   NaN   NaN   NaN   NaN   NaN   \n15    D2D2   NaN   NaN   NaN   NaN   NaN   NaN   NaN   NaN   NaN   NaN   NaN   \n\n    D1D2  D2I1  D2I2  D2D1  D2D2  \n0   None  None  None  None  None  \n1   None  None  None  None  None  \n2   None  None  None  None  None  \n3   None  None  None  None  None  \n4   None  None  None  None  None  \n5   None  None  None  None  None  \n6   None  None  None  None  None  \n7   None  None  None  None  None  \n8   None  None  None  None  None  \n9   None  None  None  None  None  \n10  None  None  None  None  None  \n11  None  None  None  None  None  \n12   NaN  None  None  None  None  \n13   NaN   NaN  None  None  None  \n14   NaN   NaN   NaN  None  None  \n15   NaN   NaN   NaN   NaN  None  \n"
        }
      ],
      "execution_count": 54,
      "metadata": {
        "source_hash": "fb225152",
        "execution_start": 1724126024157,
        "execution_millis": 338,
        "deepnote_to_be_reexecuted": false,
        "deepnote_app_block_visible": true,
        "cell_id": "a8980ce3d2764cce948d32f8446d85a9",
        "deepnote_cell_type": "code"
      }
    },
    {
      "cell_type": "code",
      "source": [
        "### Bloque de codigo elaborado con ayuda de Copilot \n",
        "es = tran[\"Estados\"].unique().tolist()\n",
        "for i, row in tran.iterrows():\n",
        "    counts = [0] * 16\n",
        "\n",
        "    for j, row2 in Data.iterrows():\n",
        "        if row2['x_t'] is not None and row2[\"x_t+1\"] is not None:\n",
        "            if row['Estados'] == row2['x_t'] + row2[\"x_t+1\"]:\n",
        "                for k in range(16):\n",
        "                    if row2['x_t+1'] is not None and row2[\"x_t+2\"] is not None:\n",
        "                        if row2['x_t+1'] + row2[\"x_t+2\"] == es[k]:\n",
        "                            counts[k] += 1\n",
        "    for k in range(16):\n",
        "        tran.at[i, es[k]] = counts[k]\n",
        "\n",
        "\n",
        "tran[\"Total\"] = tran[es].sum(axis= 1)\n",
        "tran\n"
      ],
      "outputs": [
        {
          "output_type": "execute_result",
          "execution_count": 55,
          "data": {
            "application/vnd.deepnote.dataframe.v3+json": {
              "column_count": 18,
              "row_count": 16,
              "columns": [
                {
                  "name": "Estados",
                  "dtype": "object",
                  "stats": {
                    "unique_count": 16,
                    "nan_count": 0,
                    "categories": [
                      {
                        "name": "I1I1",
                        "count": 1
                      },
                      {
                        "name": "I1I2",
                        "count": 1
                      },
                      {
                        "name": "14 others",
                        "count": 14
                      }
                    ]
                  }
                },
                {
                  "name": "I1I1",
                  "dtype": "object",
                  "stats": {
                    "unique_count": 4,
                    "nan_count": 0,
                    "categories": [
                      {
                        "name": "0",
                        "count": 12
                      },
                      {
                        "name": "38",
                        "count": 2
                      },
                      {
                        "name": "2 others",
                        "count": 2
                      }
                    ]
                  }
                },
                {
                  "name": "I1I2",
                  "dtype": "object",
                  "stats": {
                    "unique_count": 5,
                    "nan_count": 0,
                    "categories": [
                      {
                        "name": "0",
                        "count": 12
                      },
                      {
                        "name": "18",
                        "count": 1
                      },
                      {
                        "name": "3 others",
                        "count": 3
                      }
                    ]
                  }
                },
                {
                  "name": "I1D1",
                  "dtype": "object",
                  "stats": {
                    "unique_count": 5,
                    "nan_count": 0,
                    "categories": [
                      {
                        "name": "0",
                        "count": 12
                      },
                      {
                        "name": "46",
                        "count": 1
                      },
                      {
                        "name": "3 others",
                        "count": 3
                      }
                    ]
                  }
                },
                {
                  "name": "I1D2",
                  "dtype": "object",
                  "stats": {
                    "unique_count": 5,
                    "nan_count": 0,
                    "categories": [
                      {
                        "name": "0",
                        "count": 12
                      },
                      {
                        "name": "25",
                        "count": 1
                      },
                      {
                        "name": "3 others",
                        "count": 3
                      }
                    ]
                  }
                },
                {
                  "name": "I2I1",
                  "dtype": "object",
                  "stats": {
                    "unique_count": 5,
                    "nan_count": 0,
                    "categories": [
                      {
                        "name": "0",
                        "count": 12
                      },
                      {
                        "name": "20",
                        "count": 1
                      },
                      {
                        "name": "3 others",
                        "count": 3
                      }
                    ]
                  }
                },
                {
                  "name": "I2I2",
                  "dtype": "object",
                  "stats": {
                    "unique_count": 5,
                    "nan_count": 0,
                    "categories": [
                      {
                        "name": "0",
                        "count": 12
                      },
                      {
                        "name": "6",
                        "count": 1
                      },
                      {
                        "name": "3 others",
                        "count": 3
                      }
                    ]
                  }
                },
                {
                  "name": "I2D1",
                  "dtype": "object",
                  "stats": {
                    "unique_count": 5,
                    "nan_count": 0,
                    "categories": [
                      {
                        "name": "0",
                        "count": 12
                      },
                      {
                        "name": "16",
                        "count": 1
                      },
                      {
                        "name": "3 others",
                        "count": 3
                      }
                    ]
                  }
                },
                {
                  "name": "I2D2",
                  "dtype": "object",
                  "stats": {
                    "unique_count": 5,
                    "nan_count": 0,
                    "categories": [
                      {
                        "name": "0",
                        "count": 12
                      },
                      {
                        "name": "14",
                        "count": 1
                      },
                      {
                        "name": "3 others",
                        "count": 3
                      }
                    ]
                  }
                },
                {
                  "name": "D1I1",
                  "dtype": "object",
                  "stats": {
                    "unique_count": 5,
                    "nan_count": 0,
                    "categories": [
                      {
                        "name": "0",
                        "count": 12
                      },
                      {
                        "name": "37",
                        "count": 1
                      },
                      {
                        "name": "3 others",
                        "count": 3
                      }
                    ]
                  }
                },
                {
                  "name": "D1I2",
                  "dtype": "object",
                  "stats": {
                    "unique_count": 5,
                    "nan_count": 0,
                    "categories": [
                      {
                        "name": "0",
                        "count": 12
                      },
                      {
                        "name": "30",
                        "count": 1
                      },
                      {
                        "name": "3 others",
                        "count": 3
                      }
                    ]
                  }
                },
                {
                  "name": "D1D1",
                  "dtype": "object",
                  "stats": {
                    "unique_count": 5,
                    "nan_count": 0,
                    "categories": [
                      {
                        "name": "0",
                        "count": 12
                      },
                      {
                        "name": "38",
                        "count": 1
                      },
                      {
                        "name": "3 others",
                        "count": 3
                      }
                    ]
                  }
                },
                {
                  "name": "D1D2",
                  "dtype": "object",
                  "stats": {
                    "unique_count": 5,
                    "nan_count": 0,
                    "categories": [
                      {
                        "name": "0",
                        "count": 12
                      },
                      {
                        "name": "30",
                        "count": 1
                      },
                      {
                        "name": "3 others",
                        "count": 3
                      }
                    ]
                  }
                },
                {
                  "name": "D2I1",
                  "dtype": "object",
                  "stats": {
                    "unique_count": 4,
                    "nan_count": 0,
                    "categories": [
                      {
                        "name": "0",
                        "count": 12
                      },
                      {
                        "name": "15",
                        "count": 2
                      },
                      {
                        "name": "2 others",
                        "count": 2
                      }
                    ]
                  }
                },
                {
                  "name": "D2I2",
                  "dtype": "object",
                  "stats": {
                    "unique_count": 5,
                    "nan_count": 0,
                    "categories": [
                      {
                        "name": "0",
                        "count": 12
                      },
                      {
                        "name": "19",
                        "count": 1
                      },
                      {
                        "name": "3 others",
                        "count": 3
                      }
                    ]
                  }
                },
                {
                  "name": "D2D1",
                  "dtype": "object",
                  "stats": {
                    "unique_count": 5,
                    "nan_count": 0,
                    "categories": [
                      {
                        "name": "0",
                        "count": 12
                      },
                      {
                        "name": "18",
                        "count": 1
                      },
                      {
                        "name": "3 others",
                        "count": 3
                      }
                    ]
                  }
                },
                {
                  "name": "D2D2",
                  "dtype": "object",
                  "stats": {
                    "unique_count": 5,
                    "nan_count": 0,
                    "categories": [
                      {
                        "name": "0",
                        "count": 12
                      },
                      {
                        "name": "16",
                        "count": 1
                      },
                      {
                        "name": "3 others",
                        "count": 3
                      }
                    ]
                  }
                },
                {
                  "name": "Total",
                  "dtype": "object",
                  "stats": {
                    "unique_count": 14,
                    "nan_count": 0,
                    "categories": [
                      {
                        "name": "68",
                        "count": 3
                      },
                      {
                        "name": "127",
                        "count": 1
                      },
                      {
                        "name": "12 others",
                        "count": 12
                      }
                    ]
                  }
                },
                {
                  "name": "_deepnote_index_column",
                  "dtype": "int64"
                }
              ],
              "rows": [
                {
                  "Estados": "I1I1",
                  "I1I1": "38",
                  "I1I2": "18",
                  "I1D1": "46",
                  "I1D2": "25",
                  "I2I1": "0",
                  "I2I2": "0",
                  "I2D1": "0",
                  "I2D2": "0",
                  "D1I1": "0",
                  "D1I2": "0",
                  "D1D1": "0",
                  "D1D2": "0",
                  "D2I1": "0",
                  "D2I2": "0",
                  "D2D1": "0",
                  "D2D2": "0",
                  "Total": "127",
                  "_deepnote_index_column": 0
                },
                {
                  "Estados": "I1I2",
                  "I1I1": "0",
                  "I1I2": "0",
                  "I1D1": "0",
                  "I1D2": "0",
                  "I2I1": "20",
                  "I2I2": "6",
                  "I2D1": "16",
                  "I2D2": "14",
                  "D1I1": "0",
                  "D1I2": "0",
                  "D1D1": "0",
                  "D1D2": "0",
                  "D2I1": "0",
                  "D2I2": "0",
                  "D2D1": "0",
                  "D2D2": "0",
                  "Total": "56",
                  "_deepnote_index_column": 1
                },
                {
                  "Estados": "I1D1",
                  "I1I1": "0",
                  "I1I2": "0",
                  "I1D1": "0",
                  "I1D2": "0",
                  "I2I1": "0",
                  "I2I2": "0",
                  "I2D1": "0",
                  "I2D2": "0",
                  "D1I1": "37",
                  "D1I2": "30",
                  "D1D1": "38",
                  "D1D2": "30",
                  "D2I1": "0",
                  "D2I2": "0",
                  "D2D1": "0",
                  "D2D2": "0",
                  "Total": "135",
                  "_deepnote_index_column": 2
                },
                {
                  "Estados": "I1D2",
                  "I1I1": "0",
                  "I1I2": "0",
                  "I1D1": "0",
                  "I1D2": "0",
                  "I2I1": "0",
                  "I2I2": "0",
                  "I2D1": "0",
                  "I2D2": "0",
                  "D1I1": "0",
                  "D1I2": "0",
                  "D1D1": "0",
                  "D1D2": "0",
                  "D2I1": "15",
                  "D2I2": "19",
                  "D2D1": "18",
                  "D2D2": "16",
                  "Total": "68",
                  "_deepnote_index_column": 3
                },
                {
                  "Estados": "I2I1",
                  "I1I1": "29",
                  "I1I2": "10",
                  "I1D1": "22",
                  "I1D2": "7",
                  "I2I1": "0",
                  "I2I2": "0",
                  "I2D1": "0",
                  "I2D2": "0",
                  "D1I1": "0",
                  "D1I2": "0",
                  "D1D1": "0",
                  "D1D2": "0",
                  "D2I1": "0",
                  "D2I2": "0",
                  "D2D1": "0",
                  "D2D2": "0",
                  "Total": "68",
                  "_deepnote_index_column": 4
                },
                {
                  "Estados": "I2I2",
                  "I1I1": "0",
                  "I1I2": "0",
                  "I1D1": "0",
                  "I1D2": "0",
                  "I2I1": "17",
                  "I2I2": "2",
                  "I2D1": "10",
                  "I2D2": "4",
                  "D1I1": "0",
                  "D1I2": "0",
                  "D1D1": "0",
                  "D1D2": "0",
                  "D2I1": "0",
                  "D2I2": "0",
                  "D2D1": "0",
                  "D2D2": "0",
                  "Total": "33",
                  "_deepnote_index_column": 5
                },
                {
                  "Estados": "I2D1",
                  "I1I1": "0",
                  "I1I2": "0",
                  "I1D1": "0",
                  "I1D2": "0",
                  "I2I1": "0",
                  "I2I2": "0",
                  "I2D1": "0",
                  "I2D2": "0",
                  "D1I1": "25",
                  "D1I2": "8",
                  "D1D1": "19",
                  "D1D2": "14",
                  "D2I1": "0",
                  "D2I2": "0",
                  "D2D1": "0",
                  "D2D2": "0",
                  "Total": "66",
                  "_deepnote_index_column": 6
                },
                {
                  "Estados": "I2D2",
                  "I1I1": "0",
                  "I1I2": "0",
                  "I1D1": "0",
                  "I1D2": "0",
                  "I2I1": "0",
                  "I2I2": "0",
                  "I2D1": "0",
                  "I2D2": "0",
                  "D1I1": "0",
                  "D1I2": "0",
                  "D1D1": "0",
                  "D1D2": "0",
                  "D2I1": "15",
                  "D2I2": "12",
                  "D2D1": "9",
                  "D2D2": "14",
                  "Total": "50",
                  "_deepnote_index_column": 7
                },
                {
                  "Estados": "D1I1",
                  "I1I1": "38",
                  "I1I2": "16",
                  "I1D1": "43",
                  "I1D2": "26",
                  "I2I1": "0",
                  "I2I2": "0",
                  "I2D1": "0",
                  "I2D2": "0",
                  "D1I1": "0",
                  "D1I2": "0",
                  "D1D1": "0",
                  "D1D2": "0",
                  "D2I1": "0",
                  "D2I2": "0",
                  "D2D1": "0",
                  "D2D2": "0",
                  "Total": "123",
                  "_deepnote_index_column": 8
                },
                {
                  "Estados": "D1I2",
                  "I1I1": "0",
                  "I1I2": "0",
                  "I1D1": "0",
                  "I1D2": "0",
                  "I2I1": "18",
                  "I2I2": "17",
                  "I2D1": "19",
                  "I2D2": "20",
                  "D1I1": "0",
                  "D1I2": "0",
                  "D1D1": "0",
                  "D1D2": "0",
                  "D2I1": "0",
                  "D2I2": "0",
                  "D2D1": "0",
                  "D2D2": "0",
                  "Total": "74",
                  "_deepnote_index_column": 9
                }
              ]
            },
            "text/plain": "   Estados I1I1 I1I2 I1D1 I1D2 I2I1 I2I2 I2D1 I2D2 D1I1 D1I2 D1D1 D1D2 D2I1  \\\n0     I1I1   38   18   46   25    0    0    0    0    0    0    0    0    0   \n1     I1I2    0    0    0    0   20    6   16   14    0    0    0    0    0   \n2     I1D1    0    0    0    0    0    0    0    0   37   30   38   30    0   \n3     I1D2    0    0    0    0    0    0    0    0    0    0    0    0   15   \n4     I2I1   29   10   22    7    0    0    0    0    0    0    0    0    0   \n5     I2I2    0    0    0    0   17    2   10    4    0    0    0    0    0   \n6     I2D1    0    0    0    0    0    0    0    0   25    8   19   14    0   \n7     I2D2    0    0    0    0    0    0    0    0    0    0    0    0   15   \n8     D1I1   38   16   43   26    0    0    0    0    0    0    0    0    0   \n9     D1I2    0    0    0    0   18   17   19   20    0    0    0    0    0   \n10    D1D1    0    0    0    0    0    0    0    0   34   29   59   20    0   \n11    D1D2    0    0    0    0    0    0    0    0    0    0    0    0   24   \n12    D2I1   23   11   24   10    0    0    0    0    0    0    0    0    0   \n13    D2I2    0    0    0    0   13    8   21   12    0    0    0    0    0   \n14    D2D1    0    0    0    0    0    0    0    0   27    7   26    7    0   \n15    D2D2    0    0    0    0    0    0    0    0    0    0    0    0   14   \n\n   D2I2 D2D1 D2D2 Total  \n0     0    0    0   127  \n1     0    0    0    56  \n2     0    0    0   135  \n3    19   18   16    68  \n4     0    0    0    68  \n5     0    0    0    33  \n6     0    0    0    66  \n7    12    9   14    50  \n8     0    0    0   123  \n9     0    0    0    74  \n10    0    0    0   142  \n11   15   23    9    71  \n12    0    0    0    68  \n13    0    0    0    54  \n14    0    0    0    67  \n15    8   17    4    43  ",
            "text/html": "<div>\n<style scoped>\n    .dataframe tbody tr th:only-of-type {\n        vertical-align: middle;\n    }\n\n    .dataframe tbody tr th {\n        vertical-align: top;\n    }\n\n    .dataframe thead th {\n        text-align: right;\n    }\n</style>\n<table border=\"1\" class=\"dataframe\">\n  <thead>\n    <tr style=\"text-align: right;\">\n      <th></th>\n      <th>Estados</th>\n      <th>I1I1</th>\n      <th>I1I2</th>\n      <th>I1D1</th>\n      <th>I1D2</th>\n      <th>I2I1</th>\n      <th>I2I2</th>\n      <th>I2D1</th>\n      <th>I2D2</th>\n      <th>D1I1</th>\n      <th>D1I2</th>\n      <th>D1D1</th>\n      <th>D1D2</th>\n      <th>D2I1</th>\n      <th>D2I2</th>\n      <th>D2D1</th>\n      <th>D2D2</th>\n      <th>Total</th>\n    </tr>\n  </thead>\n  <tbody>\n    <tr>\n      <th>0</th>\n      <td>I1I1</td>\n      <td>38</td>\n      <td>18</td>\n      <td>46</td>\n      <td>25</td>\n      <td>0</td>\n      <td>0</td>\n      <td>0</td>\n      <td>0</td>\n      <td>0</td>\n      <td>0</td>\n      <td>0</td>\n      <td>0</td>\n      <td>0</td>\n      <td>0</td>\n      <td>0</td>\n      <td>0</td>\n      <td>127</td>\n    </tr>\n    <tr>\n      <th>1</th>\n      <td>I1I2</td>\n      <td>0</td>\n      <td>0</td>\n      <td>0</td>\n      <td>0</td>\n      <td>20</td>\n      <td>6</td>\n      <td>16</td>\n      <td>14</td>\n      <td>0</td>\n      <td>0</td>\n      <td>0</td>\n      <td>0</td>\n      <td>0</td>\n      <td>0</td>\n      <td>0</td>\n      <td>0</td>\n      <td>56</td>\n    </tr>\n    <tr>\n      <th>2</th>\n      <td>I1D1</td>\n      <td>0</td>\n      <td>0</td>\n      <td>0</td>\n      <td>0</td>\n      <td>0</td>\n      <td>0</td>\n      <td>0</td>\n      <td>0</td>\n      <td>37</td>\n      <td>30</td>\n      <td>38</td>\n      <td>30</td>\n      <td>0</td>\n      <td>0</td>\n      <td>0</td>\n      <td>0</td>\n      <td>135</td>\n    </tr>\n    <tr>\n      <th>3</th>\n      <td>I1D2</td>\n      <td>0</td>\n      <td>0</td>\n      <td>0</td>\n      <td>0</td>\n      <td>0</td>\n      <td>0</td>\n      <td>0</td>\n      <td>0</td>\n      <td>0</td>\n      <td>0</td>\n      <td>0</td>\n      <td>0</td>\n      <td>15</td>\n      <td>19</td>\n      <td>18</td>\n      <td>16</td>\n      <td>68</td>\n    </tr>\n    <tr>\n      <th>4</th>\n      <td>I2I1</td>\n      <td>29</td>\n      <td>10</td>\n      <td>22</td>\n      <td>7</td>\n      <td>0</td>\n      <td>0</td>\n      <td>0</td>\n      <td>0</td>\n      <td>0</td>\n      <td>0</td>\n      <td>0</td>\n      <td>0</td>\n      <td>0</td>\n      <td>0</td>\n      <td>0</td>\n      <td>0</td>\n      <td>68</td>\n    </tr>\n    <tr>\n      <th>5</th>\n      <td>I2I2</td>\n      <td>0</td>\n      <td>0</td>\n      <td>0</td>\n      <td>0</td>\n      <td>17</td>\n      <td>2</td>\n      <td>10</td>\n      <td>4</td>\n      <td>0</td>\n      <td>0</td>\n      <td>0</td>\n      <td>0</td>\n      <td>0</td>\n      <td>0</td>\n      <td>0</td>\n      <td>0</td>\n      <td>33</td>\n    </tr>\n    <tr>\n      <th>6</th>\n      <td>I2D1</td>\n      <td>0</td>\n      <td>0</td>\n      <td>0</td>\n      <td>0</td>\n      <td>0</td>\n      <td>0</td>\n      <td>0</td>\n      <td>0</td>\n      <td>25</td>\n      <td>8</td>\n      <td>19</td>\n      <td>14</td>\n      <td>0</td>\n      <td>0</td>\n      <td>0</td>\n      <td>0</td>\n      <td>66</td>\n    </tr>\n    <tr>\n      <th>7</th>\n      <td>I2D2</td>\n      <td>0</td>\n      <td>0</td>\n      <td>0</td>\n      <td>0</td>\n      <td>0</td>\n      <td>0</td>\n      <td>0</td>\n      <td>0</td>\n      <td>0</td>\n      <td>0</td>\n      <td>0</td>\n      <td>0</td>\n      <td>15</td>\n      <td>12</td>\n      <td>9</td>\n      <td>14</td>\n      <td>50</td>\n    </tr>\n    <tr>\n      <th>8</th>\n      <td>D1I1</td>\n      <td>38</td>\n      <td>16</td>\n      <td>43</td>\n      <td>26</td>\n      <td>0</td>\n      <td>0</td>\n      <td>0</td>\n      <td>0</td>\n      <td>0</td>\n      <td>0</td>\n      <td>0</td>\n      <td>0</td>\n      <td>0</td>\n      <td>0</td>\n      <td>0</td>\n      <td>0</td>\n      <td>123</td>\n    </tr>\n    <tr>\n      <th>9</th>\n      <td>D1I2</td>\n      <td>0</td>\n      <td>0</td>\n      <td>0</td>\n      <td>0</td>\n      <td>18</td>\n      <td>17</td>\n      <td>19</td>\n      <td>20</td>\n      <td>0</td>\n      <td>0</td>\n      <td>0</td>\n      <td>0</td>\n      <td>0</td>\n      <td>0</td>\n      <td>0</td>\n      <td>0</td>\n      <td>74</td>\n    </tr>\n    <tr>\n      <th>10</th>\n      <td>D1D1</td>\n      <td>0</td>\n      <td>0</td>\n      <td>0</td>\n      <td>0</td>\n      <td>0</td>\n      <td>0</td>\n      <td>0</td>\n      <td>0</td>\n      <td>34</td>\n      <td>29</td>\n      <td>59</td>\n      <td>20</td>\n      <td>0</td>\n      <td>0</td>\n      <td>0</td>\n      <td>0</td>\n      <td>142</td>\n    </tr>\n    <tr>\n      <th>11</th>\n      <td>D1D2</td>\n      <td>0</td>\n      <td>0</td>\n      <td>0</td>\n      <td>0</td>\n      <td>0</td>\n      <td>0</td>\n      <td>0</td>\n      <td>0</td>\n      <td>0</td>\n      <td>0</td>\n      <td>0</td>\n      <td>0</td>\n      <td>24</td>\n      <td>15</td>\n      <td>23</td>\n      <td>9</td>\n      <td>71</td>\n    </tr>\n    <tr>\n      <th>12</th>\n      <td>D2I1</td>\n      <td>23</td>\n      <td>11</td>\n      <td>24</td>\n      <td>10</td>\n      <td>0</td>\n      <td>0</td>\n      <td>0</td>\n      <td>0</td>\n      <td>0</td>\n      <td>0</td>\n      <td>0</td>\n      <td>0</td>\n      <td>0</td>\n      <td>0</td>\n      <td>0</td>\n      <td>0</td>\n      <td>68</td>\n    </tr>\n    <tr>\n      <th>13</th>\n      <td>D2I2</td>\n      <td>0</td>\n      <td>0</td>\n      <td>0</td>\n      <td>0</td>\n      <td>13</td>\n      <td>8</td>\n      <td>21</td>\n      <td>12</td>\n      <td>0</td>\n      <td>0</td>\n      <td>0</td>\n      <td>0</td>\n      <td>0</td>\n      <td>0</td>\n      <td>0</td>\n      <td>0</td>\n      <td>54</td>\n    </tr>\n    <tr>\n      <th>14</th>\n      <td>D2D1</td>\n      <td>0</td>\n      <td>0</td>\n      <td>0</td>\n      <td>0</td>\n      <td>0</td>\n      <td>0</td>\n      <td>0</td>\n      <td>0</td>\n      <td>27</td>\n      <td>7</td>\n      <td>26</td>\n      <td>7</td>\n      <td>0</td>\n      <td>0</td>\n      <td>0</td>\n      <td>0</td>\n      <td>67</td>\n    </tr>\n    <tr>\n      <th>15</th>\n      <td>D2D2</td>\n      <td>0</td>\n      <td>0</td>\n      <td>0</td>\n      <td>0</td>\n      <td>0</td>\n      <td>0</td>\n      <td>0</td>\n      <td>0</td>\n      <td>0</td>\n      <td>0</td>\n      <td>0</td>\n      <td>0</td>\n      <td>14</td>\n      <td>8</td>\n      <td>17</td>\n      <td>4</td>\n      <td>43</td>\n    </tr>\n  </tbody>\n</table>\n</div>"
          },
          "metadata": {}
        }
      ],
      "execution_count": 55,
      "metadata": {
        "source_hash": "1d3a207",
        "execution_start": 1724126024239,
        "execution_millis": 1499,
        "deepnote_to_be_reexecuted": false,
        "deepnote_app_block_visible": true,
        "cell_id": "db8225120d9849999d7d3f38a1329bd0",
        "deepnote_cell_type": "code"
      }
    },
    {
      "cell_type": "code",
      "source": [
        "orden2 = tran[es].div(tran[\"Total\"], axis=0)\n",
        "orden2.insert(0,\"Estados\", es)\n",
        "orden2[\"Total\"] = orden2[es].sum(axis =1)\n",
        "orden2"
      ],
      "outputs": [
        {
          "output_type": "execute_result",
          "execution_count": 56,
          "data": {
            "application/vnd.deepnote.dataframe.v3+json": {
              "column_count": 18,
              "row_count": 16,
              "columns": [
                {
                  "name": "Estados",
                  "dtype": "object",
                  "stats": {
                    "unique_count": 16,
                    "nan_count": 0,
                    "categories": [
                      {
                        "name": "I1I1",
                        "count": 1
                      },
                      {
                        "name": "I1I2",
                        "count": 1
                      },
                      {
                        "name": "14 others",
                        "count": 14
                      }
                    ]
                  }
                },
                {
                  "name": "I1I1",
                  "dtype": "object",
                  "stats": {
                    "unique_count": 5,
                    "nan_count": 0,
                    "categories": [
                      {
                        "name": "0.0",
                        "count": 12
                      },
                      {
                        "name": "0.2992125984251969",
                        "count": 1
                      },
                      {
                        "name": "3 others",
                        "count": 3
                      }
                    ]
                  }
                },
                {
                  "name": "I1I2",
                  "dtype": "object",
                  "stats": {
                    "unique_count": 5,
                    "nan_count": 0,
                    "categories": [
                      {
                        "name": "0.0",
                        "count": 12
                      },
                      {
                        "name": "0.14173228346456693",
                        "count": 1
                      },
                      {
                        "name": "3 others",
                        "count": 3
                      }
                    ]
                  }
                },
                {
                  "name": "I1D1",
                  "dtype": "object",
                  "stats": {
                    "unique_count": 5,
                    "nan_count": 0,
                    "categories": [
                      {
                        "name": "0.0",
                        "count": 12
                      },
                      {
                        "name": "0.36220472440944884",
                        "count": 1
                      },
                      {
                        "name": "3 others",
                        "count": 3
                      }
                    ]
                  }
                },
                {
                  "name": "I1D2",
                  "dtype": "object",
                  "stats": {
                    "unique_count": 5,
                    "nan_count": 0,
                    "categories": [
                      {
                        "name": "0.0",
                        "count": 12
                      },
                      {
                        "name": "0.1968503937007874",
                        "count": 1
                      },
                      {
                        "name": "3 others",
                        "count": 3
                      }
                    ]
                  }
                },
                {
                  "name": "I2I1",
                  "dtype": "object",
                  "stats": {
                    "unique_count": 5,
                    "nan_count": 0,
                    "categories": [
                      {
                        "name": "0.0",
                        "count": 12
                      },
                      {
                        "name": "0.35714285714285715",
                        "count": 1
                      },
                      {
                        "name": "3 others",
                        "count": 3
                      }
                    ]
                  }
                },
                {
                  "name": "I2I2",
                  "dtype": "object",
                  "stats": {
                    "unique_count": 5,
                    "nan_count": 0,
                    "categories": [
                      {
                        "name": "0.0",
                        "count": 12
                      },
                      {
                        "name": "0.10714285714285714",
                        "count": 1
                      },
                      {
                        "name": "3 others",
                        "count": 3
                      }
                    ]
                  }
                },
                {
                  "name": "I2D1",
                  "dtype": "object",
                  "stats": {
                    "unique_count": 5,
                    "nan_count": 0,
                    "categories": [
                      {
                        "name": "0.0",
                        "count": 12
                      },
                      {
                        "name": "0.2857142857142857",
                        "count": 1
                      },
                      {
                        "name": "3 others",
                        "count": 3
                      }
                    ]
                  }
                },
                {
                  "name": "I2D2",
                  "dtype": "object",
                  "stats": {
                    "unique_count": 5,
                    "nan_count": 0,
                    "categories": [
                      {
                        "name": "0.0",
                        "count": 12
                      },
                      {
                        "name": "0.25",
                        "count": 1
                      },
                      {
                        "name": "3 others",
                        "count": 3
                      }
                    ]
                  }
                },
                {
                  "name": "D1I1",
                  "dtype": "object",
                  "stats": {
                    "unique_count": 5,
                    "nan_count": 0,
                    "categories": [
                      {
                        "name": "0.0",
                        "count": 12
                      },
                      {
                        "name": "0.2740740740740741",
                        "count": 1
                      },
                      {
                        "name": "3 others",
                        "count": 3
                      }
                    ]
                  }
                },
                {
                  "name": "D1I2",
                  "dtype": "object",
                  "stats": {
                    "unique_count": 5,
                    "nan_count": 0,
                    "categories": [
                      {
                        "name": "0.0",
                        "count": 12
                      },
                      {
                        "name": "0.2222222222222222",
                        "count": 1
                      },
                      {
                        "name": "3 others",
                        "count": 3
                      }
                    ]
                  }
                },
                {
                  "name": "D1D1",
                  "dtype": "object",
                  "stats": {
                    "unique_count": 5,
                    "nan_count": 0,
                    "categories": [
                      {
                        "name": "0.0",
                        "count": 12
                      },
                      {
                        "name": "0.2814814814814815",
                        "count": 1
                      },
                      {
                        "name": "3 others",
                        "count": 3
                      }
                    ]
                  }
                },
                {
                  "name": "D1D2",
                  "dtype": "object",
                  "stats": {
                    "unique_count": 5,
                    "nan_count": 0,
                    "categories": [
                      {
                        "name": "0.0",
                        "count": 12
                      },
                      {
                        "name": "0.2222222222222222",
                        "count": 1
                      },
                      {
                        "name": "3 others",
                        "count": 3
                      }
                    ]
                  }
                },
                {
                  "name": "D2I1",
                  "dtype": "object",
                  "stats": {
                    "unique_count": 5,
                    "nan_count": 0,
                    "categories": [
                      {
                        "name": "0.0",
                        "count": 12
                      },
                      {
                        "name": "0.22058823529411764",
                        "count": 1
                      },
                      {
                        "name": "3 others",
                        "count": 3
                      }
                    ]
                  }
                },
                {
                  "name": "D2I2",
                  "dtype": "object",
                  "stats": {
                    "unique_count": 5,
                    "nan_count": 0,
                    "categories": [
                      {
                        "name": "0.0",
                        "count": 12
                      },
                      {
                        "name": "0.27941176470588236",
                        "count": 1
                      },
                      {
                        "name": "3 others",
                        "count": 3
                      }
                    ]
                  }
                },
                {
                  "name": "D2D1",
                  "dtype": "object",
                  "stats": {
                    "unique_count": 5,
                    "nan_count": 0,
                    "categories": [
                      {
                        "name": "0.0",
                        "count": 12
                      },
                      {
                        "name": "0.2647058823529412",
                        "count": 1
                      },
                      {
                        "name": "3 others",
                        "count": 3
                      }
                    ]
                  }
                },
                {
                  "name": "D2D2",
                  "dtype": "object",
                  "stats": {
                    "unique_count": 5,
                    "nan_count": 0,
                    "categories": [
                      {
                        "name": "0.0",
                        "count": 12
                      },
                      {
                        "name": "0.23529411764705882",
                        "count": 1
                      },
                      {
                        "name": "3 others",
                        "count": 3
                      }
                    ]
                  }
                },
                {
                  "name": "Total",
                  "dtype": "object",
                  "stats": {
                    "unique_count": 2,
                    "nan_count": 0,
                    "categories": [
                      {
                        "name": "1.0",
                        "count": 13
                      },
                      {
                        "name": "0.9999999999999999",
                        "count": 3
                      }
                    ]
                  }
                },
                {
                  "name": "_deepnote_index_column",
                  "dtype": "int64"
                }
              ],
              "rows": [
                {
                  "Estados": "I1I1",
                  "I1I1": "0.2992125984251969",
                  "I1I2": "0.14173228346456693",
                  "I1D1": "0.36220472440944884",
                  "I1D2": "0.1968503937007874",
                  "I2I1": "0.0",
                  "I2I2": "0.0",
                  "I2D1": "0.0",
                  "I2D2": "0.0",
                  "D1I1": "0.0",
                  "D1I2": "0.0",
                  "D1D1": "0.0",
                  "D1D2": "0.0",
                  "D2I1": "0.0",
                  "D2I2": "0.0",
                  "D2D1": "0.0",
                  "D2D2": "0.0",
                  "Total": "1.0",
                  "_deepnote_index_column": 0
                },
                {
                  "Estados": "I1I2",
                  "I1I1": "0.0",
                  "I1I2": "0.0",
                  "I1D1": "0.0",
                  "I1D2": "0.0",
                  "I2I1": "0.35714285714285715",
                  "I2I2": "0.10714285714285714",
                  "I2D1": "0.2857142857142857",
                  "I2D2": "0.25",
                  "D1I1": "0.0",
                  "D1I2": "0.0",
                  "D1D1": "0.0",
                  "D1D2": "0.0",
                  "D2I1": "0.0",
                  "D2I2": "0.0",
                  "D2D1": "0.0",
                  "D2D2": "0.0",
                  "Total": "1.0",
                  "_deepnote_index_column": 1
                },
                {
                  "Estados": "I1D1",
                  "I1I1": "0.0",
                  "I1I2": "0.0",
                  "I1D1": "0.0",
                  "I1D2": "0.0",
                  "I2I1": "0.0",
                  "I2I2": "0.0",
                  "I2D1": "0.0",
                  "I2D2": "0.0",
                  "D1I1": "0.2740740740740741",
                  "D1I2": "0.2222222222222222",
                  "D1D1": "0.2814814814814815",
                  "D1D2": "0.2222222222222222",
                  "D2I1": "0.0",
                  "D2I2": "0.0",
                  "D2D1": "0.0",
                  "D2D2": "0.0",
                  "Total": "1.0",
                  "_deepnote_index_column": 2
                },
                {
                  "Estados": "I1D2",
                  "I1I1": "0.0",
                  "I1I2": "0.0",
                  "I1D1": "0.0",
                  "I1D2": "0.0",
                  "I2I1": "0.0",
                  "I2I2": "0.0",
                  "I2D1": "0.0",
                  "I2D2": "0.0",
                  "D1I1": "0.0",
                  "D1I2": "0.0",
                  "D1D1": "0.0",
                  "D1D2": "0.0",
                  "D2I1": "0.22058823529411764",
                  "D2I2": "0.27941176470588236",
                  "D2D1": "0.2647058823529412",
                  "D2D2": "0.23529411764705882",
                  "Total": "1.0",
                  "_deepnote_index_column": 3
                },
                {
                  "Estados": "I2I1",
                  "I1I1": "0.4264705882352941",
                  "I1I2": "0.14705882352941177",
                  "I1D1": "0.3235294117647059",
                  "I1D2": "0.10294117647058823",
                  "I2I1": "0.0",
                  "I2I2": "0.0",
                  "I2D1": "0.0",
                  "I2D2": "0.0",
                  "D1I1": "0.0",
                  "D1I2": "0.0",
                  "D1D1": "0.0",
                  "D1D2": "0.0",
                  "D2I1": "0.0",
                  "D2I2": "0.0",
                  "D2D1": "0.0",
                  "D2D2": "0.0",
                  "Total": "0.9999999999999999",
                  "_deepnote_index_column": 4
                },
                {
                  "Estados": "I2I2",
                  "I1I1": "0.0",
                  "I1I2": "0.0",
                  "I1D1": "0.0",
                  "I1D2": "0.0",
                  "I2I1": "0.5151515151515151",
                  "I2I2": "0.06060606060606061",
                  "I2D1": "0.30303030303030304",
                  "I2D2": "0.12121212121212122",
                  "D1I1": "0.0",
                  "D1I2": "0.0",
                  "D1D1": "0.0",
                  "D1D2": "0.0",
                  "D2I1": "0.0",
                  "D2I2": "0.0",
                  "D2D1": "0.0",
                  "D2D2": "0.0",
                  "Total": "0.9999999999999999",
                  "_deepnote_index_column": 5
                },
                {
                  "Estados": "I2D1",
                  "I1I1": "0.0",
                  "I1I2": "0.0",
                  "I1D1": "0.0",
                  "I1D2": "0.0",
                  "I2I1": "0.0",
                  "I2I2": "0.0",
                  "I2D1": "0.0",
                  "I2D2": "0.0",
                  "D1I1": "0.3787878787878788",
                  "D1I2": "0.12121212121212122",
                  "D1D1": "0.2878787878787879",
                  "D1D2": "0.21212121212121213",
                  "D2I1": "0.0",
                  "D2I2": "0.0",
                  "D2D1": "0.0",
                  "D2D2": "0.0",
                  "Total": "1.0",
                  "_deepnote_index_column": 6
                },
                {
                  "Estados": "I2D2",
                  "I1I1": "0.0",
                  "I1I2": "0.0",
                  "I1D1": "0.0",
                  "I1D2": "0.0",
                  "I2I1": "0.0",
                  "I2I2": "0.0",
                  "I2D1": "0.0",
                  "I2D2": "0.0",
                  "D1I1": "0.0",
                  "D1I2": "0.0",
                  "D1D1": "0.0",
                  "D1D2": "0.0",
                  "D2I1": "0.3",
                  "D2I2": "0.24",
                  "D2D1": "0.18",
                  "D2D2": "0.28",
                  "Total": "1.0",
                  "_deepnote_index_column": 7
                },
                {
                  "Estados": "D1I1",
                  "I1I1": "0.3089430894308943",
                  "I1I2": "0.13008130081300814",
                  "I1D1": "0.34959349593495936",
                  "I1D2": "0.21138211382113822",
                  "I2I1": "0.0",
                  "I2I2": "0.0",
                  "I2D1": "0.0",
                  "I2D2": "0.0",
                  "D1I1": "0.0",
                  "D1I2": "0.0",
                  "D1D1": "0.0",
                  "D1D2": "0.0",
                  "D2I1": "0.0",
                  "D2I2": "0.0",
                  "D2D1": "0.0",
                  "D2D2": "0.0",
                  "Total": "1.0",
                  "_deepnote_index_column": 8
                },
                {
                  "Estados": "D1I2",
                  "I1I1": "0.0",
                  "I1I2": "0.0",
                  "I1D1": "0.0",
                  "I1D2": "0.0",
                  "I2I1": "0.24324324324324326",
                  "I2I2": "0.22972972972972974",
                  "I2D1": "0.25675675675675674",
                  "I2D2": "0.2702702702702703",
                  "D1I1": "0.0",
                  "D1I2": "0.0",
                  "D1D1": "0.0",
                  "D1D2": "0.0",
                  "D2I1": "0.0",
                  "D2I2": "0.0",
                  "D2D1": "0.0",
                  "D2D2": "0.0",
                  "Total": "1.0",
                  "_deepnote_index_column": 9
                },
                {
                  "Estados": "D1D1",
                  "I1I1": "0.0",
                  "I1I2": "0.0",
                  "I1D1": "0.0",
                  "I1D2": "0.0",
                  "I2I1": "0.0",
                  "I2I2": "0.0",
                  "I2D1": "0.0",
                  "I2D2": "0.0",
                  "D1I1": "0.23943661971830985",
                  "D1I2": "0.20422535211267606",
                  "D1D1": "0.4154929577464789",
                  "D1D2": "0.14084507042253522",
                  "D2I1": "0.0",
                  "D2I2": "0.0",
                  "D2D1": "0.0",
                  "D2D2": "0.0",
                  "Total": "1.0",
                  "_deepnote_index_column": 10
                },
                {
                  "Estados": "D1D2",
                  "I1I1": "0.0",
                  "I1I2": "0.0",
                  "I1D1": "0.0",
                  "I1D2": "0.0",
                  "I2I1": "0.0",
                  "I2I2": "0.0",
                  "I2D1": "0.0",
                  "I2D2": "0.0",
                  "D1I1": "0.0",
                  "D1I2": "0.0",
                  "D1D1": "0.0",
                  "D1D2": "0.0",
                  "D2I1": "0.3380281690140845",
                  "D2I2": "0.2112676056338028",
                  "D2D1": "0.323943661971831",
                  "D2D2": "0.1267605633802817",
                  "Total": "1.0",
                  "_deepnote_index_column": 11
                },
                {
                  "Estados": "D2I1",
                  "I1I1": "0.3382352941176471",
                  "I1I2": "0.16176470588235295",
                  "I1D1": "0.35294117647058826",
                  "I1D2": "0.14705882352941177",
                  "I2I1": "0.0",
                  "I2I2": "0.0",
                  "I2D1": "0.0",
                  "I2D2": "0.0",
                  "D1I1": "0.0",
                  "D1I2": "0.0",
                  "D1D1": "0.0",
                  "D1D2": "0.0",
                  "D2I1": "0.0",
                  "D2I2": "0.0",
                  "D2D1": "0.0",
                  "D2D2": "0.0",
                  "Total": "1.0",
                  "_deepnote_index_column": 12
                },
                {
                  "Estados": "D2I2",
                  "I1I1": "0.0",
                  "I1I2": "0.0",
                  "I1D1": "0.0",
                  "I1D2": "0.0",
                  "I2I1": "0.24074074074074073",
                  "I2I2": "0.14814814814814814",
                  "I2D1": "0.3888888888888889",
                  "I2D2": "0.2222222222222222",
                  "D1I1": "0.0",
                  "D1I2": "0.0",
                  "D1D1": "0.0",
                  "D1D2": "0.0",
                  "D2I1": "0.0",
                  "D2I2": "0.0",
                  "D2D1": "0.0",
                  "D2D2": "0.0",
                  "Total": "0.9999999999999999",
                  "_deepnote_index_column": 13
                },
                {
                  "Estados": "D2D1",
                  "I1I1": "0.0",
                  "I1I2": "0.0",
                  "I1D1": "0.0",
                  "I1D2": "0.0",
                  "I2I1": "0.0",
                  "I2I2": "0.0",
                  "I2D1": "0.0",
                  "I2D2": "0.0",
                  "D1I1": "0.40298507462686567",
                  "D1I2": "0.1044776119402985",
                  "D1D1": "0.3880597014925373",
                  "D1D2": "0.1044776119402985",
                  "D2I1": "0.0",
                  "D2I2": "0.0",
                  "D2D1": "0.0",
                  "D2D2": "0.0",
                  "Total": "1.0",
                  "_deepnote_index_column": 14
                },
                {
                  "Estados": "D2D2",
                  "I1I1": "0.0",
                  "I1I2": "0.0",
                  "I1D1": "0.0",
                  "I1D2": "0.0",
                  "I2I1": "0.0",
                  "I2I2": "0.0",
                  "I2D1": "0.0",
                  "I2D2": "0.0",
                  "D1I1": "0.0",
                  "D1I2": "0.0",
                  "D1D1": "0.0",
                  "D1D2": "0.0",
                  "D2I1": "0.32558139534883723",
                  "D2I2": "0.18604651162790697",
                  "D2D1": "0.3953488372093023",
                  "D2D2": "0.09302325581395349",
                  "Total": "1.0",
                  "_deepnote_index_column": 15
                }
              ]
            },
            "text/plain": "   Estados      I1I1      I1I2      I1D1      I1D2      I2I1      I2I2  \\\n0     I1I1  0.299213  0.141732  0.362205   0.19685       0.0       0.0   \n1     I1I2       0.0       0.0       0.0       0.0  0.357143  0.107143   \n2     I1D1       0.0       0.0       0.0       0.0       0.0       0.0   \n3     I1D2       0.0       0.0       0.0       0.0       0.0       0.0   \n4     I2I1  0.426471  0.147059  0.323529  0.102941       0.0       0.0   \n5     I2I2       0.0       0.0       0.0       0.0  0.515152  0.060606   \n6     I2D1       0.0       0.0       0.0       0.0       0.0       0.0   \n7     I2D2       0.0       0.0       0.0       0.0       0.0       0.0   \n8     D1I1  0.308943  0.130081  0.349593  0.211382       0.0       0.0   \n9     D1I2       0.0       0.0       0.0       0.0  0.243243   0.22973   \n10    D1D1       0.0       0.0       0.0       0.0       0.0       0.0   \n11    D1D2       0.0       0.0       0.0       0.0       0.0       0.0   \n12    D2I1  0.338235  0.161765  0.352941  0.147059       0.0       0.0   \n13    D2I2       0.0       0.0       0.0       0.0  0.240741  0.148148   \n14    D2D1       0.0       0.0       0.0       0.0       0.0       0.0   \n15    D2D2       0.0       0.0       0.0       0.0       0.0       0.0   \n\n        I2D1      I2D2      D1I1      D1I2      D1D1      D1D2      D2I1  \\\n0        0.0       0.0       0.0       0.0       0.0       0.0       0.0   \n1   0.285714      0.25       0.0       0.0       0.0       0.0       0.0   \n2        0.0       0.0  0.274074  0.222222  0.281481  0.222222       0.0   \n3        0.0       0.0       0.0       0.0       0.0       0.0  0.220588   \n4        0.0       0.0       0.0       0.0       0.0       0.0       0.0   \n5    0.30303  0.121212       0.0       0.0       0.0       0.0       0.0   \n6        0.0       0.0  0.378788  0.121212  0.287879  0.212121       0.0   \n7        0.0       0.0       0.0       0.0       0.0       0.0       0.3   \n8        0.0       0.0       0.0       0.0       0.0       0.0       0.0   \n9   0.256757   0.27027       0.0       0.0       0.0       0.0       0.0   \n10       0.0       0.0  0.239437  0.204225  0.415493  0.140845       0.0   \n11       0.0       0.0       0.0       0.0       0.0       0.0  0.338028   \n12       0.0       0.0       0.0       0.0       0.0       0.0       0.0   \n13  0.388889  0.222222       0.0       0.0       0.0       0.0       0.0   \n14       0.0       0.0  0.402985  0.104478   0.38806  0.104478       0.0   \n15       0.0       0.0       0.0       0.0       0.0       0.0  0.325581   \n\n        D2I2      D2D1      D2D2 Total  \n0        0.0       0.0       0.0   1.0  \n1        0.0       0.0       0.0   1.0  \n2        0.0       0.0       0.0   1.0  \n3   0.279412  0.264706  0.235294   1.0  \n4        0.0       0.0       0.0   1.0  \n5        0.0       0.0       0.0   1.0  \n6        0.0       0.0       0.0   1.0  \n7       0.24      0.18      0.28   1.0  \n8        0.0       0.0       0.0   1.0  \n9        0.0       0.0       0.0   1.0  \n10       0.0       0.0       0.0   1.0  \n11  0.211268  0.323944  0.126761   1.0  \n12       0.0       0.0       0.0   1.0  \n13       0.0       0.0       0.0   1.0  \n14       0.0       0.0       0.0   1.0  \n15  0.186047  0.395349  0.093023   1.0  ",
            "text/html": "<div>\n<style scoped>\n    .dataframe tbody tr th:only-of-type {\n        vertical-align: middle;\n    }\n\n    .dataframe tbody tr th {\n        vertical-align: top;\n    }\n\n    .dataframe thead th {\n        text-align: right;\n    }\n</style>\n<table border=\"1\" class=\"dataframe\">\n  <thead>\n    <tr style=\"text-align: right;\">\n      <th></th>\n      <th>Estados</th>\n      <th>I1I1</th>\n      <th>I1I2</th>\n      <th>I1D1</th>\n      <th>I1D2</th>\n      <th>I2I1</th>\n      <th>I2I2</th>\n      <th>I2D1</th>\n      <th>I2D2</th>\n      <th>D1I1</th>\n      <th>D1I2</th>\n      <th>D1D1</th>\n      <th>D1D2</th>\n      <th>D2I1</th>\n      <th>D2I2</th>\n      <th>D2D1</th>\n      <th>D2D2</th>\n      <th>Total</th>\n    </tr>\n  </thead>\n  <tbody>\n    <tr>\n      <th>0</th>\n      <td>I1I1</td>\n      <td>0.299213</td>\n      <td>0.141732</td>\n      <td>0.362205</td>\n      <td>0.19685</td>\n      <td>0.0</td>\n      <td>0.0</td>\n      <td>0.0</td>\n      <td>0.0</td>\n      <td>0.0</td>\n      <td>0.0</td>\n      <td>0.0</td>\n      <td>0.0</td>\n      <td>0.0</td>\n      <td>0.0</td>\n      <td>0.0</td>\n      <td>0.0</td>\n      <td>1.0</td>\n    </tr>\n    <tr>\n      <th>1</th>\n      <td>I1I2</td>\n      <td>0.0</td>\n      <td>0.0</td>\n      <td>0.0</td>\n      <td>0.0</td>\n      <td>0.357143</td>\n      <td>0.107143</td>\n      <td>0.285714</td>\n      <td>0.25</td>\n      <td>0.0</td>\n      <td>0.0</td>\n      <td>0.0</td>\n      <td>0.0</td>\n      <td>0.0</td>\n      <td>0.0</td>\n      <td>0.0</td>\n      <td>0.0</td>\n      <td>1.0</td>\n    </tr>\n    <tr>\n      <th>2</th>\n      <td>I1D1</td>\n      <td>0.0</td>\n      <td>0.0</td>\n      <td>0.0</td>\n      <td>0.0</td>\n      <td>0.0</td>\n      <td>0.0</td>\n      <td>0.0</td>\n      <td>0.0</td>\n      <td>0.274074</td>\n      <td>0.222222</td>\n      <td>0.281481</td>\n      <td>0.222222</td>\n      <td>0.0</td>\n      <td>0.0</td>\n      <td>0.0</td>\n      <td>0.0</td>\n      <td>1.0</td>\n    </tr>\n    <tr>\n      <th>3</th>\n      <td>I1D2</td>\n      <td>0.0</td>\n      <td>0.0</td>\n      <td>0.0</td>\n      <td>0.0</td>\n      <td>0.0</td>\n      <td>0.0</td>\n      <td>0.0</td>\n      <td>0.0</td>\n      <td>0.0</td>\n      <td>0.0</td>\n      <td>0.0</td>\n      <td>0.0</td>\n      <td>0.220588</td>\n      <td>0.279412</td>\n      <td>0.264706</td>\n      <td>0.235294</td>\n      <td>1.0</td>\n    </tr>\n    <tr>\n      <th>4</th>\n      <td>I2I1</td>\n      <td>0.426471</td>\n      <td>0.147059</td>\n      <td>0.323529</td>\n      <td>0.102941</td>\n      <td>0.0</td>\n      <td>0.0</td>\n      <td>0.0</td>\n      <td>0.0</td>\n      <td>0.0</td>\n      <td>0.0</td>\n      <td>0.0</td>\n      <td>0.0</td>\n      <td>0.0</td>\n      <td>0.0</td>\n      <td>0.0</td>\n      <td>0.0</td>\n      <td>1.0</td>\n    </tr>\n    <tr>\n      <th>5</th>\n      <td>I2I2</td>\n      <td>0.0</td>\n      <td>0.0</td>\n      <td>0.0</td>\n      <td>0.0</td>\n      <td>0.515152</td>\n      <td>0.060606</td>\n      <td>0.30303</td>\n      <td>0.121212</td>\n      <td>0.0</td>\n      <td>0.0</td>\n      <td>0.0</td>\n      <td>0.0</td>\n      <td>0.0</td>\n      <td>0.0</td>\n      <td>0.0</td>\n      <td>0.0</td>\n      <td>1.0</td>\n    </tr>\n    <tr>\n      <th>6</th>\n      <td>I2D1</td>\n      <td>0.0</td>\n      <td>0.0</td>\n      <td>0.0</td>\n      <td>0.0</td>\n      <td>0.0</td>\n      <td>0.0</td>\n      <td>0.0</td>\n      <td>0.0</td>\n      <td>0.378788</td>\n      <td>0.121212</td>\n      <td>0.287879</td>\n      <td>0.212121</td>\n      <td>0.0</td>\n      <td>0.0</td>\n      <td>0.0</td>\n      <td>0.0</td>\n      <td>1.0</td>\n    </tr>\n    <tr>\n      <th>7</th>\n      <td>I2D2</td>\n      <td>0.0</td>\n      <td>0.0</td>\n      <td>0.0</td>\n      <td>0.0</td>\n      <td>0.0</td>\n      <td>0.0</td>\n      <td>0.0</td>\n      <td>0.0</td>\n      <td>0.0</td>\n      <td>0.0</td>\n      <td>0.0</td>\n      <td>0.0</td>\n      <td>0.3</td>\n      <td>0.24</td>\n      <td>0.18</td>\n      <td>0.28</td>\n      <td>1.0</td>\n    </tr>\n    <tr>\n      <th>8</th>\n      <td>D1I1</td>\n      <td>0.308943</td>\n      <td>0.130081</td>\n      <td>0.349593</td>\n      <td>0.211382</td>\n      <td>0.0</td>\n      <td>0.0</td>\n      <td>0.0</td>\n      <td>0.0</td>\n      <td>0.0</td>\n      <td>0.0</td>\n      <td>0.0</td>\n      <td>0.0</td>\n      <td>0.0</td>\n      <td>0.0</td>\n      <td>0.0</td>\n      <td>0.0</td>\n      <td>1.0</td>\n    </tr>\n    <tr>\n      <th>9</th>\n      <td>D1I2</td>\n      <td>0.0</td>\n      <td>0.0</td>\n      <td>0.0</td>\n      <td>0.0</td>\n      <td>0.243243</td>\n      <td>0.22973</td>\n      <td>0.256757</td>\n      <td>0.27027</td>\n      <td>0.0</td>\n      <td>0.0</td>\n      <td>0.0</td>\n      <td>0.0</td>\n      <td>0.0</td>\n      <td>0.0</td>\n      <td>0.0</td>\n      <td>0.0</td>\n      <td>1.0</td>\n    </tr>\n    <tr>\n      <th>10</th>\n      <td>D1D1</td>\n      <td>0.0</td>\n      <td>0.0</td>\n      <td>0.0</td>\n      <td>0.0</td>\n      <td>0.0</td>\n      <td>0.0</td>\n      <td>0.0</td>\n      <td>0.0</td>\n      <td>0.239437</td>\n      <td>0.204225</td>\n      <td>0.415493</td>\n      <td>0.140845</td>\n      <td>0.0</td>\n      <td>0.0</td>\n      <td>0.0</td>\n      <td>0.0</td>\n      <td>1.0</td>\n    </tr>\n    <tr>\n      <th>11</th>\n      <td>D1D2</td>\n      <td>0.0</td>\n      <td>0.0</td>\n      <td>0.0</td>\n      <td>0.0</td>\n      <td>0.0</td>\n      <td>0.0</td>\n      <td>0.0</td>\n      <td>0.0</td>\n      <td>0.0</td>\n      <td>0.0</td>\n      <td>0.0</td>\n      <td>0.0</td>\n      <td>0.338028</td>\n      <td>0.211268</td>\n      <td>0.323944</td>\n      <td>0.126761</td>\n      <td>1.0</td>\n    </tr>\n    <tr>\n      <th>12</th>\n      <td>D2I1</td>\n      <td>0.338235</td>\n      <td>0.161765</td>\n      <td>0.352941</td>\n      <td>0.147059</td>\n      <td>0.0</td>\n      <td>0.0</td>\n      <td>0.0</td>\n      <td>0.0</td>\n      <td>0.0</td>\n      <td>0.0</td>\n      <td>0.0</td>\n      <td>0.0</td>\n      <td>0.0</td>\n      <td>0.0</td>\n      <td>0.0</td>\n      <td>0.0</td>\n      <td>1.0</td>\n    </tr>\n    <tr>\n      <th>13</th>\n      <td>D2I2</td>\n      <td>0.0</td>\n      <td>0.0</td>\n      <td>0.0</td>\n      <td>0.0</td>\n      <td>0.240741</td>\n      <td>0.148148</td>\n      <td>0.388889</td>\n      <td>0.222222</td>\n      <td>0.0</td>\n      <td>0.0</td>\n      <td>0.0</td>\n      <td>0.0</td>\n      <td>0.0</td>\n      <td>0.0</td>\n      <td>0.0</td>\n      <td>0.0</td>\n      <td>1.0</td>\n    </tr>\n    <tr>\n      <th>14</th>\n      <td>D2D1</td>\n      <td>0.0</td>\n      <td>0.0</td>\n      <td>0.0</td>\n      <td>0.0</td>\n      <td>0.0</td>\n      <td>0.0</td>\n      <td>0.0</td>\n      <td>0.0</td>\n      <td>0.402985</td>\n      <td>0.104478</td>\n      <td>0.38806</td>\n      <td>0.104478</td>\n      <td>0.0</td>\n      <td>0.0</td>\n      <td>0.0</td>\n      <td>0.0</td>\n      <td>1.0</td>\n    </tr>\n    <tr>\n      <th>15</th>\n      <td>D2D2</td>\n      <td>0.0</td>\n      <td>0.0</td>\n      <td>0.0</td>\n      <td>0.0</td>\n      <td>0.0</td>\n      <td>0.0</td>\n      <td>0.0</td>\n      <td>0.0</td>\n      <td>0.0</td>\n      <td>0.0</td>\n      <td>0.0</td>\n      <td>0.0</td>\n      <td>0.325581</td>\n      <td>0.186047</td>\n      <td>0.395349</td>\n      <td>0.093023</td>\n      <td>1.0</td>\n    </tr>\n  </tbody>\n</table>\n</div>"
          },
          "metadata": {}
        }
      ],
      "execution_count": 56,
      "metadata": {
        "deepnote_app_block_visible": true,
        "deepnote_table_loading": false,
        "execution_millis": 300,
        "source_hash": "e6eedc4f",
        "deepnote_cell_type": "code",
        "cell_id": "5dc34763bd244e0a8f8e589ecfdbfd6b",
        "execution_start": 1724126025753,
        "deepnote_to_be_reexecuted": false,
        "deepnote_table_state": {
          "sortBy": [],
          "filters": [],
          "pageSize": 25,
          "pageIndex": 0,
          "conditionalFilters": []
        }
      }
    },
    {
      "cell_type": "code",
      "source": [
        "def Markov2(currency):\n",
        "    D = final_states(currency= currency)\n",
        "    D.columns = [\"x_t\"]\n",
        "    D[\"x_t+1\"] = D[\"x_t\"].shift(-1)\n",
        "    D[\"x_t+2\"] = D[\"x_t+1\"].shift(-1)\n",
        "    D[\"x_t+3\"] = D[\"x_t+2\"].shift(-1)\n",
        "\n",
        "    t = D[\"x_t\"].unique().tolist()\n",
        "    c = 0\n",
        "\n",
        "    freq_obs = pd.DataFrame(columns=(\"Anterior\", \"Actual\", \"Siguiente\", \"D2\", \"D1\", \"I1\", \"I2\"))\n",
        "    for i in range(4):\n",
        "        for j in range(4):\n",
        "            for h in range(4):\n",
        "                freq_obs.loc[c, \"Anterior\"] =  t[i]\n",
        "                freq_obs.loc[c, \"Actual\"] = t[j]\n",
        "                freq_obs.loc[c, \"Siguiente\"] = t[h]\n",
        "                c += 1\n",
        "    \n",
        "    for i, row in freq_obs.iterrows():\n",
        "        count1 = 0\n",
        "        count2 = 0\n",
        "        count3 = 0\n",
        "        count4 = 0\n",
        "        for j , row2 in D.iterrows():\n",
        "            if row[\"Anterior\"] == row2[\"x_t\"]:\n",
        "                if row[\"Actual\"] == row2[\"x_t+1\"]:\n",
        "                    if row[\"Siguiente\"] == row2[\"x_t+2\"]:\n",
        "                        if row2[\"x_t+3\"] == \"D2\":\n",
        "                            count1 +=1\n",
        "                        elif row2[\"x_t+3\"] == \"D1\":\n",
        "                            count2 += 1\n",
        "                        elif row2[\"x_t+3\"] == \"I1\":\n",
        "                            count3 +=1\n",
        "                        elif row2[\"x_t+3\"] == \"I2\":\n",
        "                            count4 += 1\n",
        "        freq_obs.at[i , \"D2\"] = count1\n",
        "        freq_obs.at[i, \"D1\"] = count2\n",
        "        freq_obs.at[i, \"I1\"] = count3\n",
        "        freq_obs.at[i, \"I2\"] = count4\n",
        "        freq_obs.at[i, \"Total\"] = count1+ count2+count3+count4\n",
        "    \n",
        "    freq_esp = freq_obs[[\"Actual\", \"Siguiente\", \"D2\", \"D1\", \"I1\", \"I2\"]]\n",
        "\n",
        "    for i, row in freq_esp.iterrows():\n",
        "        count1 = 0\n",
        "        count2 = 0\n",
        "        count3 = 0\n",
        "        count4 = 0\n",
        "        for j , row2 in D.iterrows():\n",
        "            if row[\"Actual\"] == row2[\"x_t+1\"]:\n",
        "                if row[\"Siguiente\"] == row2[\"x_t+2\"]:\n",
        "                    if row2[\"x_t+3\"] == \"D2\":\n",
        "                        count1 +=1\n",
        "                    elif row2[\"x_t+3\"] == \"D1\":\n",
        "                        count2 += 1\n",
        "                    elif row2[\"x_t+3\"] == \"I1\":\n",
        "                        count3 +=1\n",
        "                    elif row2[\"x_t+3\"] == \"I2\":\n",
        "                        count4 += 1\n",
        "        freq_esp.at[i , \"D2\"] = count1\n",
        "        freq_esp.at[i, \"D1\"] = count2\n",
        "        freq_esp.at[i, \"I1\"] = count3\n",
        "        freq_esp.at[i, \"I2\"] = count4\n",
        "        freq_esp.at[i, \"Total\"] = count1+ count2+count3+count4\n",
        "\n",
        "    columnas_interes = freq_esp.drop(columns=['Total', \"Actual\", \"Siguiente\"])\n",
        "\n",
        "\n",
        "    porcentaje_mayores_5 = (columnas_interes > 5).values.mean() * 100\n",
        "\n",
        "    if porcentaje_mayores_5 > 25:\n",
        "        print(\"Más del 25% de los datos son mayores a 5\")\n",
        "    else:\n",
        "        print(\"Menos del 25% de los datos son mayores a 5\")\n",
        "\n",
        "    prob_obs = freq_obs[Estados].div(freq_obs[\"Total\"], axis=0)\n",
        "    prob_esp = freq_esp[Estados].div(freq_esp[\"Total\"], axis=0)\n",
        "    chi_2 = (((prob_obs - prob_esp) ** 2 / prob_esp).sum(axis=1) * freq_obs[\"Total\"]).sum()\n",
        "    deg_free = (prob_esp.shape[1]-1)*(prob_esp.shape[0]-1)\n",
        "    alpha = 0.05\n",
        "    chi2_inv = stats.chi2.ppf(1-alpha, deg_free)\n",
        "    if chi_2 < chi2_inv:\n",
        "        Markov = \"No se rechaza Ho\"\n",
        "    else:\n",
        "        Markov = \"Se rechaza Ho\"\n",
        "\n",
        "    tran = pd.DataFrame(columns= [\"Estados\"])\n",
        "\n",
        "    c = 0\n",
        "    for i in range(len(t)):\n",
        "        for j in range(len(t)):\n",
        "            tran.loc[c, \"Estados\"] = t[i]+t[j]\n",
        "            tran.insert(c+1,t[i]+t[j], None)\n",
        "            c += 1\n",
        "\n",
        "    es = tran[\"Estados\"].unique().tolist()\n",
        "    for i, row in tran.iterrows():\n",
        "        counts = [0] * 16\n",
        "\n",
        "        for j, row2 in D.iterrows():\n",
        "            if row2['x_t'] is not None and row2[\"x_t+1\"] is not None:\n",
        "                if row['Estados'] == row2['x_t'] + row2[\"x_t+1\"]:\n",
        "                    for k in range(16):\n",
        "                        if row2['x_t+1'] is not None and row2[\"x_t+2\"] is not None:\n",
        "                            if row2['x_t+1'] + row2[\"x_t+2\"] == es[k]:\n",
        "                                counts[k] += 1\n",
        "        for k in range(16):\n",
        "            tran.at[i, es[k]] = counts[k]\n",
        "    tran[\"Total\"] = tran[es].sum(axis= 1)\n",
        "    orden2 = tran[es].div(tran[\"Total\"], axis=0)\n",
        "    orden2.insert(0,\"Estados\", es)\n",
        "    orden2[\"Total\"] = orden2[es].sum(axis =1)\n",
        "    \n",
        "    print(\"----\"*100)\n",
        "    print(\"Prueba de hipótesis\")\n",
        "    print(Markov)\n",
        "    print(\"---\"*100)\n",
        "    print(\"Matriz de transición\")\n",
        "    print(orden2)\n",
        "    \n",
        "\n",
        "    "
      ],
      "outputs": [],
      "execution_count": 57,
      "metadata": {
        "source_hash": "eea7ad79",
        "execution_start": 1724126025813,
        "execution_millis": 240,
        "deepnote_to_be_reexecuted": false,
        "deepnote_app_block_visible": true,
        "cell_id": "323fd657c82641c4ada54b2d5d207be2",
        "deepnote_cell_type": "code"
      }
    },
    {
      "cell_type": "code",
      "source": [
        "Markov2(\"JPY\")"
      ],
      "outputs": [
        {
          "output_type": "stream",
          "name": "stdout",
          "text": "Más del 25% de los datos son mayores a 5\n----------------------------------------------------------------------------------------------------------------------------------------------------------------------------------------------------------------------------------------------------------------------------------------------------------------------------------------------------------------------------------------------------------------\nPrueba de hipótesis\nNo se rechaza Ho\n------------------------------------------------------------------------------------------------------------------------------------------------------------------------------------------------------------------------------------------------------------------------------------------------------------\nMatriz de transición\n   Estados      I1I1      I1I2      I1D1      I1D2      I2I1      I2I2  \\\n0     I1I1  0.299213  0.141732  0.362205   0.19685       0.0       0.0   \n1     I1I2       0.0       0.0       0.0       0.0  0.357143  0.107143   \n2     I1D1       0.0       0.0       0.0       0.0       0.0       0.0   \n3     I1D2       0.0       0.0       0.0       0.0       0.0       0.0   \n4     I2I1  0.426471  0.147059  0.323529  0.102941       0.0       0.0   \n5     I2I2       0.0       0.0       0.0       0.0  0.515152  0.060606   \n6     I2D1       0.0       0.0       0.0       0.0       0.0       0.0   \n7     I2D2       0.0       0.0       0.0       0.0       0.0       0.0   \n8     D1I1  0.308943  0.130081  0.349593  0.211382       0.0       0.0   \n9     D1I2       0.0       0.0       0.0       0.0  0.243243   0.22973   \n10    D1D1       0.0       0.0       0.0       0.0       0.0       0.0   \n11    D1D2       0.0       0.0       0.0       0.0       0.0       0.0   \n12    D2I1  0.338235  0.161765  0.352941  0.147059       0.0       0.0   \n13    D2I2       0.0       0.0       0.0       0.0  0.240741  0.148148   \n14    D2D1       0.0       0.0       0.0       0.0       0.0       0.0   \n15    D2D2       0.0       0.0       0.0       0.0       0.0       0.0   \n\n        I2D1      I2D2      D1I1      D1I2      D1D1      D1D2      D2I1  \\\n0        0.0       0.0       0.0       0.0       0.0       0.0       0.0   \n1   0.285714      0.25       0.0       0.0       0.0       0.0       0.0   \n2        0.0       0.0  0.274074  0.222222  0.281481  0.222222       0.0   \n3        0.0       0.0       0.0       0.0       0.0       0.0  0.220588   \n4        0.0       0.0       0.0       0.0       0.0       0.0       0.0   \n5    0.30303  0.121212       0.0       0.0       0.0       0.0       0.0   \n6        0.0       0.0  0.378788  0.121212  0.287879  0.212121       0.0   \n7        0.0       0.0       0.0       0.0       0.0       0.0       0.3   \n8        0.0       0.0       0.0       0.0       0.0       0.0       0.0   \n9   0.256757   0.27027       0.0       0.0       0.0       0.0       0.0   \n10       0.0       0.0  0.239437  0.204225  0.415493  0.140845       0.0   \n11       0.0       0.0       0.0       0.0       0.0       0.0  0.338028   \n12       0.0       0.0       0.0       0.0       0.0       0.0       0.0   \n13  0.388889  0.222222       0.0       0.0       0.0       0.0       0.0   \n14       0.0       0.0  0.402985  0.104478   0.38806  0.104478       0.0   \n15       0.0       0.0       0.0       0.0       0.0       0.0  0.325581   \n\n        D2I2      D2D1      D2D2 Total  \n0        0.0       0.0       0.0   1.0  \n1        0.0       0.0       0.0   1.0  \n2        0.0       0.0       0.0   1.0  \n3   0.279412  0.264706  0.235294   1.0  \n4        0.0       0.0       0.0   1.0  \n5        0.0       0.0       0.0   1.0  \n6        0.0       0.0       0.0   1.0  \n7       0.24      0.18      0.28   1.0  \n8        0.0       0.0       0.0   1.0  \n9        0.0       0.0       0.0   1.0  \n10       0.0       0.0       0.0   1.0  \n11  0.211268  0.323944  0.126761   1.0  \n12       0.0       0.0       0.0   1.0  \n13       0.0       0.0       0.0   1.0  \n14       0.0       0.0       0.0   1.0  \n15  0.186047  0.395349  0.093023   1.0  \n"
        }
      ],
      "execution_count": 58,
      "metadata": {
        "source_hash": "9a70dbc3",
        "execution_start": 1724126025819,
        "execution_millis": 10293,
        "deepnote_to_be_reexecuted": false,
        "deepnote_app_block_visible": true,
        "cell_id": "e180d22c652f4e11bd529d02303823ca",
        "deepnote_cell_type": "code"
      }
    },
    {
      "cell_type": "code",
      "source": [
        "Markov2(\"MXN\")"
      ],
      "outputs": [
        {
          "output_type": "stream",
          "name": "stdout",
          "text": "Más del 25% de los datos son mayores a 5\n----------------------------------------------------------------------------------------------------------------------------------------------------------------------------------------------------------------------------------------------------------------------------------------------------------------------------------------------------------------------------------------------------------------\nPrueba de hipótesis\nNo se rechaza Ho\n------------------------------------------------------------------------------------------------------------------------------------------------------------------------------------------------------------------------------------------------------------------------------------------------------------\nMatriz de transición\n   Estados      I1I1      I1I2      I1D1      I1D2      I2I1      I2I2  \\\n0     I1I1  0.397163  0.134752  0.262411  0.205674       0.0       0.0   \n1     I1I2       0.0       0.0       0.0       0.0  0.403846  0.096154   \n2     I1D1       0.0       0.0       0.0       0.0       0.0       0.0   \n3     I1D2       0.0       0.0       0.0       0.0       0.0       0.0   \n4     I2I1  0.386364  0.068182  0.340909  0.204545       0.0       0.0   \n5     I2I2       0.0       0.0       0.0       0.0       0.5  0.078947   \n6     I2D1       0.0       0.0       0.0       0.0       0.0       0.0   \n7     I2D2       0.0       0.0       0.0       0.0       0.0       0.0   \n8     D1I1  0.284483  0.163793  0.232759  0.318966       0.0       0.0   \n9     D1I2       0.0       0.0       0.0       0.0  0.369863  0.232877   \n10    D1D1       0.0       0.0       0.0       0.0       0.0       0.0   \n11    D1D2       0.0       0.0       0.0       0.0       0.0       0.0   \n12    D2I1  0.290323  0.112903  0.387097  0.209677       0.0       0.0   \n13    D2I2       0.0       0.0       0.0       0.0    0.2625    0.1625   \n14    D2D1       0.0       0.0       0.0       0.0       0.0       0.0   \n15    D2D2       0.0       0.0       0.0       0.0       0.0       0.0   \n\n        I2D1      I2D2      D1I1      D1I2      D1D1      D1D2      D2I1  \\\n0        0.0       0.0       0.0       0.0       0.0       0.0       0.0   \n1   0.211538  0.288462       0.0       0.0       0.0       0.0       0.0   \n2        0.0       0.0  0.279661  0.254237   0.29661  0.169492       0.0   \n3        0.0       0.0       0.0       0.0       0.0       0.0  0.185567   \n4        0.0       0.0       0.0       0.0       0.0       0.0       0.0   \n5   0.315789  0.105263       0.0       0.0       0.0       0.0       0.0   \n6        0.0       0.0  0.298246  0.192982  0.263158  0.245614       0.0   \n7        0.0       0.0       0.0       0.0       0.0       0.0  0.166667   \n8        0.0       0.0       0.0       0.0       0.0       0.0       0.0   \n9   0.136986  0.260274       0.0       0.0       0.0       0.0       0.0   \n10       0.0       0.0  0.382353  0.196078  0.294118  0.127451       0.0   \n11       0.0       0.0       0.0       0.0       0.0       0.0  0.396552   \n12       0.0       0.0       0.0       0.0       0.0       0.0       0.0   \n13       0.3     0.275       0.0       0.0       0.0       0.0       0.0   \n14       0.0       0.0     0.375  0.166667  0.305556  0.152778       0.0   \n15       0.0       0.0       0.0       0.0       0.0       0.0  0.354839   \n\n        D2I2      D2D1      D2D2 Total  \n0        0.0       0.0       0.0   1.0  \n1        0.0       0.0       0.0   1.0  \n2        0.0       0.0       0.0   1.0  \n3   0.412371   0.28866  0.113402   1.0  \n4        0.0       0.0       0.0   1.0  \n5        0.0       0.0       0.0   1.0  \n6        0.0       0.0       0.0   1.0  \n7   0.333333  0.333333  0.166667   1.0  \n8        0.0       0.0       0.0   1.0  \n9        0.0       0.0       0.0   1.0  \n10       0.0       0.0       0.0   1.0  \n11  0.258621  0.258621  0.086207   1.0  \n12       0.0       0.0       0.0   1.0  \n13       0.0       0.0       0.0   1.0  \n14       0.0       0.0       0.0   1.0  \n15  0.193548  0.290323   0.16129   1.0  \n"
        }
      ],
      "execution_count": 59,
      "metadata": {
        "source_hash": "223d1054",
        "execution_start": 1724126036116,
        "execution_millis": 10419,
        "deepnote_to_be_reexecuted": false,
        "deepnote_app_block_visible": true,
        "cell_id": "0aac2ccd4a2c49a09c824faf374da89d",
        "deepnote_cell_type": "code"
      }
    },
    {
      "cell_type": "code",
      "source": [
        "Markov2(\"CHF\")"
      ],
      "outputs": [
        {
          "output_type": "stream",
          "name": "stdout",
          "text": "Más del 25% de los datos son mayores a 5\n----------------------------------------------------------------------------------------------------------------------------------------------------------------------------------------------------------------------------------------------------------------------------------------------------------------------------------------------------------------------------------------------------------------\nPrueba de hipótesis\nNo se rechaza Ho\n------------------------------------------------------------------------------------------------------------------------------------------------------------------------------------------------------------------------------------------------------------------------------------------------------------\nMatriz de transición\n   Estados      I2I2      I2I1      I2D2      I2D1      I1I2      I1I1  \\\n0     I2I2  0.145833  0.395833     0.125  0.333333       0.0       0.0   \n1     I2I1       0.0       0.0       0.0       0.0  0.097222  0.430556   \n2     I2D2       0.0       0.0       0.0       0.0       0.0       0.0   \n3     I2D1       0.0       0.0       0.0       0.0       0.0       0.0   \n4     I1I2  0.241935  0.290323   0.16129  0.306452       0.0       0.0   \n5     I1I1       0.0       0.0       0.0       0.0  0.137681  0.333333   \n6     I1D2       0.0       0.0       0.0       0.0       0.0       0.0   \n7     I1D1       0.0       0.0       0.0       0.0       0.0       0.0   \n8     D2I2  0.209677  0.258065  0.290323  0.241935       0.0       0.0   \n9     D2I1       0.0       0.0       0.0       0.0  0.181818  0.348485   \n10    D2D2       0.0       0.0       0.0       0.0       0.0       0.0   \n11    D2D1       0.0       0.0       0.0       0.0       0.0       0.0   \n12    D1I2  0.190476  0.301587  0.238095  0.269841       0.0       0.0   \n13    D1I1       0.0       0.0       0.0       0.0  0.193548  0.314516   \n14    D1D2       0.0       0.0       0.0       0.0       0.0       0.0   \n15    D1D1       0.0       0.0       0.0       0.0       0.0       0.0   \n\n        I1D2      I1D1      D2I2      D2I1      D2D2      D2D1      D1I2  \\\n0        0.0       0.0       0.0       0.0       0.0       0.0       0.0   \n1   0.194444  0.277778       0.0       0.0       0.0       0.0       0.0   \n2        0.0       0.0  0.244898  0.285714  0.183673  0.285714       0.0   \n3        0.0       0.0       0.0       0.0       0.0       0.0   0.19403   \n4        0.0       0.0       0.0       0.0       0.0       0.0       0.0   \n5    0.26087  0.268116       0.0       0.0       0.0       0.0       0.0   \n6        0.0       0.0  0.304878  0.231707  0.219512  0.243902       0.0   \n7        0.0       0.0       0.0       0.0       0.0       0.0  0.205128   \n8        0.0       0.0       0.0       0.0       0.0       0.0       0.0   \n9   0.136364  0.333333       0.0       0.0       0.0       0.0       0.0   \n10       0.0       0.0  0.205128  0.282051  0.128205  0.384615       0.0   \n11       0.0       0.0       0.0       0.0       0.0       0.0       0.1   \n12       0.0       0.0       0.0       0.0       0.0       0.0       0.0   \n13  0.185484  0.306452       0.0       0.0       0.0       0.0       0.0   \n14       0.0       0.0  0.253731  0.328358  0.104478  0.313433       0.0   \n15       0.0       0.0       0.0       0.0       0.0       0.0  0.159664   \n\n        D1I1      D1D2      D1D1 Total  \n0        0.0       0.0       0.0   1.0  \n1        0.0       0.0       0.0   1.0  \n2        0.0       0.0       0.0   1.0  \n3   0.268657  0.253731  0.283582   1.0  \n4        0.0       0.0       0.0   1.0  \n5        0.0       0.0       0.0   1.0  \n6        0.0       0.0       0.0   1.0  \n7   0.333333  0.213675  0.247863   1.0  \n8        0.0       0.0       0.0   1.0  \n9        0.0       0.0       0.0   1.0  \n10       0.0       0.0       0.0   1.0  \n11  0.442857  0.128571  0.328571   1.0  \n12       0.0       0.0       0.0   1.0  \n13       0.0       0.0       0.0   1.0  \n14       0.0       0.0       0.0   1.0  \n15  0.302521  0.134454  0.403361   1.0  \n"
        }
      ],
      "execution_count": 60,
      "metadata": {
        "source_hash": "d071c14",
        "execution_start": 1724126046550,
        "execution_millis": 10303,
        "deepnote_to_be_reexecuted": false,
        "deepnote_app_block_visible": true,
        "cell_id": "32bc61be121949f48c01c976ab923f28",
        "deepnote_cell_type": "code"
      }
    },
    {
      "cell_type": "code",
      "source": [
        "Markov2(\"GBP\")"
      ],
      "outputs": [
        {
          "output_type": "stream",
          "name": "stdout",
          "text": "Más del 25% de los datos son mayores a 5\n----------------------------------------------------------------------------------------------------------------------------------------------------------------------------------------------------------------------------------------------------------------------------------------------------------------------------------------------------------------------------------------------------------------\nPrueba de hipótesis\nNo se rechaza Ho\n------------------------------------------------------------------------------------------------------------------------------------------------------------------------------------------------------------------------------------------------------------------------------------------------------------\nMatriz de transición\n   Estados      I2I2      I2I1      I2D1      I2D2      I1I2      I1I1  \\\n0     I2I2  0.171429  0.428571  0.257143  0.142857       0.0       0.0   \n1     I2I1       0.0       0.0       0.0       0.0  0.089744  0.423077   \n2     I2D1       0.0       0.0       0.0       0.0       0.0       0.0   \n3     I2D2       0.0       0.0       0.0       0.0       0.0       0.0   \n4     I1I2       0.1  0.366667      0.25  0.283333       0.0       0.0   \n5     I1I1       0.0       0.0       0.0       0.0  0.154472  0.268293   \n6     I1D1       0.0       0.0       0.0       0.0       0.0       0.0   \n7     I1D2       0.0       0.0       0.0       0.0       0.0       0.0   \n8     D1I2      0.15     0.325       0.2     0.325       0.0       0.0   \n9     D1I1       0.0       0.0       0.0       0.0  0.142857  0.349206   \n10    D1D1       0.0       0.0       0.0       0.0       0.0       0.0   \n11    D1D2       0.0       0.0       0.0       0.0       0.0       0.0   \n12    D2I2  0.178571  0.267857  0.285714  0.267857       0.0       0.0   \n13    D2I1       0.0       0.0       0.0       0.0  0.242424   0.19697   \n14    D2D1       0.0       0.0       0.0       0.0       0.0       0.0   \n15    D2D2       0.0       0.0       0.0       0.0       0.0       0.0   \n\n        I1D1      I1D2      D1I2      D1I1      D1D1      D1D2      D2I2  \\\n0        0.0       0.0       0.0       0.0       0.0       0.0       0.0   \n1   0.333333  0.153846       0.0       0.0       0.0       0.0       0.0   \n2        0.0       0.0  0.214286  0.267857  0.392857     0.125       0.0   \n3        0.0       0.0       0.0       0.0       0.0       0.0  0.238095   \n4        0.0       0.0       0.0       0.0       0.0       0.0       0.0   \n5   0.300813  0.276423       0.0       0.0       0.0       0.0       0.0   \n6        0.0       0.0  0.215385  0.315385       0.3  0.169231       0.0   \n7        0.0       0.0       0.0       0.0       0.0       0.0      0.25   \n8        0.0       0.0       0.0       0.0       0.0       0.0       0.0   \n9   0.333333  0.174603       0.0       0.0       0.0       0.0       0.0   \n10       0.0       0.0  0.240602  0.315789  0.323308  0.120301       0.0   \n11       0.0       0.0       0.0       0.0       0.0       0.0   0.27451   \n12       0.0       0.0       0.0       0.0       0.0       0.0       0.0   \n13  0.378788  0.181818       0.0       0.0       0.0       0.0       0.0   \n14       0.0       0.0     0.125  0.388889  0.402778  0.083333       0.0   \n15       0.0       0.0       0.0       0.0       0.0       0.0  0.194444   \n\n        D2I1      D2D1      D2D2 Total  \n0        0.0       0.0       0.0   1.0  \n1        0.0       0.0       0.0   1.0  \n2        0.0       0.0       0.0   1.0  \n3   0.269841   0.31746  0.174603   1.0  \n4        0.0       0.0       0.0   1.0  \n5        0.0       0.0       0.0   1.0  \n6        0.0       0.0       0.0   1.0  \n7      0.275    0.3375    0.1375   1.0  \n8        0.0       0.0       0.0   1.0  \n9        0.0       0.0       0.0   1.0  \n10       0.0       0.0       0.0   1.0  \n11  0.313725  0.215686  0.196078   1.0  \n12       0.0       0.0       0.0   1.0  \n13       0.0       0.0       0.0   1.0  \n14       0.0       0.0       0.0   1.0  \n15  0.305556  0.388889  0.111111   1.0  \n"
        }
      ],
      "execution_count": 61,
      "metadata": {
        "source_hash": "cefd4a41",
        "execution_start": 1724126056857,
        "execution_millis": 10329,
        "deepnote_to_be_reexecuted": false,
        "deepnote_app_block_visible": true,
        "cell_id": "abec91d553ef407892dec4d5f664f16e",
        "deepnote_cell_type": "code"
      }
    },
    {
      "cell_type": "markdown",
      "source": [
        "<h1 style=\"text-align: center;\">Conclusiones</h1>\n",
        "\n",
        "\n"
      ],
      "metadata": {
        "deepnote_app_block_visible": true,
        "cell_id": "73c69cd4affb4dd7a0b52534f1f1a5b8",
        "deepnote_cell_type": "markdown"
      }
    },
    {
      "cell_type": "markdown",
      "source": [
        "El análisis de las divisas reveló que la mayoría mantienen una estabilidad considerable, con excepción de la Libra Esterlina (GBP), que mostró valores atípicos significativos. La GBP presentó una distribución asimétrica con algunos valores extremos. En contraste, el Franco Suizo (CHF), el Yen Japonés (JPY) y el Peso Mexicano (MXN) demostraron mayor estabilidad en sus distribuciones, aunque el MXN se evidencia una distribución bimodal que sugiere fluctuaciones considerables en su valor, posiblemente debido a factores económicos regionales.\n",
        "\n",
        "Las pruebas de homogeneidad no rechazaron la hipótesis nula para ninguna de las divisas, lo que sugiere que las transiciones entre estados son homogéneas a lo largo del tiempo, igualmente que las pruebas de Markov de primer orden no rechazaron la hipótesis nula para ninguna de las divisas lo que sugiere que para todas las matrices de transición de cada una de las divisas dependen únicamente del estado actual y no de los estados anteriores.Con las matrices de transición se puede hacer predicciones confiables para saber si alguna divisa despues de un tiempo puede llegar a una devalorización notable hasta un incremento notable."
      ],
      "metadata": {
        "deepnote_app_block_visible": true,
        "cell_id": "8146b54eae954548be028bd9e9fa4317",
        "deepnote_cell_type": "markdown"
      }
    },
    {
      "cell_type": "markdown",
      "source": [
        "<h1 style=\"text-align: center;\">Referencias</h1>\n",
        "\n",
        "- Aronsson, M., & Folkesson, A. (2023). Stock market analysis with a Markovian approach: Properties and prediction of OMXS30. https://kth.diva-portal.org/smash/get/diva2:1823899/FULLTEXT01.pdf\n",
        "\n",
        "\n",
        "- Banrep. (2024). Billetes y Monedas - Monedas Disponibles. https://www.banrep.gov.co/es/estadisticas/monedas-disponibles\n",
        "\n",
        "- Svoboda, M., & Říhová, P. (2021). Stock price prediction using markov chains analysis with varying state space on data from the czech republic. E+M Ekonomie a Management, 24, 142-155. https://doi.org/10.15240/tul/001/2021-4-009\n",
        "\n",
        "- Rodríguez-González, A., García-Crespo, Á., Colomo-Palacios, R., Guldrís Iglesias, F., & Gómez-Berbís, J. M. (2011). CAST: Using neural networks to improve trading systems based on technical analysis by means of the RSI financial indicator. Expert Systems with Applications, 38 (9), 11489-11500. https://doi.org/https://doi.org/10.1016/j.eswa.2011.03.023"
      ],
      "metadata": {
        "deepnote_app_block_visible": true,
        "cell_id": "83add374b4bc464b867d51ed6f2265e3",
        "deepnote_cell_type": "markdown"
      }
    },
    {
      "cell_type": "markdown",
      "source": [
        "<a style='text-decoration:none;line-height:16px;display:flex;color:#5B5B62;padding:10px;justify-content:end;' href='https://deepnote.com?utm_source=created-in-deepnote-cell&projectId=8e53a366-4c9f-4220-af50-754c7155bbb4' target=\"_blank\">\n",
        "<img alt='Created in deepnote.com' style='display:inline;max-height:16px;margin:0px;margin-right:7.5px;' src='data:image/svg+xml;base64,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' > </img>\n",
        "Created in <span style='font-weight:600;margin-left:4px;'>Deepnote</span></a>"
      ],
      "metadata": {
        "created_in_deepnote_cell": true,
        "deepnote_cell_type": "markdown"
      }
    }
  ],
  "metadata": {
    "deepnote_persisted_session": {
      "createdAt": "2024-08-20T03:15:23.802Z"
    },
    "deepnote_app_layout": "powerful-article",
    "deepnote_app_reactivity_enabled": true,
    "deepnote_notebook_id": "872b3b022cab4526891e3c86df23f0c2",
    "deepnote_execution_queue": [],
    "nteract": {
      "version": "nteract-front-end@1.0.0"
    }
  },
  "nbformat": 4,
  "nbformat_minor": 0
}